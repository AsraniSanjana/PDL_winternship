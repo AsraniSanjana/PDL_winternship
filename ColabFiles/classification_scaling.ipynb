{
  "nbformat": 4,
  "nbformat_minor": 0,
  "metadata": {
    "colab": {
      "provenance": [],
      "authorship_tag": "ABX9TyPTqAnk5/+gy6vLWwyb1GMr",
      "include_colab_link": true
    },
    "kernelspec": {
      "name": "python3",
      "display_name": "Python 3"
    },
    "language_info": {
      "name": "python"
    }
  },
  "cells": [
    {
      "cell_type": "markdown",
      "metadata": {
        "id": "view-in-github",
        "colab_type": "text"
      },
      "source": [
        "<a href=\"https://colab.research.google.com/github/AsraniSanjana/PDL_winternship/blob/main/ColabFiles/classification_scaling.ipynb\" target=\"_parent\"><img src=\"https://colab.research.google.com/assets/colab-badge.svg\" alt=\"Open In Colab\"/></a>"
      ]
    },
    {
      "cell_type": "markdown",
      "source": [
        "# Task: Making a Classification Model and converting it into circuit python code to be run in arduino Using **mc2gen** library\n",
        "\n",
        "With Scaling using **OHE** (get_dummies)"
      ],
      "metadata": {
        "id": "LwvR77l_O-5u"
      }
    },
    {
      "cell_type": "markdown",
      "source": [
        "# **Dataset**: https://www.kaggle.com/datasets/burak3ergun/loan-data-set\n",
        "\n",
        "**Features**:\n",
        "\n",
        "Loan_ID\n",
        "\n",
        "Gender\n",
        "\n",
        "Married\n",
        "\n",
        "Dependents\n",
        "\n",
        "Education\n",
        "\n",
        "Self_Employed\n",
        "\n",
        "ApplicantIncome\n",
        "\n",
        "CoapplicantIncome\n",
        "\n",
        "LoanAmount\n",
        "\n",
        "Loan_Amount_Term\n",
        "\n",
        "Credit_History\n",
        "\n",
        "Property_Area\n",
        "\n",
        "Loan_Status\n",
        "\n",
        "**Data has dropped Load_id**\n",
        "\n",
        "**X has dropped Load_id and Loan_status**\n",
        "\n",
        "**y has Loan_status**\n"
      ],
      "metadata": {
        "id": "-d3wHaXMO1LH"
      }
    },
    {
      "cell_type": "code",
      "execution_count": null,
      "metadata": {
        "id": "YFCHsX9EikXL",
        "colab": {
          "base_uri": "https://localhost:8080/"
        },
        "outputId": "0d66592a-db21-47e8-8256-ba73548e00c9"
      },
      "outputs": [
        {
          "output_type": "stream",
          "name": "stdout",
          "text": [
            "Requirement already satisfied: m2cgen in /usr/local/lib/python3.10/dist-packages (0.10.0)\n",
            "Requirement already satisfied: numpy in /usr/local/lib/python3.10/dist-packages (from m2cgen) (1.23.5)\n"
          ]
        }
      ],
      "source": [
        "!pip install m2cgen\n",
        "import pandas as pd\n",
        "import numpy as np\n",
        "from sklearn.preprocessing import StandardScaler, LabelEncoder\n",
        "from sklearn.model_selection import train_test_split\n",
        "from sklearn.linear_model import LogisticRegression\n",
        "import m2cgen as m2c\n",
        "import warnings                        # To ignore any warnings\n",
        "warnings.filterwarnings(\"ignore\")"
      ]
    },
    {
      "cell_type": "code",
      "source": [
        "data = pd.read_csv(\"loan_data_set.csv\")"
      ],
      "metadata": {
        "id": "LYILUBpXo4gg"
      },
      "execution_count": null,
      "outputs": []
    },
    {
      "cell_type": "code",
      "source": [
        "def preprocessing(data):\n",
        "\n",
        "    # replace with numerical values\n",
        "    data['Dependents'].replace('3+', 3,inplace=True)\n",
        "    data['Loan_Status'].replace('N', 0,inplace=True)\n",
        "    data['Loan_Status'].replace('Y', 1,inplace=True)\n",
        "\n",
        "    # handle missing data\n",
        "    data['Gender'].fillna(data['Gender'].mode()[0], inplace=True)\n",
        "    data['Married'].fillna(data['Married'].mode()[0], inplace=True)\n",
        "    data['Dependents'].fillna(data['Dependents'].mode()[0], inplace=True)\n",
        "    data['Self_Employed'].fillna(data['Self_Employed'].mode()[0], inplace=True)\n",
        "    data['Credit_History'].fillna(data['Credit_History'].mode()[0], inplace=True)\n",
        "    data['Loan_Amount_Term'].fillna(data['Loan_Amount_Term'].mode()[0], inplace=True)\n",
        "    data['LoanAmount'].fillna(data['LoanAmount'].median(), inplace=True)\n",
        "\n",
        "    # drop ID column\n",
        "    data = data.drop('Loan_ID',axis=1)\n",
        "\n",
        "    #split features and target\n",
        "    X = data.drop('Loan_Status',axis=1)\n",
        "    y = data.Loan_Status.values\n",
        "\n",
        "    #scale the  features\n",
        "    X  = pd.get_dummies(X,columns=[\"Gender\",\"Married\",\"Education\",\"Self_Employed\",\"Property_Area\"])\n",
        "    # X = StandardScaler().fit_transform(X)\n",
        "\n",
        "\n",
        "    return X,y"
      ],
      "metadata": {
        "id": "peCwJXp1pgBF"
      },
      "execution_count": null,
      "outputs": []
    },
    {
      "cell_type": "code",
      "source": [
        "X,y = preprocessing(data)"
      ],
      "metadata": {
        "id": "MBtHa1ukphsm"
      },
      "execution_count": null,
      "outputs": []
    },
    {
      "cell_type": "code",
      "source": [
        "X_train, X_test, y_train, y_test = train_test_split(X, y, test_size=0.1)"
      ],
      "metadata": {
        "id": "Q11Gy9zdpjpF"
      },
      "execution_count": null,
      "outputs": []
    },
    {
      "cell_type": "code",
      "source": [
        "X"
      ],
      "metadata": {
        "colab": {
          "base_uri": "https://localhost:8080/",
          "height": 461
        },
        "id": "glsj8Cx-6EGI",
        "outputId": "4d4e8684-09ff-482c-f9ba-6360b3eceb17"
      },
      "execution_count": null,
      "outputs": [
        {
          "output_type": "execute_result",
          "data": {
            "text/plain": [
              "    Dependents  ApplicantIncome  CoapplicantIncome  LoanAmount  \\\n",
              "0            0             5849                0.0       128.0   \n",
              "1            1             4583             1508.0       128.0   \n",
              "2            0             3000                0.0        66.0   \n",
              "3            0             2583             2358.0       120.0   \n",
              "4            0             6000                0.0       141.0   \n",
              "..         ...              ...                ...         ...   \n",
              "609          0             2900                0.0        71.0   \n",
              "610          3             4106                0.0        40.0   \n",
              "611          1             8072              240.0       253.0   \n",
              "612          2             7583                0.0       187.0   \n",
              "613          0             4583                0.0       133.0   \n",
              "\n",
              "     Loan_Amount_Term  Credit_History  Gender_Female  Gender_Male  Married_No  \\\n",
              "0               360.0             1.0              0            1           1   \n",
              "1               360.0             1.0              0            1           0   \n",
              "2               360.0             1.0              0            1           0   \n",
              "3               360.0             1.0              0            1           0   \n",
              "4               360.0             1.0              0            1           1   \n",
              "..                ...             ...            ...          ...         ...   \n",
              "609             360.0             1.0              1            0           1   \n",
              "610             180.0             1.0              0            1           0   \n",
              "611             360.0             1.0              0            1           0   \n",
              "612             360.0             1.0              0            1           0   \n",
              "613             360.0             0.0              1            0           1   \n",
              "\n",
              "     Married_Yes  Education_Graduate  Education_Not Graduate  \\\n",
              "0              0                   1                       0   \n",
              "1              1                   1                       0   \n",
              "2              1                   1                       0   \n",
              "3              1                   0                       1   \n",
              "4              0                   1                       0   \n",
              "..           ...                 ...                     ...   \n",
              "609            0                   1                       0   \n",
              "610            1                   1                       0   \n",
              "611            1                   1                       0   \n",
              "612            1                   1                       0   \n",
              "613            0                   1                       0   \n",
              "\n",
              "     Self_Employed_No  Self_Employed_Yes  Property_Area_Rural  \\\n",
              "0                   1                  0                    0   \n",
              "1                   1                  0                    1   \n",
              "2                   0                  1                    0   \n",
              "3                   1                  0                    0   \n",
              "4                   1                  0                    0   \n",
              "..                ...                ...                  ...   \n",
              "609                 1                  0                    1   \n",
              "610                 1                  0                    1   \n",
              "611                 1                  0                    0   \n",
              "612                 1                  0                    0   \n",
              "613                 0                  1                    0   \n",
              "\n",
              "     Property_Area_Semiurban  Property_Area_Urban  \n",
              "0                          0                    1  \n",
              "1                          0                    0  \n",
              "2                          0                    1  \n",
              "3                          0                    1  \n",
              "4                          0                    1  \n",
              "..                       ...                  ...  \n",
              "609                        0                    0  \n",
              "610                        0                    0  \n",
              "611                        0                    1  \n",
              "612                        0                    1  \n",
              "613                        1                    0  \n",
              "\n",
              "[614 rows x 17 columns]"
            ],
            "text/html": [
              "\n",
              "  <div id=\"df-52f521c2-2560-48a4-a5ec-6cce27936711\" class=\"colab-df-container\">\n",
              "    <div>\n",
              "<style scoped>\n",
              "    .dataframe tbody tr th:only-of-type {\n",
              "        vertical-align: middle;\n",
              "    }\n",
              "\n",
              "    .dataframe tbody tr th {\n",
              "        vertical-align: top;\n",
              "    }\n",
              "\n",
              "    .dataframe thead th {\n",
              "        text-align: right;\n",
              "    }\n",
              "</style>\n",
              "<table border=\"1\" class=\"dataframe\">\n",
              "  <thead>\n",
              "    <tr style=\"text-align: right;\">\n",
              "      <th></th>\n",
              "      <th>Dependents</th>\n",
              "      <th>ApplicantIncome</th>\n",
              "      <th>CoapplicantIncome</th>\n",
              "      <th>LoanAmount</th>\n",
              "      <th>Loan_Amount_Term</th>\n",
              "      <th>Credit_History</th>\n",
              "      <th>Gender_Female</th>\n",
              "      <th>Gender_Male</th>\n",
              "      <th>Married_No</th>\n",
              "      <th>Married_Yes</th>\n",
              "      <th>Education_Graduate</th>\n",
              "      <th>Education_Not Graduate</th>\n",
              "      <th>Self_Employed_No</th>\n",
              "      <th>Self_Employed_Yes</th>\n",
              "      <th>Property_Area_Rural</th>\n",
              "      <th>Property_Area_Semiurban</th>\n",
              "      <th>Property_Area_Urban</th>\n",
              "    </tr>\n",
              "  </thead>\n",
              "  <tbody>\n",
              "    <tr>\n",
              "      <th>0</th>\n",
              "      <td>0</td>\n",
              "      <td>5849</td>\n",
              "      <td>0.0</td>\n",
              "      <td>128.0</td>\n",
              "      <td>360.0</td>\n",
              "      <td>1.0</td>\n",
              "      <td>0</td>\n",
              "      <td>1</td>\n",
              "      <td>1</td>\n",
              "      <td>0</td>\n",
              "      <td>1</td>\n",
              "      <td>0</td>\n",
              "      <td>1</td>\n",
              "      <td>0</td>\n",
              "      <td>0</td>\n",
              "      <td>0</td>\n",
              "      <td>1</td>\n",
              "    </tr>\n",
              "    <tr>\n",
              "      <th>1</th>\n",
              "      <td>1</td>\n",
              "      <td>4583</td>\n",
              "      <td>1508.0</td>\n",
              "      <td>128.0</td>\n",
              "      <td>360.0</td>\n",
              "      <td>1.0</td>\n",
              "      <td>0</td>\n",
              "      <td>1</td>\n",
              "      <td>0</td>\n",
              "      <td>1</td>\n",
              "      <td>1</td>\n",
              "      <td>0</td>\n",
              "      <td>1</td>\n",
              "      <td>0</td>\n",
              "      <td>1</td>\n",
              "      <td>0</td>\n",
              "      <td>0</td>\n",
              "    </tr>\n",
              "    <tr>\n",
              "      <th>2</th>\n",
              "      <td>0</td>\n",
              "      <td>3000</td>\n",
              "      <td>0.0</td>\n",
              "      <td>66.0</td>\n",
              "      <td>360.0</td>\n",
              "      <td>1.0</td>\n",
              "      <td>0</td>\n",
              "      <td>1</td>\n",
              "      <td>0</td>\n",
              "      <td>1</td>\n",
              "      <td>1</td>\n",
              "      <td>0</td>\n",
              "      <td>0</td>\n",
              "      <td>1</td>\n",
              "      <td>0</td>\n",
              "      <td>0</td>\n",
              "      <td>1</td>\n",
              "    </tr>\n",
              "    <tr>\n",
              "      <th>3</th>\n",
              "      <td>0</td>\n",
              "      <td>2583</td>\n",
              "      <td>2358.0</td>\n",
              "      <td>120.0</td>\n",
              "      <td>360.0</td>\n",
              "      <td>1.0</td>\n",
              "      <td>0</td>\n",
              "      <td>1</td>\n",
              "      <td>0</td>\n",
              "      <td>1</td>\n",
              "      <td>0</td>\n",
              "      <td>1</td>\n",
              "      <td>1</td>\n",
              "      <td>0</td>\n",
              "      <td>0</td>\n",
              "      <td>0</td>\n",
              "      <td>1</td>\n",
              "    </tr>\n",
              "    <tr>\n",
              "      <th>4</th>\n",
              "      <td>0</td>\n",
              "      <td>6000</td>\n",
              "      <td>0.0</td>\n",
              "      <td>141.0</td>\n",
              "      <td>360.0</td>\n",
              "      <td>1.0</td>\n",
              "      <td>0</td>\n",
              "      <td>1</td>\n",
              "      <td>1</td>\n",
              "      <td>0</td>\n",
              "      <td>1</td>\n",
              "      <td>0</td>\n",
              "      <td>1</td>\n",
              "      <td>0</td>\n",
              "      <td>0</td>\n",
              "      <td>0</td>\n",
              "      <td>1</td>\n",
              "    </tr>\n",
              "    <tr>\n",
              "      <th>...</th>\n",
              "      <td>...</td>\n",
              "      <td>...</td>\n",
              "      <td>...</td>\n",
              "      <td>...</td>\n",
              "      <td>...</td>\n",
              "      <td>...</td>\n",
              "      <td>...</td>\n",
              "      <td>...</td>\n",
              "      <td>...</td>\n",
              "      <td>...</td>\n",
              "      <td>...</td>\n",
              "      <td>...</td>\n",
              "      <td>...</td>\n",
              "      <td>...</td>\n",
              "      <td>...</td>\n",
              "      <td>...</td>\n",
              "      <td>...</td>\n",
              "    </tr>\n",
              "    <tr>\n",
              "      <th>609</th>\n",
              "      <td>0</td>\n",
              "      <td>2900</td>\n",
              "      <td>0.0</td>\n",
              "      <td>71.0</td>\n",
              "      <td>360.0</td>\n",
              "      <td>1.0</td>\n",
              "      <td>1</td>\n",
              "      <td>0</td>\n",
              "      <td>1</td>\n",
              "      <td>0</td>\n",
              "      <td>1</td>\n",
              "      <td>0</td>\n",
              "      <td>1</td>\n",
              "      <td>0</td>\n",
              "      <td>1</td>\n",
              "      <td>0</td>\n",
              "      <td>0</td>\n",
              "    </tr>\n",
              "    <tr>\n",
              "      <th>610</th>\n",
              "      <td>3</td>\n",
              "      <td>4106</td>\n",
              "      <td>0.0</td>\n",
              "      <td>40.0</td>\n",
              "      <td>180.0</td>\n",
              "      <td>1.0</td>\n",
              "      <td>0</td>\n",
              "      <td>1</td>\n",
              "      <td>0</td>\n",
              "      <td>1</td>\n",
              "      <td>1</td>\n",
              "      <td>0</td>\n",
              "      <td>1</td>\n",
              "      <td>0</td>\n",
              "      <td>1</td>\n",
              "      <td>0</td>\n",
              "      <td>0</td>\n",
              "    </tr>\n",
              "    <tr>\n",
              "      <th>611</th>\n",
              "      <td>1</td>\n",
              "      <td>8072</td>\n",
              "      <td>240.0</td>\n",
              "      <td>253.0</td>\n",
              "      <td>360.0</td>\n",
              "      <td>1.0</td>\n",
              "      <td>0</td>\n",
              "      <td>1</td>\n",
              "      <td>0</td>\n",
              "      <td>1</td>\n",
              "      <td>1</td>\n",
              "      <td>0</td>\n",
              "      <td>1</td>\n",
              "      <td>0</td>\n",
              "      <td>0</td>\n",
              "      <td>0</td>\n",
              "      <td>1</td>\n",
              "    </tr>\n",
              "    <tr>\n",
              "      <th>612</th>\n",
              "      <td>2</td>\n",
              "      <td>7583</td>\n",
              "      <td>0.0</td>\n",
              "      <td>187.0</td>\n",
              "      <td>360.0</td>\n",
              "      <td>1.0</td>\n",
              "      <td>0</td>\n",
              "      <td>1</td>\n",
              "      <td>0</td>\n",
              "      <td>1</td>\n",
              "      <td>1</td>\n",
              "      <td>0</td>\n",
              "      <td>1</td>\n",
              "      <td>0</td>\n",
              "      <td>0</td>\n",
              "      <td>0</td>\n",
              "      <td>1</td>\n",
              "    </tr>\n",
              "    <tr>\n",
              "      <th>613</th>\n",
              "      <td>0</td>\n",
              "      <td>4583</td>\n",
              "      <td>0.0</td>\n",
              "      <td>133.0</td>\n",
              "      <td>360.0</td>\n",
              "      <td>0.0</td>\n",
              "      <td>1</td>\n",
              "      <td>0</td>\n",
              "      <td>1</td>\n",
              "      <td>0</td>\n",
              "      <td>1</td>\n",
              "      <td>0</td>\n",
              "      <td>0</td>\n",
              "      <td>1</td>\n",
              "      <td>0</td>\n",
              "      <td>1</td>\n",
              "      <td>0</td>\n",
              "    </tr>\n",
              "  </tbody>\n",
              "</table>\n",
              "<p>614 rows × 17 columns</p>\n",
              "</div>\n",
              "    <div class=\"colab-df-buttons\">\n",
              "\n",
              "  <div class=\"colab-df-container\">\n",
              "    <button class=\"colab-df-convert\" onclick=\"convertToInteractive('df-52f521c2-2560-48a4-a5ec-6cce27936711')\"\n",
              "            title=\"Convert this dataframe to an interactive table.\"\n",
              "            style=\"display:none;\">\n",
              "\n",
              "  <svg xmlns=\"http://www.w3.org/2000/svg\" height=\"24px\" viewBox=\"0 -960 960 960\">\n",
              "    <path d=\"M120-120v-720h720v720H120Zm60-500h600v-160H180v160Zm220 220h160v-160H400v160Zm0 220h160v-160H400v160ZM180-400h160v-160H180v160Zm440 0h160v-160H620v160ZM180-180h160v-160H180v160Zm440 0h160v-160H620v160Z\"/>\n",
              "  </svg>\n",
              "    </button>\n",
              "\n",
              "  <style>\n",
              "    .colab-df-container {\n",
              "      display:flex;\n",
              "      gap: 12px;\n",
              "    }\n",
              "\n",
              "    .colab-df-convert {\n",
              "      background-color: #E8F0FE;\n",
              "      border: none;\n",
              "      border-radius: 50%;\n",
              "      cursor: pointer;\n",
              "      display: none;\n",
              "      fill: #1967D2;\n",
              "      height: 32px;\n",
              "      padding: 0 0 0 0;\n",
              "      width: 32px;\n",
              "    }\n",
              "\n",
              "    .colab-df-convert:hover {\n",
              "      background-color: #E2EBFA;\n",
              "      box-shadow: 0px 1px 2px rgba(60, 64, 67, 0.3), 0px 1px 3px 1px rgba(60, 64, 67, 0.15);\n",
              "      fill: #174EA6;\n",
              "    }\n",
              "\n",
              "    .colab-df-buttons div {\n",
              "      margin-bottom: 4px;\n",
              "    }\n",
              "\n",
              "    [theme=dark] .colab-df-convert {\n",
              "      background-color: #3B4455;\n",
              "      fill: #D2E3FC;\n",
              "    }\n",
              "\n",
              "    [theme=dark] .colab-df-convert:hover {\n",
              "      background-color: #434B5C;\n",
              "      box-shadow: 0px 1px 3px 1px rgba(0, 0, 0, 0.15);\n",
              "      filter: drop-shadow(0px 1px 2px rgba(0, 0, 0, 0.3));\n",
              "      fill: #FFFFFF;\n",
              "    }\n",
              "  </style>\n",
              "\n",
              "    <script>\n",
              "      const buttonEl =\n",
              "        document.querySelector('#df-52f521c2-2560-48a4-a5ec-6cce27936711 button.colab-df-convert');\n",
              "      buttonEl.style.display =\n",
              "        google.colab.kernel.accessAllowed ? 'block' : 'none';\n",
              "\n",
              "      async function convertToInteractive(key) {\n",
              "        const element = document.querySelector('#df-52f521c2-2560-48a4-a5ec-6cce27936711');\n",
              "        const dataTable =\n",
              "          await google.colab.kernel.invokeFunction('convertToInteractive',\n",
              "                                                    [key], {});\n",
              "        if (!dataTable) return;\n",
              "\n",
              "        const docLinkHtml = 'Like what you see? Visit the ' +\n",
              "          '<a target=\"_blank\" href=https://colab.research.google.com/notebooks/data_table.ipynb>data table notebook</a>'\n",
              "          + ' to learn more about interactive tables.';\n",
              "        element.innerHTML = '';\n",
              "        dataTable['output_type'] = 'display_data';\n",
              "        await google.colab.output.renderOutput(dataTable, element);\n",
              "        const docLink = document.createElement('div');\n",
              "        docLink.innerHTML = docLinkHtml;\n",
              "        element.appendChild(docLink);\n",
              "      }\n",
              "    </script>\n",
              "  </div>\n",
              "\n",
              "\n",
              "<div id=\"df-f96a6b8e-af39-416d-8ca1-972d294125af\">\n",
              "  <button class=\"colab-df-quickchart\" onclick=\"quickchart('df-f96a6b8e-af39-416d-8ca1-972d294125af')\"\n",
              "            title=\"Suggest charts\"\n",
              "            style=\"display:none;\">\n",
              "\n",
              "<svg xmlns=\"http://www.w3.org/2000/svg\" height=\"24px\"viewBox=\"0 0 24 24\"\n",
              "     width=\"24px\">\n",
              "    <g>\n",
              "        <path d=\"M19 3H5c-1.1 0-2 .9-2 2v14c0 1.1.9 2 2 2h14c1.1 0 2-.9 2-2V5c0-1.1-.9-2-2-2zM9 17H7v-7h2v7zm4 0h-2V7h2v10zm4 0h-2v-4h2v4z\"/>\n",
              "    </g>\n",
              "</svg>\n",
              "  </button>\n",
              "\n",
              "<style>\n",
              "  .colab-df-quickchart {\n",
              "      --bg-color: #E8F0FE;\n",
              "      --fill-color: #1967D2;\n",
              "      --hover-bg-color: #E2EBFA;\n",
              "      --hover-fill-color: #174EA6;\n",
              "      --disabled-fill-color: #AAA;\n",
              "      --disabled-bg-color: #DDD;\n",
              "  }\n",
              "\n",
              "  [theme=dark] .colab-df-quickchart {\n",
              "      --bg-color: #3B4455;\n",
              "      --fill-color: #D2E3FC;\n",
              "      --hover-bg-color: #434B5C;\n",
              "      --hover-fill-color: #FFFFFF;\n",
              "      --disabled-bg-color: #3B4455;\n",
              "      --disabled-fill-color: #666;\n",
              "  }\n",
              "\n",
              "  .colab-df-quickchart {\n",
              "    background-color: var(--bg-color);\n",
              "    border: none;\n",
              "    border-radius: 50%;\n",
              "    cursor: pointer;\n",
              "    display: none;\n",
              "    fill: var(--fill-color);\n",
              "    height: 32px;\n",
              "    padding: 0;\n",
              "    width: 32px;\n",
              "  }\n",
              "\n",
              "  .colab-df-quickchart:hover {\n",
              "    background-color: var(--hover-bg-color);\n",
              "    box-shadow: 0 1px 2px rgba(60, 64, 67, 0.3), 0 1px 3px 1px rgba(60, 64, 67, 0.15);\n",
              "    fill: var(--button-hover-fill-color);\n",
              "  }\n",
              "\n",
              "  .colab-df-quickchart-complete:disabled,\n",
              "  .colab-df-quickchart-complete:disabled:hover {\n",
              "    background-color: var(--disabled-bg-color);\n",
              "    fill: var(--disabled-fill-color);\n",
              "    box-shadow: none;\n",
              "  }\n",
              "\n",
              "  .colab-df-spinner {\n",
              "    border: 2px solid var(--fill-color);\n",
              "    border-color: transparent;\n",
              "    border-bottom-color: var(--fill-color);\n",
              "    animation:\n",
              "      spin 1s steps(1) infinite;\n",
              "  }\n",
              "\n",
              "  @keyframes spin {\n",
              "    0% {\n",
              "      border-color: transparent;\n",
              "      border-bottom-color: var(--fill-color);\n",
              "      border-left-color: var(--fill-color);\n",
              "    }\n",
              "    20% {\n",
              "      border-color: transparent;\n",
              "      border-left-color: var(--fill-color);\n",
              "      border-top-color: var(--fill-color);\n",
              "    }\n",
              "    30% {\n",
              "      border-color: transparent;\n",
              "      border-left-color: var(--fill-color);\n",
              "      border-top-color: var(--fill-color);\n",
              "      border-right-color: var(--fill-color);\n",
              "    }\n",
              "    40% {\n",
              "      border-color: transparent;\n",
              "      border-right-color: var(--fill-color);\n",
              "      border-top-color: var(--fill-color);\n",
              "    }\n",
              "    60% {\n",
              "      border-color: transparent;\n",
              "      border-right-color: var(--fill-color);\n",
              "    }\n",
              "    80% {\n",
              "      border-color: transparent;\n",
              "      border-right-color: var(--fill-color);\n",
              "      border-bottom-color: var(--fill-color);\n",
              "    }\n",
              "    90% {\n",
              "      border-color: transparent;\n",
              "      border-bottom-color: var(--fill-color);\n",
              "    }\n",
              "  }\n",
              "</style>\n",
              "\n",
              "  <script>\n",
              "    async function quickchart(key) {\n",
              "      const quickchartButtonEl =\n",
              "        document.querySelector('#' + key + ' button');\n",
              "      quickchartButtonEl.disabled = true;  // To prevent multiple clicks.\n",
              "      quickchartButtonEl.classList.add('colab-df-spinner');\n",
              "      try {\n",
              "        const charts = await google.colab.kernel.invokeFunction(\n",
              "            'suggestCharts', [key], {});\n",
              "      } catch (error) {\n",
              "        console.error('Error during call to suggestCharts:', error);\n",
              "      }\n",
              "      quickchartButtonEl.classList.remove('colab-df-spinner');\n",
              "      quickchartButtonEl.classList.add('colab-df-quickchart-complete');\n",
              "    }\n",
              "    (() => {\n",
              "      let quickchartButtonEl =\n",
              "        document.querySelector('#df-f96a6b8e-af39-416d-8ca1-972d294125af button');\n",
              "      quickchartButtonEl.style.display =\n",
              "        google.colab.kernel.accessAllowed ? 'block' : 'none';\n",
              "    })();\n",
              "  </script>\n",
              "</div>\n",
              "    </div>\n",
              "  </div>\n"
            ]
          },
          "metadata": {},
          "execution_count": 36
        }
      ]
    },
    {
      "cell_type": "code",
      "source": [
        "X.shape"
      ],
      "metadata": {
        "colab": {
          "base_uri": "https://localhost:8080/"
        },
        "id": "eyIgcqnc6J33",
        "outputId": "441ef038-3acb-45a9-b9b0-72c9eb35f8c7"
      },
      "execution_count": null,
      "outputs": [
        {
          "output_type": "execute_result",
          "data": {
            "text/plain": [
              "(614, 17)"
            ]
          },
          "metadata": {},
          "execution_count": 28
        }
      ]
    },
    {
      "cell_type": "code",
      "source": [
        "y"
      ],
      "metadata": {
        "colab": {
          "base_uri": "https://localhost:8080/"
        },
        "id": "awih3EH76NFH",
        "outputId": "7d870967-016a-48e1-b740-eb4a4bd7760d"
      },
      "execution_count": null,
      "outputs": [
        {
          "output_type": "execute_result",
          "data": {
            "text/plain": [
              "array([1, 0, 1, 1, 1, 1, 1, 0, 1, 0, 1, 1, 1, 0, 1, 1, 1, 0, 0, 1, 0, 1,\n",
              "       0, 0, 0, 1, 1, 1, 0, 1, 0, 0, 0, 1, 0, 1, 0, 1, 1, 1, 0, 1, 1, 1,\n",
              "       1, 1, 1, 1, 0, 1, 1, 1, 0, 0, 0, 1, 1, 0, 1, 1, 1, 1, 0, 0, 0, 0,\n",
              "       0, 1, 1, 0, 1, 1, 1, 0, 1, 0, 0, 0, 0, 1, 1, 1, 0, 0, 1, 1, 1, 1,\n",
              "       1, 1, 1, 1, 1, 1, 1, 0, 1, 1, 1, 1, 1, 1, 1, 1, 1, 1, 1, 0, 0, 1,\n",
              "       1, 1, 0, 1, 1, 1, 1, 1, 0, 1, 1, 1, 1, 1, 1, 1, 1, 1, 0, 0, 1, 1,\n",
              "       1, 1, 1, 0, 0, 1, 0, 0, 0, 1, 1, 1, 1, 1, 1, 1, 0, 1, 0, 1, 0, 0,\n",
              "       1, 1, 1, 1, 1, 1, 1, 0, 0, 1, 1, 1, 0, 1, 0, 1, 1, 1, 0, 1, 0, 1,\n",
              "       1, 0, 1, 0, 0, 0, 1, 0, 1, 1, 0, 1, 1, 1, 1, 0, 0, 1, 1, 0, 1, 1,\n",
              "       1, 0, 1, 1, 0, 1, 1, 1, 1, 1, 1, 0, 0, 0, 1, 1, 1, 1, 0, 1, 0, 1,\n",
              "       0, 1, 1, 1, 1, 0, 0, 1, 1, 1, 1, 1, 1, 1, 1, 1, 0, 1, 1, 1, 1, 0,\n",
              "       1, 1, 1, 0, 1, 1, 1, 1, 0, 0, 1, 1, 0, 1, 0, 0, 0, 0, 1, 1, 0, 1,\n",
              "       1, 1, 1, 1, 0, 1, 1, 1, 1, 1, 1, 1, 1, 1, 1, 1, 0, 1, 1, 1, 0, 1,\n",
              "       0, 1, 1, 1, 1, 0, 1, 0, 1, 1, 1, 1, 0, 0, 0, 1, 1, 1, 1, 0, 1, 0,\n",
              "       0, 1, 1, 1, 1, 1, 0, 1, 1, 1, 1, 0, 1, 1, 1, 1, 1, 0, 1, 1, 0, 1,\n",
              "       1, 1, 1, 1, 1, 1, 1, 1, 0, 1, 0, 0, 1, 1, 1, 1, 0, 1, 1, 1, 1, 0,\n",
              "       1, 0, 1, 1, 1, 0, 0, 1, 0, 1, 1, 1, 1, 0, 0, 0, 1, 0, 1, 1, 1, 0,\n",
              "       1, 1, 1, 1, 0, 1, 1, 1, 1, 1, 0, 1, 1, 0, 1, 1, 1, 1, 1, 1, 1, 1,\n",
              "       0, 1, 1, 0, 0, 0, 1, 1, 0, 1, 1, 1, 0, 0, 0, 1, 0, 1, 0, 1, 0, 0,\n",
              "       1, 1, 1, 0, 1, 0, 1, 1, 0, 1, 1, 1, 1, 0, 1, 1, 1, 1, 1, 1, 0, 1,\n",
              "       1, 1, 1, 1, 1, 1, 1, 0, 0, 0, 0, 1, 0, 1, 1, 1, 1, 0, 1, 0, 1, 1,\n",
              "       1, 1, 0, 1, 0, 1, 1, 0, 1, 0, 1, 1, 1, 1, 1, 0, 1, 0, 1, 1, 1, 1,\n",
              "       1, 1, 0, 0, 1, 0, 1, 1, 1, 1, 0, 1, 1, 1, 1, 0, 1, 1, 1, 0, 1, 1,\n",
              "       1, 0, 1, 1, 0, 1, 1, 0, 0, 1, 1, 0, 0, 0, 1, 1, 1, 1, 0, 1, 1, 1,\n",
              "       1, 1, 1, 1, 0, 0, 1, 1, 1, 1, 0, 1, 1, 0, 1, 1, 1, 1, 0, 1, 0, 1,\n",
              "       0, 1, 1, 0, 0, 1, 1, 1, 1, 1, 1, 1, 1, 1, 0, 1, 1, 0, 0, 0, 1, 0,\n",
              "       1, 0, 0, 1, 0, 1, 1, 1, 1, 0, 1, 0, 0, 0, 1, 1, 1, 0, 1, 0, 1, 1,\n",
              "       1, 1, 0, 0, 1, 1, 0, 1, 1, 1, 1, 0, 1, 1, 1, 1, 1, 1, 1, 0])"
            ]
          },
          "metadata": {},
          "execution_count": 29
        }
      ]
    },
    {
      "cell_type": "code",
      "source": [
        "y.shape"
      ],
      "metadata": {
        "colab": {
          "base_uri": "https://localhost:8080/"
        },
        "id": "Hvn-XOvR6O5w",
        "outputId": "c40da1e0-5cea-498b-9b5e-98c0547c1c6d"
      },
      "execution_count": null,
      "outputs": [
        {
          "output_type": "execute_result",
          "data": {
            "text/plain": [
              "(614,)"
            ]
          },
          "metadata": {},
          "execution_count": 30
        }
      ]
    },
    {
      "cell_type": "code",
      "source": [
        "classifier = LogisticRegression()\n",
        "\n",
        "classifier.fit(X_train,y_train)"
      ],
      "metadata": {
        "colab": {
          "base_uri": "https://localhost:8080/",
          "height": 74
        },
        "id": "5NdgU0wMplIV",
        "outputId": "3ebddf59-2f7b-460b-86be-de194f6e6a1f"
      },
      "execution_count": null,
      "outputs": [
        {
          "output_type": "execute_result",
          "data": {
            "text/plain": [
              "LogisticRegression()"
            ],
            "text/html": [
              "<style>#sk-container-id-2 {color: black;background-color: white;}#sk-container-id-2 pre{padding: 0;}#sk-container-id-2 div.sk-toggleable {background-color: white;}#sk-container-id-2 label.sk-toggleable__label {cursor: pointer;display: block;width: 100%;margin-bottom: 0;padding: 0.3em;box-sizing: border-box;text-align: center;}#sk-container-id-2 label.sk-toggleable__label-arrow:before {content: \"▸\";float: left;margin-right: 0.25em;color: #696969;}#sk-container-id-2 label.sk-toggleable__label-arrow:hover:before {color: black;}#sk-container-id-2 div.sk-estimator:hover label.sk-toggleable__label-arrow:before {color: black;}#sk-container-id-2 div.sk-toggleable__content {max-height: 0;max-width: 0;overflow: hidden;text-align: left;background-color: #f0f8ff;}#sk-container-id-2 div.sk-toggleable__content pre {margin: 0.2em;color: black;border-radius: 0.25em;background-color: #f0f8ff;}#sk-container-id-2 input.sk-toggleable__control:checked~div.sk-toggleable__content {max-height: 200px;max-width: 100%;overflow: auto;}#sk-container-id-2 input.sk-toggleable__control:checked~label.sk-toggleable__label-arrow:before {content: \"▾\";}#sk-container-id-2 div.sk-estimator input.sk-toggleable__control:checked~label.sk-toggleable__label {background-color: #d4ebff;}#sk-container-id-2 div.sk-label input.sk-toggleable__control:checked~label.sk-toggleable__label {background-color: #d4ebff;}#sk-container-id-2 input.sk-hidden--visually {border: 0;clip: rect(1px 1px 1px 1px);clip: rect(1px, 1px, 1px, 1px);height: 1px;margin: -1px;overflow: hidden;padding: 0;position: absolute;width: 1px;}#sk-container-id-2 div.sk-estimator {font-family: monospace;background-color: #f0f8ff;border: 1px dotted black;border-radius: 0.25em;box-sizing: border-box;margin-bottom: 0.5em;}#sk-container-id-2 div.sk-estimator:hover {background-color: #d4ebff;}#sk-container-id-2 div.sk-parallel-item::after {content: \"\";width: 100%;border-bottom: 1px solid gray;flex-grow: 1;}#sk-container-id-2 div.sk-label:hover label.sk-toggleable__label {background-color: #d4ebff;}#sk-container-id-2 div.sk-serial::before {content: \"\";position: absolute;border-left: 1px solid gray;box-sizing: border-box;top: 0;bottom: 0;left: 50%;z-index: 0;}#sk-container-id-2 div.sk-serial {display: flex;flex-direction: column;align-items: center;background-color: white;padding-right: 0.2em;padding-left: 0.2em;position: relative;}#sk-container-id-2 div.sk-item {position: relative;z-index: 1;}#sk-container-id-2 div.sk-parallel {display: flex;align-items: stretch;justify-content: center;background-color: white;position: relative;}#sk-container-id-2 div.sk-item::before, #sk-container-id-2 div.sk-parallel-item::before {content: \"\";position: absolute;border-left: 1px solid gray;box-sizing: border-box;top: 0;bottom: 0;left: 50%;z-index: -1;}#sk-container-id-2 div.sk-parallel-item {display: flex;flex-direction: column;z-index: 1;position: relative;background-color: white;}#sk-container-id-2 div.sk-parallel-item:first-child::after {align-self: flex-end;width: 50%;}#sk-container-id-2 div.sk-parallel-item:last-child::after {align-self: flex-start;width: 50%;}#sk-container-id-2 div.sk-parallel-item:only-child::after {width: 0;}#sk-container-id-2 div.sk-dashed-wrapped {border: 1px dashed gray;margin: 0 0.4em 0.5em 0.4em;box-sizing: border-box;padding-bottom: 0.4em;background-color: white;}#sk-container-id-2 div.sk-label label {font-family: monospace;font-weight: bold;display: inline-block;line-height: 1.2em;}#sk-container-id-2 div.sk-label-container {text-align: center;}#sk-container-id-2 div.sk-container {/* jupyter's `normalize.less` sets `[hidden] { display: none; }` but bootstrap.min.css set `[hidden] { display: none !important; }` so we also need the `!important` here to be able to override the default hidden behavior on the sphinx rendered scikit-learn.org. See: https://github.com/scikit-learn/scikit-learn/issues/21755 */display: inline-block !important;position: relative;}#sk-container-id-2 div.sk-text-repr-fallback {display: none;}</style><div id=\"sk-container-id-2\" class=\"sk-top-container\"><div class=\"sk-text-repr-fallback\"><pre>LogisticRegression()</pre><b>In a Jupyter environment, please rerun this cell to show the HTML representation or trust the notebook. <br />On GitHub, the HTML representation is unable to render, please try loading this page with nbviewer.org.</b></div><div class=\"sk-container\" hidden><div class=\"sk-item\"><div class=\"sk-estimator sk-toggleable\"><input class=\"sk-toggleable__control sk-hidden--visually\" id=\"sk-estimator-id-2\" type=\"checkbox\" checked><label for=\"sk-estimator-id-2\" class=\"sk-toggleable__label sk-toggleable__label-arrow\">LogisticRegression</label><div class=\"sk-toggleable__content\"><pre>LogisticRegression()</pre></div></div></div></div></div>"
            ]
          },
          "metadata": {},
          "execution_count": 20
        }
      ]
    },
    {
      "cell_type": "code",
      "source": [
        "model_to_python = m2c.export_to_c(classifier)\n",
        "model_to_python"
      ],
      "metadata": {
        "colab": {
          "base_uri": "https://localhost:8080/",
          "height": 91
        },
        "id": "YhRZAw7Dpm3g",
        "outputId": "39eff6c3-0bb4-48d0-9467-1ac97e582f8d"
      },
      "execution_count": null,
      "outputs": [
        {
          "output_type": "execute_result",
          "data": {
            "text/plain": [
              "'double score(double * input) {\\n    return 0.8403132759363621 + input[0] * 0.03092240211853326 + input[1] * -0.013809741456546834 + input[2] * -0.17161032063154788 + input[3] * -0.05952955641079039 + input[4] * -0.06553058317207495 + input[5] * 1.368550132982471 + input[6] * 0.002335280411847812 + input[7] * -0.0023352804118478517 + input[8] * -0.1551619018380342 + input[9] * 0.15516190183803447 + input[10] * 0.10115272906576807 + input[11] * -0.10115272906576807 + input[12] * 0.024971672006824704 + input[13] * -0.024971672006824965 + input[14] * -0.14104559756923174 + input[15] * 0.21926776968664832 + input[16] * -0.09003081134554268;\\n}\\n'"
            ],
            "application/vnd.google.colaboratory.intrinsic+json": {
              "type": "string"
            }
          },
          "metadata": {},
          "execution_count": 21
        }
      ]
    },
    {
      "cell_type": "code",
      "source": [
        "test_data = X_test[6]\n",
        "print(test_data)\n",
        "# 6th tuple test karhe"
      ],
      "metadata": {
        "colab": {
          "base_uri": "https://localhost:8080/"
        },
        "id": "47YEXCv8pmy9",
        "outputId": "2ad2ec4b-3c2a-409d-ca44-d7da18a6df0d"
      },
      "execution_count": null,
      "outputs": [
        {
          "output_type": "stream",
          "name": "stdout",
          "text": [
            "[-0.73780632  2.0906627  -0.55448733 -0.24693908  0.2732313   0.41173269\n",
            "  2.11710719 -2.11710719  1.37208932 -1.37208932 -1.89264089  1.89264089\n",
            " -2.54711697  2.54711697 -0.64147818 -0.7820157   1.42814704]\n"
          ]
        }
      ]
    },
    {
      "cell_type": "code",
      "source": [
        "pred = classifier.predict(test_data.reshape(1,-1))\n",
        "print(\"prediction result: {}\".format(pred))"
      ],
      "metadata": {
        "colab": {
          "base_uri": "https://localhost:8080/"
        },
        "id": "KvFkxOqGp833",
        "outputId": "841b65bc-3c20-422d-d615-ea59a9e2fa2d"
      },
      "execution_count": null,
      "outputs": [
        {
          "output_type": "stream",
          "name": "stdout",
          "text": [
            "prediction result: [1]\n"
          ]
        }
      ]
    },
    {
      "cell_type": "code",
      "source": [
        "import pandas as pd\n",
        "from sklearn.preprocessing import StandardScaler\n",
        "from sklearn.ensemble import RandomForestClassifier\n",
        "\n",
        "# Sample input for prediction\n",
        "'''\n",
        "sample_input = {\n",
        "  # pred is 0\n",
        "    'Dependents': 1,\n",
        "    'ApplicantIncome': 5000,\n",
        "     'CoapplicantIncome': 2000,\n",
        "    'LoanAmount': 150,\n",
        "    'Loan_Amount_Term': 360,\n",
        "     'Credit_History': 1,\n",
        "    'Gender_Female': 0,\n",
        "    'Gender_Male': 1,\n",
        "     'Married_No': 0,\n",
        "    'Married_Yes': 1,\n",
        "    'Education_Graduate':\t0,\n",
        "    'Education_Not Graduate':\t1,\n",
        "    'Self_Employed_No': 0,\n",
        "    'Self_Employed_Yes':\t1,\n",
        "    'Property_Area_Rural':\t1,\n",
        "    'Property_Area_Semiurban':\t0,\n",
        "    'Property_Area_Urban': 0\n",
        "\n",
        "\n",
        "}\n",
        "'''\n",
        "sample_input = {\n",
        "    'Dependents': 1,\n",
        "    'ApplicantIncome': 12841,\n",
        "     'CoapplicantIncome': 10968,\n",
        "    'LoanAmount': 349,\n",
        "    'Loan_Amount_Term': 360,\n",
        "     'Credit_History': 1,\n",
        "    'Gender_Female': 0,\n",
        "    'Gender_Male': 1,\n",
        "     'Married_No': 0,\n",
        "    'Married_Yes': 1,\n",
        "    'Education_Graduate':\t1,\n",
        "    'Education_Not Graduate':\t0,\n",
        "    'Self_Employed_No': 1,\n",
        "    'Self_Employed_Yes':\t0,\n",
        "    'Property_Area_Rural':\t0,\n",
        "    'Property_Area_Semiurban':\t1,\n",
        "    'Property_Area_Urban': 0\n",
        "\n",
        "\n",
        "}\n",
        "\n",
        "\t# Dependents\tApplicantIncome\tCoapplicantIncome\tLoanAmount\tLoan_Amount_Term\tCredit_History\tGender_Female\tGender_Male\tMarried_No\tMarried_Yes\tEducation_Graduate\tEducation_Not Graduate\tSelf_Employed_No\tSelf_Employed_Yes\tProperty_Area_Rural\tProperty_Area_Semiurban\tProperty_Area_Urban\n",
        "\n",
        "# Convert the input to a DataFrame\n",
        "sample_input_df = pd.DataFrame([sample_input])\n",
        "\n",
        "# Preprocess the input\n",
        "sample_input_preprocessed = sample_input_df.copy()  # Make a copy to avoid modifying the original data\n",
        "sample_input_preprocessed['Dependents'].replace('3+', 3, inplace=True)\n",
        "# sample_input_preprocessed = pd.get_dummies(sample_input_preprocessed, columns=[\"Gender\", \"Married\", \"Education\", \"Self_Employed\", \"Property_Area\"])\n",
        "# sample_input_preprocessed = StandardScaler().fit_transform(sample_input_preprocessed)\n",
        "\n"
      ],
      "metadata": {
        "id": "EL2i-FDYqdU1"
      },
      "execution_count": null,
      "outputs": []
    },
    {
      "cell_type": "code",
      "source": [
        "sample_input_preprocessed"
      ],
      "metadata": {
        "colab": {
          "base_uri": "https://localhost:8080/",
          "height": 118
        },
        "id": "-vwDteIfsR41",
        "outputId": "2e0103ae-454f-4eac-8c3e-cc49a335adbb"
      },
      "execution_count": null,
      "outputs": [
        {
          "output_type": "execute_result",
          "data": {
            "text/plain": [
              "   Dependents  ApplicantIncome  CoapplicantIncome  LoanAmount  \\\n",
              "0           1            12841              10968         349   \n",
              "\n",
              "   Loan_Amount_Term  Credit_History  Gender_Female  Gender_Male  Married_No  \\\n",
              "0               360               1              0            1           0   \n",
              "\n",
              "   Married_Yes  Education_Graduate  Education_Not Graduate  Self_Employed_No  \\\n",
              "0            1                   1                       0                 1   \n",
              "\n",
              "   Self_Employed_Yes  Property_Area_Rural  Property_Area_Semiurban  \\\n",
              "0                  0                    0                        1   \n",
              "\n",
              "   Property_Area_Urban  \n",
              "0                    0  "
            ],
            "text/html": [
              "\n",
              "  <div id=\"df-7239908b-b7c3-41c9-8b67-ef7bb48e52b8\" class=\"colab-df-container\">\n",
              "    <div>\n",
              "<style scoped>\n",
              "    .dataframe tbody tr th:only-of-type {\n",
              "        vertical-align: middle;\n",
              "    }\n",
              "\n",
              "    .dataframe tbody tr th {\n",
              "        vertical-align: top;\n",
              "    }\n",
              "\n",
              "    .dataframe thead th {\n",
              "        text-align: right;\n",
              "    }\n",
              "</style>\n",
              "<table border=\"1\" class=\"dataframe\">\n",
              "  <thead>\n",
              "    <tr style=\"text-align: right;\">\n",
              "      <th></th>\n",
              "      <th>Dependents</th>\n",
              "      <th>ApplicantIncome</th>\n",
              "      <th>CoapplicantIncome</th>\n",
              "      <th>LoanAmount</th>\n",
              "      <th>Loan_Amount_Term</th>\n",
              "      <th>Credit_History</th>\n",
              "      <th>Gender_Female</th>\n",
              "      <th>Gender_Male</th>\n",
              "      <th>Married_No</th>\n",
              "      <th>Married_Yes</th>\n",
              "      <th>Education_Graduate</th>\n",
              "      <th>Education_Not Graduate</th>\n",
              "      <th>Self_Employed_No</th>\n",
              "      <th>Self_Employed_Yes</th>\n",
              "      <th>Property_Area_Rural</th>\n",
              "      <th>Property_Area_Semiurban</th>\n",
              "      <th>Property_Area_Urban</th>\n",
              "    </tr>\n",
              "  </thead>\n",
              "  <tbody>\n",
              "    <tr>\n",
              "      <th>0</th>\n",
              "      <td>1</td>\n",
              "      <td>12841</td>\n",
              "      <td>10968</td>\n",
              "      <td>349</td>\n",
              "      <td>360</td>\n",
              "      <td>1</td>\n",
              "      <td>0</td>\n",
              "      <td>1</td>\n",
              "      <td>0</td>\n",
              "      <td>1</td>\n",
              "      <td>1</td>\n",
              "      <td>0</td>\n",
              "      <td>1</td>\n",
              "      <td>0</td>\n",
              "      <td>0</td>\n",
              "      <td>1</td>\n",
              "      <td>0</td>\n",
              "    </tr>\n",
              "  </tbody>\n",
              "</table>\n",
              "</div>\n",
              "    <div class=\"colab-df-buttons\">\n",
              "\n",
              "  <div class=\"colab-df-container\">\n",
              "    <button class=\"colab-df-convert\" onclick=\"convertToInteractive('df-7239908b-b7c3-41c9-8b67-ef7bb48e52b8')\"\n",
              "            title=\"Convert this dataframe to an interactive table.\"\n",
              "            style=\"display:none;\">\n",
              "\n",
              "  <svg xmlns=\"http://www.w3.org/2000/svg\" height=\"24px\" viewBox=\"0 -960 960 960\">\n",
              "    <path d=\"M120-120v-720h720v720H120Zm60-500h600v-160H180v160Zm220 220h160v-160H400v160Zm0 220h160v-160H400v160ZM180-400h160v-160H180v160Zm440 0h160v-160H620v160ZM180-180h160v-160H180v160Zm440 0h160v-160H620v160Z\"/>\n",
              "  </svg>\n",
              "    </button>\n",
              "\n",
              "  <style>\n",
              "    .colab-df-container {\n",
              "      display:flex;\n",
              "      gap: 12px;\n",
              "    }\n",
              "\n",
              "    .colab-df-convert {\n",
              "      background-color: #E8F0FE;\n",
              "      border: none;\n",
              "      border-radius: 50%;\n",
              "      cursor: pointer;\n",
              "      display: none;\n",
              "      fill: #1967D2;\n",
              "      height: 32px;\n",
              "      padding: 0 0 0 0;\n",
              "      width: 32px;\n",
              "    }\n",
              "\n",
              "    .colab-df-convert:hover {\n",
              "      background-color: #E2EBFA;\n",
              "      box-shadow: 0px 1px 2px rgba(60, 64, 67, 0.3), 0px 1px 3px 1px rgba(60, 64, 67, 0.15);\n",
              "      fill: #174EA6;\n",
              "    }\n",
              "\n",
              "    .colab-df-buttons div {\n",
              "      margin-bottom: 4px;\n",
              "    }\n",
              "\n",
              "    [theme=dark] .colab-df-convert {\n",
              "      background-color: #3B4455;\n",
              "      fill: #D2E3FC;\n",
              "    }\n",
              "\n",
              "    [theme=dark] .colab-df-convert:hover {\n",
              "      background-color: #434B5C;\n",
              "      box-shadow: 0px 1px 3px 1px rgba(0, 0, 0, 0.15);\n",
              "      filter: drop-shadow(0px 1px 2px rgba(0, 0, 0, 0.3));\n",
              "      fill: #FFFFFF;\n",
              "    }\n",
              "  </style>\n",
              "\n",
              "    <script>\n",
              "      const buttonEl =\n",
              "        document.querySelector('#df-7239908b-b7c3-41c9-8b67-ef7bb48e52b8 button.colab-df-convert');\n",
              "      buttonEl.style.display =\n",
              "        google.colab.kernel.accessAllowed ? 'block' : 'none';\n",
              "\n",
              "      async function convertToInteractive(key) {\n",
              "        const element = document.querySelector('#df-7239908b-b7c3-41c9-8b67-ef7bb48e52b8');\n",
              "        const dataTable =\n",
              "          await google.colab.kernel.invokeFunction('convertToInteractive',\n",
              "                                                    [key], {});\n",
              "        if (!dataTable) return;\n",
              "\n",
              "        const docLinkHtml = 'Like what you see? Visit the ' +\n",
              "          '<a target=\"_blank\" href=https://colab.research.google.com/notebooks/data_table.ipynb>data table notebook</a>'\n",
              "          + ' to learn more about interactive tables.';\n",
              "        element.innerHTML = '';\n",
              "        dataTable['output_type'] = 'display_data';\n",
              "        await google.colab.output.renderOutput(dataTable, element);\n",
              "        const docLink = document.createElement('div');\n",
              "        docLink.innerHTML = docLinkHtml;\n",
              "        element.appendChild(docLink);\n",
              "      }\n",
              "    </script>\n",
              "  </div>\n",
              "\n",
              "    </div>\n",
              "  </div>\n"
            ]
          },
          "metadata": {},
          "execution_count": 56
        }
      ]
    },
    {
      "cell_type": "code",
      "source": [
        "pred = classifier.predict(sample_input_preprocessed)\n",
        "print(\"prediction result: {}\".format(pred))"
      ],
      "metadata": {
        "colab": {
          "base_uri": "https://localhost:8080/"
        },
        "id": "vPhnGwIzGDyY",
        "outputId": "ebbab50a-2aae-4416-9fc4-e8d39218bbc2"
      },
      "execution_count": null,
      "outputs": [
        {
          "output_type": "stream",
          "name": "stdout",
          "text": [
            "prediction result: [0]\n"
          ]
        }
      ]
    },
    {
      "cell_type": "code",
      "source": [
        "sample_input_preprocessed = StandardScaler().fit_transform(sample_input_preprocessed)\n",
        "sample_input_preprocessed"
      ],
      "metadata": {
        "colab": {
          "base_uri": "https://localhost:8080/"
        },
        "id": "3ZOdftQeFZL-",
        "outputId": "3b299636-3db7-4a8d-df5a-b08aa44137fe"
      },
      "execution_count": null,
      "outputs": [
        {
          "output_type": "execute_result",
          "data": {
            "text/plain": [
              "array([[0., 0., 0., 0., 0., 0., 0., 0., 0., 0., 0., 0., 0., 0., 0., 0.,\n",
              "        0.]])"
            ]
          },
          "metadata": {},
          "execution_count": 58
        }
      ]
    },
    {
      "cell_type": "markdown",
      "source": [
        "# CONCLUSION:\n",
        "\n",
        "Each datapoint is subtracted by mean and normalized with standard deviation. Hence, it becomes zeros if the number of datapoints is one.\n",
        "The standard score of a sample x is calculated as:\n",
        "\n",
        "z = (x - u) / s\n",
        "\n",
        "where u is the mean of the training samples or zero if with_mean=False, and s is the standard deviation of the training samples or one if with_std=False.\n",
        "\n",
        "Hence, if you have only one data point, then the standard score is always going to be all zeros."
      ],
      "metadata": {
        "id": "Cf9Hf3qqHe1Z"
      }
    },
    {
      "cell_type": "code",
      "source": [
        "pred = classifier.predict(sample_input_preprocessed)\n",
        "print(\"prediction result: {}\".format(pred))"
      ],
      "metadata": {
        "colab": {
          "base_uri": "https://localhost:8080/"
        },
        "id": "t4b9KNu1GTN-",
        "outputId": "5334e8dc-3375-4a55-a19e-e9ca871cfe0b"
      },
      "execution_count": null,
      "outputs": [
        {
          "output_type": "stream",
          "name": "stdout",
          "text": [
            "prediction result: [1]\n"
          ]
        }
      ]
    },
    {
      "cell_type": "markdown",
      "source": [
        "![image.png](data:image/png;base64,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)"
      ],
      "metadata": {
        "id": "auwu7qCaJC6H"
      }
    },
    {
      "cell_type": "markdown",
      "source": [
        "# Code for Load_main.ino:\n",
        "\n",
        "\n",
        "\\#include \"Loan.h\"\n",
        "\n",
        "void setup() {\n",
        "   Serial.begin(115200);\n",
        "}\n",
        "\n",
        "void loop() {\n",
        "double input[]={-0.1,  3.0906627,  -0.55448733, -0.24693908,  1.2732313,   0.41173269,\n",
        "  2.11710719, -2.11710719,  1.37208932, -1.37208932, -1.89264089,  1.89264089, -2.54711697,  2.54711697, -0.64147818, -0.7820157,   1.42814704};\n",
        "// scaled code... 17 features\n",
        "   double pred=score(input);\n",
        "    Serial.print(\"Prediction: \");\n",
        "    Serial.println(score(input));\n",
        "    //Serial.println(\"prediction result: {}\".format(int(pred)))\n",
        "    Serial.println(int(pred));\n",
        "    \n",
        "}\n",
        "\n",
        "# Code for Load.h: (the op code fom .export_to_c )\n",
        "\n",
        "double score(double * input) {\n",
        "    return 0.8403132759363621 + input[0] * 0.03092240211853326 + input[1] * -0.013809741456546834 + input[2] * -0.17161032063154788 + input[3] * -0.05952955641079039 + input[4] * -0.06553058317207495 + input[5] * 1.368550132982471 + input[6] * 0.002335280411847812 + input[7] * -0.0023352804118478517 + input[8] * -0.1551619018380342 + input[9] * 0.15516190183803447 + input[10] * 0.10115272906576807 + input[11] * -0.10115272906576807 + input[12] * 0.024971672006824704 + input[13] * -0.024971672006824965 + input[14] * -0.14104559756923174 + input[15] * 0.21926776968664832 + input[16] * -0.09003081134554268;\n",
        "}\n"
      ],
      "metadata": {
        "id": "KwrpDQILKNEf"
      }
    }
  ]
}