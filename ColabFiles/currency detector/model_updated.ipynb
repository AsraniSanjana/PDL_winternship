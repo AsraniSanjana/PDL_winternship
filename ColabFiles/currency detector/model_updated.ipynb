{
  "nbformat": 4,
  "nbformat_minor": 0,
  "metadata": {
    "colab": {
      "provenance": []
    },
    "kernelspec": {
      "name": "python3",
      "display_name": "Python 3"
    },
    "language_info": {
      "name": "python"
    }
  },
  "cells": [
    {
      "cell_type": "code",
      "execution_count": null,
      "metadata": {
        "id": "p8KT4lQjVWbb"
      },
      "outputs": [],
      "source": [
        "# !pip install plotly\n",
        "# !pip install lazypredict\n",
        "#!pip install pandas-profiling"
      ]
    },
    {
      "cell_type": "code",
      "execution_count": null,
      "metadata": {
        "colab": {
          "base_uri": "https://localhost:8080/"
        },
        "id": "ztXa9qzjmbNN",
        "outputId": "61ba94f8-71bc-422e-821d-6bf99175ed86"
      },
      "outputs": [
        {
          "output_type": "stream",
          "name": "stdout",
          "text": [
            "['200_wled_raw (2).csv', '10_wled_raw (2).csv', '500_wled_raw (2).csv', '20_wled_raw (2).csv', '50_wled_raw (2).csv', '100_wled_raw (2).csv']\n"
          ]
        }
      ],
      "source": [
        "import glob\n",
        "import pandas as pd\n",
        "\n",
        "csv_files = glob.glob(\"*(2).csv\")\n",
        "#csv_files = glob.glob(\"*w.csv\")\n",
        "print(csv_files)\n",
        "\n",
        "dataset = pd.concat([pd.read_csv(file) for file in csv_files], ignore_index=True)\n",
        "dataset.to_csv(\"dataset_normal.csv\", index=False)\n",
        "#dataset.to_csv(\"dataset_euro_raw.csv\", index=False)\n"
      ]
    },
    {
      "cell_type": "code",
      "source": [
        "import pandas as pd\n",
        "from lazypredict.Supervised import LazyClassifier\n",
        "import plotly.express as px\n",
        "#from pandas_profiling import ProfileReport"
      ],
      "metadata": {
        "id": "U639i1_VVswm"
      },
      "execution_count": null,
      "outputs": []
    },
    {
      "cell_type": "code",
      "source": [
        "df = pd.read_csv(\"/content/dataset_normal.csv\")\n",
        "# df_raw = pd.read_csv(\"/content/dataset_tcs_inr_raw.csv\")\n",
        "# uv = pd.read_csv(\"/content/dataset_tcs_inr_uv.csv\")\n",
        "# uv_raw = pd.read_csv(\"/content/dataset_tcs_inr_uv_raw.csv\")"
      ],
      "metadata": {
        "id": "AyKf1xHgW8Cf"
      },
      "execution_count": null,
      "outputs": []
    },
    {
      "cell_type": "code",
      "source": [
        "df.head()\n"
      ],
      "metadata": {
        "colab": {
          "base_uri": "https://localhost:8080/",
          "height": 206
        },
        "id": "7Cs7d6Jwtkuf",
        "outputId": "498cc48d-226a-47d1-9536-d687a6966569"
      },
      "execution_count": null,
      "outputs": [
        {
          "output_type": "execute_result",
          "data": {
            "text/plain": [
              "    R1   G1   B1  Clear1 Temperature1 Intensity1   R2   G2   B2  Clear2  \\\n",
              "0  189  147  102     475      3427.03     1032.2  225  299  272     776   \n",
              "1  189  147  101     474      3427.03     1032.2  225  298  272     776   \n",
              "2  189  147  102     474      3427.03     1032.2  224  296  269     770   \n",
              "3  189  147  102     474      3447.19     1032.2  225  298  272     775   \n",
              "4  189  147  101     474      3427.03     1032.2  225  297  271     774   \n",
              "\n",
              "  Temperature2 Intensity2  class  \n",
              "0         None       None    200  \n",
              "1         None       None    200  \n",
              "2         None       None    200  \n",
              "3         None       None    200  \n",
              "4         None       None    200  "
            ],
            "text/html": [
              "\n",
              "  <div id=\"df-ac4c77fb-2148-4c3a-85f9-c570346da346\" class=\"colab-df-container\">\n",
              "    <div>\n",
              "<style scoped>\n",
              "    .dataframe tbody tr th:only-of-type {\n",
              "        vertical-align: middle;\n",
              "    }\n",
              "\n",
              "    .dataframe tbody tr th {\n",
              "        vertical-align: top;\n",
              "    }\n",
              "\n",
              "    .dataframe thead th {\n",
              "        text-align: right;\n",
              "    }\n",
              "</style>\n",
              "<table border=\"1\" class=\"dataframe\">\n",
              "  <thead>\n",
              "    <tr style=\"text-align: right;\">\n",
              "      <th></th>\n",
              "      <th>R1</th>\n",
              "      <th>G1</th>\n",
              "      <th>B1</th>\n",
              "      <th>Clear1</th>\n",
              "      <th>Temperature1</th>\n",
              "      <th>Intensity1</th>\n",
              "      <th>R2</th>\n",
              "      <th>G2</th>\n",
              "      <th>B2</th>\n",
              "      <th>Clear2</th>\n",
              "      <th>Temperature2</th>\n",
              "      <th>Intensity2</th>\n",
              "      <th>class</th>\n",
              "    </tr>\n",
              "  </thead>\n",
              "  <tbody>\n",
              "    <tr>\n",
              "      <th>0</th>\n",
              "      <td>189</td>\n",
              "      <td>147</td>\n",
              "      <td>102</td>\n",
              "      <td>475</td>\n",
              "      <td>3427.03</td>\n",
              "      <td>1032.2</td>\n",
              "      <td>225</td>\n",
              "      <td>299</td>\n",
              "      <td>272</td>\n",
              "      <td>776</td>\n",
              "      <td>None</td>\n",
              "      <td>None</td>\n",
              "      <td>200</td>\n",
              "    </tr>\n",
              "    <tr>\n",
              "      <th>1</th>\n",
              "      <td>189</td>\n",
              "      <td>147</td>\n",
              "      <td>101</td>\n",
              "      <td>474</td>\n",
              "      <td>3427.03</td>\n",
              "      <td>1032.2</td>\n",
              "      <td>225</td>\n",
              "      <td>298</td>\n",
              "      <td>272</td>\n",
              "      <td>776</td>\n",
              "      <td>None</td>\n",
              "      <td>None</td>\n",
              "      <td>200</td>\n",
              "    </tr>\n",
              "    <tr>\n",
              "      <th>2</th>\n",
              "      <td>189</td>\n",
              "      <td>147</td>\n",
              "      <td>102</td>\n",
              "      <td>474</td>\n",
              "      <td>3427.03</td>\n",
              "      <td>1032.2</td>\n",
              "      <td>224</td>\n",
              "      <td>296</td>\n",
              "      <td>269</td>\n",
              "      <td>770</td>\n",
              "      <td>None</td>\n",
              "      <td>None</td>\n",
              "      <td>200</td>\n",
              "    </tr>\n",
              "    <tr>\n",
              "      <th>3</th>\n",
              "      <td>189</td>\n",
              "      <td>147</td>\n",
              "      <td>102</td>\n",
              "      <td>474</td>\n",
              "      <td>3447.19</td>\n",
              "      <td>1032.2</td>\n",
              "      <td>225</td>\n",
              "      <td>298</td>\n",
              "      <td>272</td>\n",
              "      <td>775</td>\n",
              "      <td>None</td>\n",
              "      <td>None</td>\n",
              "      <td>200</td>\n",
              "    </tr>\n",
              "    <tr>\n",
              "      <th>4</th>\n",
              "      <td>189</td>\n",
              "      <td>147</td>\n",
              "      <td>101</td>\n",
              "      <td>474</td>\n",
              "      <td>3427.03</td>\n",
              "      <td>1032.2</td>\n",
              "      <td>225</td>\n",
              "      <td>297</td>\n",
              "      <td>271</td>\n",
              "      <td>774</td>\n",
              "      <td>None</td>\n",
              "      <td>None</td>\n",
              "      <td>200</td>\n",
              "    </tr>\n",
              "  </tbody>\n",
              "</table>\n",
              "</div>\n",
              "    <div class=\"colab-df-buttons\">\n",
              "\n",
              "  <div class=\"colab-df-container\">\n",
              "    <button class=\"colab-df-convert\" onclick=\"convertToInteractive('df-ac4c77fb-2148-4c3a-85f9-c570346da346')\"\n",
              "            title=\"Convert this dataframe to an interactive table.\"\n",
              "            style=\"display:none;\">\n",
              "\n",
              "  <svg xmlns=\"http://www.w3.org/2000/svg\" height=\"24px\" viewBox=\"0 -960 960 960\">\n",
              "    <path d=\"M120-120v-720h720v720H120Zm60-500h600v-160H180v160Zm220 220h160v-160H400v160Zm0 220h160v-160H400v160ZM180-400h160v-160H180v160Zm440 0h160v-160H620v160ZM180-180h160v-160H180v160Zm440 0h160v-160H620v160Z\"/>\n",
              "  </svg>\n",
              "    </button>\n",
              "\n",
              "  <style>\n",
              "    .colab-df-container {\n",
              "      display:flex;\n",
              "      gap: 12px;\n",
              "    }\n",
              "\n",
              "    .colab-df-convert {\n",
              "      background-color: #E8F0FE;\n",
              "      border: none;\n",
              "      border-radius: 50%;\n",
              "      cursor: pointer;\n",
              "      display: none;\n",
              "      fill: #1967D2;\n",
              "      height: 32px;\n",
              "      padding: 0 0 0 0;\n",
              "      width: 32px;\n",
              "    }\n",
              "\n",
              "    .colab-df-convert:hover {\n",
              "      background-color: #E2EBFA;\n",
              "      box-shadow: 0px 1px 2px rgba(60, 64, 67, 0.3), 0px 1px 3px 1px rgba(60, 64, 67, 0.15);\n",
              "      fill: #174EA6;\n",
              "    }\n",
              "\n",
              "    .colab-df-buttons div {\n",
              "      margin-bottom: 4px;\n",
              "    }\n",
              "\n",
              "    [theme=dark] .colab-df-convert {\n",
              "      background-color: #3B4455;\n",
              "      fill: #D2E3FC;\n",
              "    }\n",
              "\n",
              "    [theme=dark] .colab-df-convert:hover {\n",
              "      background-color: #434B5C;\n",
              "      box-shadow: 0px 1px 3px 1px rgba(0, 0, 0, 0.15);\n",
              "      filter: drop-shadow(0px 1px 2px rgba(0, 0, 0, 0.3));\n",
              "      fill: #FFFFFF;\n",
              "    }\n",
              "  </style>\n",
              "\n",
              "    <script>\n",
              "      const buttonEl =\n",
              "        document.querySelector('#df-ac4c77fb-2148-4c3a-85f9-c570346da346 button.colab-df-convert');\n",
              "      buttonEl.style.display =\n",
              "        google.colab.kernel.accessAllowed ? 'block' : 'none';\n",
              "\n",
              "      async function convertToInteractive(key) {\n",
              "        const element = document.querySelector('#df-ac4c77fb-2148-4c3a-85f9-c570346da346');\n",
              "        const dataTable =\n",
              "          await google.colab.kernel.invokeFunction('convertToInteractive',\n",
              "                                                    [key], {});\n",
              "        if (!dataTable) return;\n",
              "\n",
              "        const docLinkHtml = 'Like what you see? Visit the ' +\n",
              "          '<a target=\"_blank\" href=https://colab.research.google.com/notebooks/data_table.ipynb>data table notebook</a>'\n",
              "          + ' to learn more about interactive tables.';\n",
              "        element.innerHTML = '';\n",
              "        dataTable['output_type'] = 'display_data';\n",
              "        await google.colab.output.renderOutput(dataTable, element);\n",
              "        const docLink = document.createElement('div');\n",
              "        docLink.innerHTML = docLinkHtml;\n",
              "        element.appendChild(docLink);\n",
              "      }\n",
              "    </script>\n",
              "  </div>\n",
              "\n",
              "\n",
              "<div id=\"df-c2c68ef7-942d-43e9-b374-7ee8058f7ebd\">\n",
              "  <button class=\"colab-df-quickchart\" onclick=\"quickchart('df-c2c68ef7-942d-43e9-b374-7ee8058f7ebd')\"\n",
              "            title=\"Suggest charts\"\n",
              "            style=\"display:none;\">\n",
              "\n",
              "<svg xmlns=\"http://www.w3.org/2000/svg\" height=\"24px\"viewBox=\"0 0 24 24\"\n",
              "     width=\"24px\">\n",
              "    <g>\n",
              "        <path d=\"M19 3H5c-1.1 0-2 .9-2 2v14c0 1.1.9 2 2 2h14c1.1 0 2-.9 2-2V5c0-1.1-.9-2-2-2zM9 17H7v-7h2v7zm4 0h-2V7h2v10zm4 0h-2v-4h2v4z\"/>\n",
              "    </g>\n",
              "</svg>\n",
              "  </button>\n",
              "\n",
              "<style>\n",
              "  .colab-df-quickchart {\n",
              "      --bg-color: #E8F0FE;\n",
              "      --fill-color: #1967D2;\n",
              "      --hover-bg-color: #E2EBFA;\n",
              "      --hover-fill-color: #174EA6;\n",
              "      --disabled-fill-color: #AAA;\n",
              "      --disabled-bg-color: #DDD;\n",
              "  }\n",
              "\n",
              "  [theme=dark] .colab-df-quickchart {\n",
              "      --bg-color: #3B4455;\n",
              "      --fill-color: #D2E3FC;\n",
              "      --hover-bg-color: #434B5C;\n",
              "      --hover-fill-color: #FFFFFF;\n",
              "      --disabled-bg-color: #3B4455;\n",
              "      --disabled-fill-color: #666;\n",
              "  }\n",
              "\n",
              "  .colab-df-quickchart {\n",
              "    background-color: var(--bg-color);\n",
              "    border: none;\n",
              "    border-radius: 50%;\n",
              "    cursor: pointer;\n",
              "    display: none;\n",
              "    fill: var(--fill-color);\n",
              "    height: 32px;\n",
              "    padding: 0;\n",
              "    width: 32px;\n",
              "  }\n",
              "\n",
              "  .colab-df-quickchart:hover {\n",
              "    background-color: var(--hover-bg-color);\n",
              "    box-shadow: 0 1px 2px rgba(60, 64, 67, 0.3), 0 1px 3px 1px rgba(60, 64, 67, 0.15);\n",
              "    fill: var(--button-hover-fill-color);\n",
              "  }\n",
              "\n",
              "  .colab-df-quickchart-complete:disabled,\n",
              "  .colab-df-quickchart-complete:disabled:hover {\n",
              "    background-color: var(--disabled-bg-color);\n",
              "    fill: var(--disabled-fill-color);\n",
              "    box-shadow: none;\n",
              "  }\n",
              "\n",
              "  .colab-df-spinner {\n",
              "    border: 2px solid var(--fill-color);\n",
              "    border-color: transparent;\n",
              "    border-bottom-color: var(--fill-color);\n",
              "    animation:\n",
              "      spin 1s steps(1) infinite;\n",
              "  }\n",
              "\n",
              "  @keyframes spin {\n",
              "    0% {\n",
              "      border-color: transparent;\n",
              "      border-bottom-color: var(--fill-color);\n",
              "      border-left-color: var(--fill-color);\n",
              "    }\n",
              "    20% {\n",
              "      border-color: transparent;\n",
              "      border-left-color: var(--fill-color);\n",
              "      border-top-color: var(--fill-color);\n",
              "    }\n",
              "    30% {\n",
              "      border-color: transparent;\n",
              "      border-left-color: var(--fill-color);\n",
              "      border-top-color: var(--fill-color);\n",
              "      border-right-color: var(--fill-color);\n",
              "    }\n",
              "    40% {\n",
              "      border-color: transparent;\n",
              "      border-right-color: var(--fill-color);\n",
              "      border-top-color: var(--fill-color);\n",
              "    }\n",
              "    60% {\n",
              "      border-color: transparent;\n",
              "      border-right-color: var(--fill-color);\n",
              "    }\n",
              "    80% {\n",
              "      border-color: transparent;\n",
              "      border-right-color: var(--fill-color);\n",
              "      border-bottom-color: var(--fill-color);\n",
              "    }\n",
              "    90% {\n",
              "      border-color: transparent;\n",
              "      border-bottom-color: var(--fill-color);\n",
              "    }\n",
              "  }\n",
              "</style>\n",
              "\n",
              "  <script>\n",
              "    async function quickchart(key) {\n",
              "      const quickchartButtonEl =\n",
              "        document.querySelector('#' + key + ' button');\n",
              "      quickchartButtonEl.disabled = true;  // To prevent multiple clicks.\n",
              "      quickchartButtonEl.classList.add('colab-df-spinner');\n",
              "      try {\n",
              "        const charts = await google.colab.kernel.invokeFunction(\n",
              "            'suggestCharts', [key], {});\n",
              "      } catch (error) {\n",
              "        console.error('Error during call to suggestCharts:', error);\n",
              "      }\n",
              "      quickchartButtonEl.classList.remove('colab-df-spinner');\n",
              "      quickchartButtonEl.classList.add('colab-df-quickchart-complete');\n",
              "    }\n",
              "    (() => {\n",
              "      let quickchartButtonEl =\n",
              "        document.querySelector('#df-c2c68ef7-942d-43e9-b374-7ee8058f7ebd button');\n",
              "      quickchartButtonEl.style.display =\n",
              "        google.colab.kernel.accessAllowed ? 'block' : 'none';\n",
              "    })();\n",
              "  </script>\n",
              "</div>\n",
              "\n",
              "    </div>\n",
              "  </div>\n"
            ]
          },
          "metadata": {},
          "execution_count": 51
        }
      ]
    },
    {
      "cell_type": "code",
      "source": [
        "df.info()\n"
      ],
      "metadata": {
        "colab": {
          "base_uri": "https://localhost:8080/"
        },
        "id": "arxa4gUAjBMK",
        "outputId": "38802d80-03de-4503-fedf-3cf7b9e5054a"
      },
      "execution_count": null,
      "outputs": [
        {
          "output_type": "stream",
          "name": "stdout",
          "text": [
            "<class 'pandas.core.frame.DataFrame'>\n",
            "RangeIndex: 3105 entries, 0 to 3104\n",
            "Data columns (total 13 columns):\n",
            " #   Column        Non-Null Count  Dtype \n",
            "---  ------        --------------  ----- \n",
            " 0   R1            3105 non-null   int64 \n",
            " 1   G1            3105 non-null   int64 \n",
            " 2   B1            3105 non-null   int64 \n",
            " 3   Clear1        3105 non-null   int64 \n",
            " 4   Temperature1  3105 non-null   object\n",
            " 5   Intensity1    3105 non-null   object\n",
            " 6   R2            3105 non-null   int64 \n",
            " 7   G2            3105 non-null   int64 \n",
            " 8   B2            3105 non-null   int64 \n",
            " 9   Clear2        3105 non-null   int64 \n",
            " 10  Temperature2  3105 non-null   object\n",
            " 11  Intensity2    3105 non-null   object\n",
            " 12  class         3105 non-null   int64 \n",
            "dtypes: int64(9), object(4)\n",
            "memory usage: 315.5+ KB\n"
          ]
        }
      ]
    },
    {
      "cell_type": "code",
      "source": [
        "features = df.drop(['class'], axis=1)\n",
        "labels = df['class']\n",
        "classes = labels.unique()\n",
        "columns = features.columns.tolist()\n",
        "print(classes)\n",
        "print(columns)"
      ],
      "metadata": {
        "id": "6X6jhuoyWwUl",
        "colab": {
          "base_uri": "https://localhost:8080/"
        },
        "outputId": "6bfa0545-d145-42ff-da48-1109baac721a"
      },
      "execution_count": null,
      "outputs": [
        {
          "output_type": "stream",
          "name": "stdout",
          "text": [
            "[200  10 500  20  50 100]\n",
            "['R1', 'G1', 'B1', 'Clear1', 'Temperature1', 'Intensity1', 'R2', 'G2', 'B2', 'Clear2', 'Temperature2', 'Intensity2']\n"
          ]
        }
      ]
    },
    {
      "cell_type": "code",
      "source": [
        "df[\"class\"].unique()"
      ],
      "metadata": {
        "colab": {
          "base_uri": "https://localhost:8080/"
        },
        "id": "HByALDctBh-E",
        "outputId": "ef63d042-77f2-4614-9287-d092bac27c72"
      },
      "execution_count": null,
      "outputs": [
        {
          "output_type": "execute_result",
          "data": {
            "text/plain": [
              "array([200,  10, 500,  20,  50, 100])"
            ]
          },
          "metadata": {},
          "execution_count": 54
        }
      ]
    },
    {
      "cell_type": "code",
      "source": [
        "'''\n",
        "#Find outliers\n",
        "print('Outliers')\n",
        "for cls in classes:\n",
        "  df_cls = df[df['class'] == cls]\n",
        "  des_cls = df_cls.describe()\n",
        "  print(f'\\nFor {cls}')\n",
        "  print(des_cls, '\\n')\n",
        "  for column in columns:\n",
        "    q3 = des_cls[column][-2]\n",
        "    q1 = des_cls[column][-4]\n",
        "    iqr = q3 - q1\n",
        "    up = q3 + (2.5 * iqr)\n",
        "    lw = q3 - (2.5 * iqr)\n",
        "    outliers = df_cls[(df_cls[column] < lw) | (df_cls[column] > up)]\n",
        "    print(f'{column}: {len(outliers)}')\n",
        "    print(f'up: {up}, lw: {lw}')\n",
        "'''"
      ],
      "metadata": {
        "id": "0LbVhfBMXNex",
        "colab": {
          "base_uri": "https://localhost:8080/",
          "height": 72
        },
        "outputId": "a90cad49-90cb-4fb0-c025-bf3ca5bb933d"
      },
      "execution_count": null,
      "outputs": [
        {
          "output_type": "execute_result",
          "data": {
            "text/plain": [
              "\"\\n#Find outliers\\nprint('Outliers')\\nfor cls in classes:\\n  df_cls = df[df['class'] == cls]\\n  des_cls = df_cls.describe()\\n  print(f'\\nFor {cls}')\\n  print(des_cls, '\\n')\\n  for column in columns:\\n    q3 = des_cls[column][-2]\\n    q1 = des_cls[column][-4]\\n    iqr = q3 - q1\\n    up = q3 + (2.5 * iqr)\\n    lw = q3 - (2.5 * iqr)\\n    outliers = df_cls[(df_cls[column] < lw) | (df_cls[column] > up)]\\n    print(f'{column}: {len(outliers)}')\\n    print(f'up: {up}, lw: {lw}')\\n\""
            ],
            "application/vnd.google.colaboratory.intrinsic+json": {
              "type": "string"
            }
          },
          "metadata": {},
          "execution_count": 55
        }
      ]
    },
    {
      "cell_type": "code",
      "source": [
        "df[\"class\"].unique()"
      ],
      "metadata": {
        "colab": {
          "base_uri": "https://localhost:8080/"
        },
        "id": "31OUVEvsB5ft",
        "outputId": "8b8abb0f-c8cc-45ad-bd87-7d4fdf0509aa"
      },
      "execution_count": null,
      "outputs": [
        {
          "output_type": "execute_result",
          "data": {
            "text/plain": [
              "array([200,  10, 500,  20,  50, 100])"
            ]
          },
          "metadata": {},
          "execution_count": 56
        }
      ]
    },
    {
      "cell_type": "code",
      "source": [
        "# Remove outliers\n",
        "# df.drop(df[(df['class'] == '100') & ((df['R1'] < 24.5) | (df['G1'] < 28.0) | (df['B1'] < 22.5))].index, inplace=True)\n",
        "# df.drop(df[(df['class'] == '20') & ((df['R1'] < 41.0) | (df['G1'] < 33.0) | (df['B1'] < 16.5))].index, inplace=True)\n",
        "# df.drop(df[(df['class'] == '200') & ((df['R1'] < 42.0) | (df['G1'] < 32.5) | (df['B1'] < 15.5))].index, inplace=True)\n",
        "# df.drop(df[(df['class'] == '2000') & ((df['R1'] < 48.5) | (df['G1'] < 40.625) | (df['B1'] < 32.5) | (df['G1'] > 49.375))].index, inplace=True)\n",
        "# df.drop(df[(df['class'] == '50') & ((df['R1'] < 26.5) | (df['G1'] < 38.5) | (df['B1'] < 25.5))].index, inplace=True)\n",
        "# df.drop(df[(df['class'] == '10') & ((df['R1'] < 35) | (df['G1'] < 0) | (df['B1'] < 0))].index, inplace=True)\n",
        "\n",
        "# df.drop(df[(df['class'] == '100') & (df['G1'] > 18.5)].index, inplace=True)\n",
        "# df.drop(df[(df['class'] == '200') & ((df['R1'] < 25) | (df['G1'] > 19.5))].index, inplace=True)\n",
        "# df.drop(df[(df['class'] == '500') & ((df['G1'] > 23.5))].index, inplace=True)"
      ],
      "metadata": {
        "id": "GTG8kWE6qla0"
      },
      "execution_count": null,
      "outputs": []
    },
    {
      "cell_type": "code",
      "source": [
        "df[\"class\"].unique()"
      ],
      "metadata": {
        "colab": {
          "base_uri": "https://localhost:8080/"
        },
        "id": "iMNTnNdNB85L",
        "outputId": "0f1a3893-5db1-454c-e414-adc9f176c0c4"
      },
      "execution_count": null,
      "outputs": [
        {
          "output_type": "execute_result",
          "data": {
            "text/plain": [
              "array([200,  10, 500,  20,  50, 100])"
            ]
          },
          "metadata": {},
          "execution_count": 58
        }
      ]
    },
    {
      "cell_type": "code",
      "source": [
        "# df[(df['class'] == '20') & (df['B1'] > 4)].index"
      ],
      "metadata": {
        "id": "HmFN-NUHMju8"
      },
      "execution_count": null,
      "outputs": []
    },
    {
      "cell_type": "code",
      "source": [
        "# df.to_csv('dataset_normal.csv', index=False)"
      ],
      "metadata": {
        "id": "YfKS6jRolFuK"
      },
      "execution_count": null,
      "outputs": []
    },
    {
      "cell_type": "code",
      "source": [
        "fig = px.scatter_3d(df, x='R1', y='G1', z='B1',\n",
        "              color='class',animation_group= \"class\")\n",
        "fig.update_traces(marker_size=4)\n",
        "fig.show()"
      ],
      "metadata": {
        "colab": {
          "base_uri": "https://localhost:8080/",
          "height": 542
        },
        "id": "qpkFL6lyVjU9",
        "outputId": "f4922ff0-8c3a-41a6-a915-ae3549e258d1"
      },
      "execution_count": null,
      "outputs": [
        {
          "output_type": "display_data",
          "data": {
            "text/html": [
              "<html>\n",
              "<head><meta charset=\"utf-8\" /></head>\n",
              "<body>\n",
              "    <div>            <script src=\"https://cdnjs.cloudflare.com/ajax/libs/mathjax/2.7.5/MathJax.js?config=TeX-AMS-MML_SVG\"></script><script type=\"text/javascript\">if (window.MathJax && window.MathJax.Hub && window.MathJax.Hub.Config) {window.MathJax.Hub.Config({SVG: {font: \"STIX-Web\"}});}</script>                <script type=\"text/javascript\">window.PlotlyConfig = {MathJaxConfig: 'local'};</script>\n",
              "        <script charset=\"utf-8\" src=\"https://cdn.plot.ly/plotly-2.24.1.min.js\"></script>                <div id=\"0a25a3f3-5f39-4e10-9270-6b462bd5d3aa\" class=\"plotly-graph-div\" style=\"height:525px; width:100%;\"></div>            <script type=\"text/javascript\">                                    window.PLOTLYENV=window.PLOTLYENV || {};                                    if (document.getElementById(\"0a25a3f3-5f39-4e10-9270-6b462bd5d3aa\")) {                    Plotly.newPlot(                        \"0a25a3f3-5f39-4e10-9270-6b462bd5d3aa\",                        [{\"hovertemplate\":\"R1=%{x}\\u003cbr\\u003eG1=%{y}\\u003cbr\\u003eB1=%{z}\\u003cbr\\u003eclass=%{marker.color}\\u003cextra\\u003e\\u003c\\u002fextra\\u003e\",\"ids\":[200,200,200,200,200,200,200,200,200,200,200,200,200,200,200,200,200,200,200,200,200,200,200,200,200,200,200,200,200,200,200,200,200,200,200,200,200,200,200,200,200,200,200,200,200,200,200,200,200,200,200,200,200,200,200,200,200,200,200,200,200,200,200,200,200,200,200,200,200,200,200,200,200,200,200,200,200,200,200,200,200,200,200,200,200,200,200,200,200,200,200,200,200,200,200,200,200,200,200,200,200,200,200,200,200,200,200,200,200,200,200,200,200,200,200,200,200,200,200,200,200,200,200,200,200,200,200,200,200,200,200,200,200,200,200,200,200,200,200,200,200,200,200,200,200,200,200,200,200,200,200,200,200,200,200,200,200,200,200,200,200,200,200,200,200,200,200,200,200,200,200,200,200,200,200,200,200,200,200,200,200,200,200,200,200,200,200,200,200,200,200,200,200,200,200,200,200,200,200,200,200,200,200,200,200,200,200,200,200,200,200,200,200,200,200,200,200,200,200,200,200,200,200,200,200,200,200,200,200,200,200,200,200,200,200,200,200,200,200,200,200,200,200,200,200,200,200,200,200,200,200,200,200,200,200,200,200,200,200,200,200,200,200,200,200,200,200,200,200,200,200,200,200,200,200,200,200,200,200,200,200,200,200,200,200,200,200,200,200,200,200,200,200,200,200,200,200,200,200,200,200,200,200,200,200,200,200,200,200,200,200,200,200,200,200,200,200,200,200,200,200,200,200,200,200,200,200,200,200,200,200,200,200,200,200,200,200,200,200,200,200,200,200,200,200,200,200,200,200,200,200,200,200,200,200,200,200,200,200,200,200,200,200,200,200,200,200,200,200,200,200,200,200,200,200,200,200,200,200,200,200,200,200,200,200,200,200,200,200,200,200,200,200,200,200,200,200,200,200,200,200,200,200,200,200,200,200,200,200,200,200,200,200,200,200,200,200,200,200,200,200,200,200,200,200,200,200,200,200,200,200,200,200,200,200,200,200,200,200,200,200,200,200,200,200,200,200,200,200,200,200,200,200,200,200,200,200,200,200,200,200,200,200,200,200,200,200,200,200,200,200,200,200,200,200,200,200,200,200,200,200,200,200,200,200,200,200,200,200,200,200,200,200,200,200,200,200,200,200,200,200,200,200,200,200,200,200,200,200,200,200,200,200,200,200,200,200,200,200,200,200,200,200,200,200,200,10,10,10,10,10,10,10,10,10,10,10,10,10,10,10,10,10,10,10,10,10,10,10,10,10,10,10,10,10,10,10,10,10,10,10,10,10,10,10,10,10,10,10,10,10,10,10,10,10,10,10,10,10,10,10,10,10,10,10,10,10,10,10,10,10,10,10,10,10,10,10,10,10,10,10,10,10,10,10,10,10,10,10,10,10,10,10,10,10,10,10,10,10,10,10,10,10,10,10,10,10,10,10,10,10,10,10,10,10,10,10,10,10,10,10,10,10,10,10,10,10,10,10,10,10,10,10,10,10,10,10,10,10,10,10,10,10,10,10,10,10,10,10,10,10,10,10,10,10,10,10,10,10,10,10,10,10,10,10,10,10,10,10,10,10,10,10,10,10,10,10,10,10,10,10,10,10,10,10,10,10,10,10,10,10,10,10,10,10,10,10,10,10,10,10,10,10,10,10,10,10,10,10,10,10,10,10,10,10,10,10,10,10,10,10,10,10,10,10,10,10,10,10,10,10,10,10,10,10,10,10,10,10,10,10,10,10,10,10,10,10,10,10,10,10,10,10,10,10,10,10,10,10,10,10,10,10,10,10,10,10,10,10,10,10,10,10,10,10,10,10,10,10,10,10,10,10,10,10,10,10,10,10,10,10,10,10,10,10,10,10,10,10,10,10,10,10,10,10,10,10,10,10,10,10,10,10,10,10,10,10,10,10,10,10,10,10,10,10,10,10,10,10,10,10,10,10,10,10,10,10,10,10,10,10,10,10,10,10,10,10,10,10,10,10,10,10,10,10,10,10,10,10,10,10,10,10,10,10,10,10,10,10,10,10,10,10,10,10,10,10,10,10,10,10,10,10,10,10,10,10,10,10,10,10,10,10,10,10,10,10,10,10,10,10,10,10,10,10,10,10,10,10,10,10,10,10,10,10,10,10,10,10,10,10,10,10,10,10,10,10,10,10,10,10,10,10,10,10,10,10,10,10,10,10,10,10,10,10,10,10,10,10,10,10,10,10,10,10,10,10,10,10,10,10,10,10,10,10,10,10,10,10,10,10,10,10,10,10,10,10,10,10,10,10,10,10,10,10,10,10,10,10,10,10,10,10,10,10,10,10,10,10,10,10,10,10,10,10,10,10,10,10,10,10,10,10,10,10,10,10,10,10,10,10,10,500,500,500,500,500,500,500,500,500,500,500,500,500,500,500,500,500,500,500,500,500,500,500,500,500,500,500,500,500,500,500,500,500,500,500,500,500,500,500,500,500,500,500,500,500,500,500,500,500,500,500,500,500,500,500,500,500,500,500,500,500,500,500,500,500,500,500,500,500,500,500,500,500,500,500,500,500,500,500,500,500,500,500,500,500,500,500,500,500,500,500,500,500,500,500,500,500,500,500,500,500,500,500,500,500,500,500,500,500,500,500,500,500,500,500,500,500,500,500,500,500,500,500,500,500,500,500,500,500,500,500,500,500,500,500,500,500,500,500,500,500,500,500,500,500,500,500,500,500,500,500,500,500,500,500,500,500,500,500,500,500,500,500,500,500,500,500,500,500,500,500,500,500,500,500,500,500,500,500,500,500,500,500,500,500,500,500,500,500,500,500,500,500,500,500,500,500,500,500,500,500,500,500,500,500,500,500,500,500,500,500,500,500,500,500,500,500,500,500,500,500,500,500,500,500,500,500,500,500,500,500,500,500,500,500,500,500,500,500,500,500,500,500,500,500,500,500,500,500,500,500,500,500,500,500,500,500,500,500,500,500,500,500,500,500,500,500,500,500,500,500,500,500,500,500,500,500,500,500,500,500,500,500,500,500,500,500,500,500,500,500,500,500,500,500,500,500,500,500,500,500,500,500,500,500,500,500,500,500,500,500,500,500,500,500,500,500,500,500,500,500,500,500,500,500,500,500,500,500,500,500,500,500,500,500,500,500,500,500,500,500,500,500,500,500,500,500,500,500,500,500,500,500,500,500,500,500,500,500,500,500,500,500,500,500,500,500,500,500,500,500,500,500,500,500,500,500,500,500,500,500,500,500,500,500,500,500,500,500,500,500,500,500,500,500,500,500,500,500,500,500,500,500,500,500,500,500,500,500,500,500,500,500,500,500,500,500,500,500,500,500,500,500,500,500,500,500,500,500,500,500,500,500,500,500,500,500,500,500,500,500,500,500,500,500,500,500,500,500,500,500,500,500,500,500,500,500,500,500,500,500,500,500,500,500,500,500,500,500,500,500,500,500,500,500,500,500,500,500,500,500,500,500,500,500,500,500,500,500,500,500,500,500,500,500,500,500,500,500,500,500,500,500,500,500,500,500,500,500,500,500,500,500,500,500,500,500,500,500,500,500,500,500,500,500,20,20,20,20,20,20,20,20,20,20,20,20,20,20,20,20,20,20,20,20,20,20,20,20,20,20,20,20,20,20,20,20,20,20,20,20,20,20,20,20,20,20,20,20,20,20,20,20,20,20,20,20,20,20,20,20,20,20,20,20,20,20,20,20,20,20,20,20,20,20,20,20,20,20,20,20,20,20,20,20,20,20,20,20,20,20,20,20,20,20,20,20,20,20,20,20,20,20,20,20,20,20,20,20,20,20,20,20,20,20,20,20,20,20,20,20,20,20,20,20,20,20,20,20,20,20,20,20,20,20,20,20,20,20,20,20,20,20,20,20,20,20,20,20,20,20,20,20,20,20,20,20,20,20,20,20,20,20,20,20,20,20,20,20,20,20,20,20,20,20,20,20,20,20,20,20,20,20,20,20,20,20,20,20,20,20,20,20,20,20,20,20,20,20,20,20,20,20,20,20,20,20,20,20,20,20,20,20,20,20,20,20,20,20,20,20,20,20,20,20,20,20,20,20,20,20,20,20,20,20,20,20,20,20,20,20,20,20,20,20,20,20,20,20,20,20,20,20,20,20,20,20,20,20,20,20,20,20,20,20,20,20,20,20,20,20,20,20,20,20,20,20,20,20,20,20,20,20,20,20,20,20,20,20,20,20,20,20,20,20,20,20,20,20,20,20,20,20,20,20,20,20,20,20,20,20,20,20,20,20,20,20,20,20,20,20,20,20,20,20,20,20,20,20,20,20,20,20,20,20,20,20,20,20,20,20,20,20,20,20,20,20,20,20,20,20,20,20,20,20,20,20,20,20,20,20,20,20,20,20,20,20,20,20,20,20,20,20,20,20,20,20,20,20,20,20,20,20,20,20,20,20,20,20,20,20,20,20,20,20,20,20,20,20,20,20,20,20,20,20,20,20,20,20,20,20,20,20,20,20,20,20,20,20,20,20,20,20,20,20,20,20,20,20,20,20,20,20,20,20,20,20,20,20,20,20,20,20,20,20,20,20,20,20,20,20,20,20,20,20,20,20,20,20,20,20,20,20,20,20,20,20,20,20,20,20,20,20,20,20,20,20,20,20,20,20,20,20,20,20,20,20,20,20,20,20,20,20,20,20,20,20,20,20,20,20,20,20,20,20,20,20,20,20,20,20,20,20,20,20,20,20,50,50,50,50,50,50,50,50,50,50,50,50,50,50,50,50,50,50,50,50,50,50,50,50,50,50,50,50,50,50,50,50,50,50,50,50,50,50,50,50,50,50,50,50,50,50,50,50,50,50,50,50,50,50,50,50,50,50,50,50,50,50,50,50,50,50,50,50,50,50,50,50,50,50,50,50,50,50,50,50,50,50,50,50,50,50,50,50,50,50,50,50,50,50,50,50,50,50,50,50,50,50,50,50,50,50,50,50,50,50,50,50,50,50,50,50,50,50,50,50,50,50,50,50,50,50,50,50,50,50,50,50,50,50,50,50,50,50,50,50,50,50,50,50,50,50,50,50,50,50,50,50,50,50,50,50,50,50,50,50,50,50,50,50,50,50,50,50,50,50,50,50,50,50,50,50,50,50,50,50,50,50,50,50,50,50,50,50,50,50,50,50,50,50,50,50,50,50,50,50,50,50,50,50,50,50,50,50,50,50,50,50,50,50,50,50,50,50,50,50,50,50,50,50,50,50,50,50,50,50,50,50,50,50,50,50,50,50,50,50,50,50,50,50,50,50,50,50,50,50,50,50,50,50,50,50,50,50,50,50,50,50,50,50,50,50,50,50,50,50,50,50,50,50,50,50,50,50,50,50,50,50,50,50,50,50,50,50,50,50,50,50,50,50,50,50,50,50,50,50,50,50,50,50,50,50,50,50,50,50,50,50,50,50,50,50,50,50,50,50,50,50,50,50,50,50,50,50,50,50,50,50,50,50,50,50,50,50,50,50,50,50,50,50,50,50,50,50,50,50,50,50,50,50,50,50,50,50,50,50,50,50,50,50,50,50,50,50,50,50,50,50,50,50,50,50,50,50,50,50,50,50,50,50,50,50,50,50,50,50,50,50,50,50,50,50,50,50,50,50,50,50,50,50,50,50,50,50,50,50,50,50,50,50,50,50,50,50,50,50,50,50,50,50,50,50,50,50,50,50,50,50,50,50,50,50,50,50,50,50,50,50,50,50,50,50,50,50,50,50,50,50,50,50,50,50,50,50,50,50,50,50,50,50,50,50,50,50,50,50,50,50,50,50,50,50,50,50,50,50,50,50,50,50,50,50,50,50,50,50,50,50,50,50,50,50,50,50,50,50,50,50,50,50,50,50,50,50,50,50,50,100,100,100,100,100,100,100,100,100,100,100,100,100,100,100,100,100,100,100,100,100,100,100,100,100,100,100,100,100,100,100,100,100,100,100,100,100,100,100,100,100,100,100,100,100,100,100,100,100,100,100,100,100,100,100,100,100,100,100,100,100,100,100,100,100,100,100,100,100,100,100,100,100,100,100,100,100,100,100,100,100,100,100,100,100,100,100,100,100,100,100,100,100,100,100,100,100,100,100,100,100,100,100,100,100,100,100,100,100,100,100,100,100,100,100,100,100,100,100,100,100,100,100,100,100,100,100,100,100,100,100,100,100,100,100,100,100,100,100,100,100,100,100,100,100,100,100,100,100,100,100,100,100,100,100,100,100,100,100,100,100,100,100,100,100,100,100,100,100,100,100,100,100,100,100,100,100,100,100,100,100,100,100,100,100,100,100,100,100,100,100,100,100,100,100,100,100,100,100,100,100,100,100,100,100,100,100,100,100,100,100,100,100,100,100,100,100,100,100,100,100,100,100,100,100,100,100,100,100,100,100,100,100,100,100,100,100,100,100,100,100,100,100,100,100,100,100,100,100,100,100,100,100,100,100,100,100,100,100,100,100,100,100,100,100,100,100,100,100,100,100,100,100,100,100,100,100,100,100,100,100,100,100,100,100,100,100,100,100,100,100,100,100,100,100,100,100,100,100,100,100,100,100,100,100,100,100,100,100,100,100,100,100,100,100,100,100,100,100,100,100,100,100,100,100,100,100,100,100,100,100,100,100,100,100,100,100,100,100,100,100,100,100,100,100,100,100,100,100,100,100,100,100,100,100,100,100,100,100,100,100,100,100,100,100,100,100,100,100,100,100,100,100,100,100,100,100,100,100,100,100,100,100,100,100,100,100,100,100,100,100,100,100,100,100,100,100,100,100,100,100,100,100,100,100,100,100,100,100,100,100,100,100,100,100,100,100,100,100,100,100,100,100,100,100,100,100,100,100,100,100,100,100,100,100,100,100,100,100,100,100,100,100,100,100,100,100,100,100,100,100,100,100,100,100,100,100,100,100,100,100,100,100,100,100,100,100,100,100,100,100,100,100,100,100,100,100,100,100,100,100,100,100,100,100,100,100,100,100,100,100,100,100,100,100,100,100,100,100,100,100,100,100,100,100,100,100,100,100,100,100,100,100,100,100],\"legendgroup\":\"\",\"marker\":{\"color\":[200,200,200,200,200,200,200,200,200,200,200,200,200,200,200,200,200,200,200,200,200,200,200,200,200,200,200,200,200,200,200,200,200,200,200,200,200,200,200,200,200,200,200,200,200,200,200,200,200,200,200,200,200,200,200,200,200,200,200,200,200,200,200,200,200,200,200,200,200,200,200,200,200,200,200,200,200,200,200,200,200,200,200,200,200,200,200,200,200,200,200,200,200,200,200,200,200,200,200,200,200,200,200,200,200,200,200,200,200,200,200,200,200,200,200,200,200,200,200,200,200,200,200,200,200,200,200,200,200,200,200,200,200,200,200,200,200,200,200,200,200,200,200,200,200,200,200,200,200,200,200,200,200,200,200,200,200,200,200,200,200,200,200,200,200,200,200,200,200,200,200,200,200,200,200,200,200,200,200,200,200,200,200,200,200,200,200,200,200,200,200,200,200,200,200,200,200,200,200,200,200,200,200,200,200,200,200,200,200,200,200,200,200,200,200,200,200,200,200,200,200,200,200,200,200,200,200,200,200,200,200,200,200,200,200,200,200,200,200,200,200,200,200,200,200,200,200,200,200,200,200,200,200,200,200,200,200,200,200,200,200,200,200,200,200,200,200,200,200,200,200,200,200,200,200,200,200,200,200,200,200,200,200,200,200,200,200,200,200,200,200,200,200,200,200,200,200,200,200,200,200,200,200,200,200,200,200,200,200,200,200,200,200,200,200,200,200,200,200,200,200,200,200,200,200,200,200,200,200,200,200,200,200,200,200,200,200,200,200,200,200,200,200,200,200,200,200,200,200,200,200,200,200,200,200,200,200,200,200,200,200,200,200,200,200,200,200,200,200,200,200,200,200,200,200,200,200,200,200,200,200,200,200,200,200,200,200,200,200,200,200,200,200,200,200,200,200,200,200,200,200,200,200,200,200,200,200,200,200,200,200,200,200,200,200,200,200,200,200,200,200,200,200,200,200,200,200,200,200,200,200,200,200,200,200,200,200,200,200,200,200,200,200,200,200,200,200,200,200,200,200,200,200,200,200,200,200,200,200,200,200,200,200,200,200,200,200,200,200,200,200,200,200,200,200,200,200,200,200,200,200,200,200,200,200,200,200,200,200,200,200,200,200,200,200,200,200,200,200,200,200,200,200,200,200,200,200,200,200,200,200,200,200,200,200,200,200,200,200,200,200,200,200,200,200,200,10,10,10,10,10,10,10,10,10,10,10,10,10,10,10,10,10,10,10,10,10,10,10,10,10,10,10,10,10,10,10,10,10,10,10,10,10,10,10,10,10,10,10,10,10,10,10,10,10,10,10,10,10,10,10,10,10,10,10,10,10,10,10,10,10,10,10,10,10,10,10,10,10,10,10,10,10,10,10,10,10,10,10,10,10,10,10,10,10,10,10,10,10,10,10,10,10,10,10,10,10,10,10,10,10,10,10,10,10,10,10,10,10,10,10,10,10,10,10,10,10,10,10,10,10,10,10,10,10,10,10,10,10,10,10,10,10,10,10,10,10,10,10,10,10,10,10,10,10,10,10,10,10,10,10,10,10,10,10,10,10,10,10,10,10,10,10,10,10,10,10,10,10,10,10,10,10,10,10,10,10,10,10,10,10,10,10,10,10,10,10,10,10,10,10,10,10,10,10,10,10,10,10,10,10,10,10,10,10,10,10,10,10,10,10,10,10,10,10,10,10,10,10,10,10,10,10,10,10,10,10,10,10,10,10,10,10,10,10,10,10,10,10,10,10,10,10,10,10,10,10,10,10,10,10,10,10,10,10,10,10,10,10,10,10,10,10,10,10,10,10,10,10,10,10,10,10,10,10,10,10,10,10,10,10,10,10,10,10,10,10,10,10,10,10,10,10,10,10,10,10,10,10,10,10,10,10,10,10,10,10,10,10,10,10,10,10,10,10,10,10,10,10,10,10,10,10,10,10,10,10,10,10,10,10,10,10,10,10,10,10,10,10,10,10,10,10,10,10,10,10,10,10,10,10,10,10,10,10,10,10,10,10,10,10,10,10,10,10,10,10,10,10,10,10,10,10,10,10,10,10,10,10,10,10,10,10,10,10,10,10,10,10,10,10,10,10,10,10,10,10,10,10,10,10,10,10,10,10,10,10,10,10,10,10,10,10,10,10,10,10,10,10,10,10,10,10,10,10,10,10,10,10,10,10,10,10,10,10,10,10,10,10,10,10,10,10,10,10,10,10,10,10,10,10,10,10,10,10,10,10,10,10,10,10,10,10,10,10,10,10,10,10,10,10,10,10,10,10,10,10,10,10,10,10,10,10,10,10,10,10,10,10,10,10,10,10,10,10,10,10,10,10,10,10,10,10,10,10,10,10,10,10,10,10,10,500,500,500,500,500,500,500,500,500,500,500,500,500,500,500,500,500,500,500,500,500,500,500,500,500,500,500,500,500,500,500,500,500,500,500,500,500,500,500,500,500,500,500,500,500,500,500,500,500,500,500,500,500,500,500,500,500,500,500,500,500,500,500,500,500,500,500,500,500,500,500,500,500,500,500,500,500,500,500,500,500,500,500,500,500,500,500,500,500,500,500,500,500,500,500,500,500,500,500,500,500,500,500,500,500,500,500,500,500,500,500,500,500,500,500,500,500,500,500,500,500,500,500,500,500,500,500,500,500,500,500,500,500,500,500,500,500,500,500,500,500,500,500,500,500,500,500,500,500,500,500,500,500,500,500,500,500,500,500,500,500,500,500,500,500,500,500,500,500,500,500,500,500,500,500,500,500,500,500,500,500,500,500,500,500,500,500,500,500,500,500,500,500,500,500,500,500,500,500,500,500,500,500,500,500,500,500,500,500,500,500,500,500,500,500,500,500,500,500,500,500,500,500,500,500,500,500,500,500,500,500,500,500,500,500,500,500,500,500,500,500,500,500,500,500,500,500,500,500,500,500,500,500,500,500,500,500,500,500,500,500,500,500,500,500,500,500,500,500,500,500,500,500,500,500,500,500,500,500,500,500,500,500,500,500,500,500,500,500,500,500,500,500,500,500,500,500,500,500,500,500,500,500,500,500,500,500,500,500,500,500,500,500,500,500,500,500,500,500,500,500,500,500,500,500,500,500,500,500,500,500,500,500,500,500,500,500,500,500,500,500,500,500,500,500,500,500,500,500,500,500,500,500,500,500,500,500,500,500,500,500,500,500,500,500,500,500,500,500,500,500,500,500,500,500,500,500,500,500,500,500,500,500,500,500,500,500,500,500,500,500,500,500,500,500,500,500,500,500,500,500,500,500,500,500,500,500,500,500,500,500,500,500,500,500,500,500,500,500,500,500,500,500,500,500,500,500,500,500,500,500,500,500,500,500,500,500,500,500,500,500,500,500,500,500,500,500,500,500,500,500,500,500,500,500,500,500,500,500,500,500,500,500,500,500,500,500,500,500,500,500,500,500,500,500,500,500,500,500,500,500,500,500,500,500,500,500,500,500,500,500,500,500,500,500,500,500,500,500,500,500,500,500,500,500,500,500,500,500,500,500,500,500,500,500,500,500,500,500,500,500,500,500,500,500,20,20,20,20,20,20,20,20,20,20,20,20,20,20,20,20,20,20,20,20,20,20,20,20,20,20,20,20,20,20,20,20,20,20,20,20,20,20,20,20,20,20,20,20,20,20,20,20,20,20,20,20,20,20,20,20,20,20,20,20,20,20,20,20,20,20,20,20,20,20,20,20,20,20,20,20,20,20,20,20,20,20,20,20,20,20,20,20,20,20,20,20,20,20,20,20,20,20,20,20,20,20,20,20,20,20,20,20,20,20,20,20,20,20,20,20,20,20,20,20,20,20,20,20,20,20,20,20,20,20,20,20,20,20,20,20,20,20,20,20,20,20,20,20,20,20,20,20,20,20,20,20,20,20,20,20,20,20,20,20,20,20,20,20,20,20,20,20,20,20,20,20,20,20,20,20,20,20,20,20,20,20,20,20,20,20,20,20,20,20,20,20,20,20,20,20,20,20,20,20,20,20,20,20,20,20,20,20,20,20,20,20,20,20,20,20,20,20,20,20,20,20,20,20,20,20,20,20,20,20,20,20,20,20,20,20,20,20,20,20,20,20,20,20,20,20,20,20,20,20,20,20,20,20,20,20,20,20,20,20,20,20,20,20,20,20,20,20,20,20,20,20,20,20,20,20,20,20,20,20,20,20,20,20,20,20,20,20,20,20,20,20,20,20,20,20,20,20,20,20,20,20,20,20,20,20,20,20,20,20,20,20,20,20,20,20,20,20,20,20,20,20,20,20,20,20,20,20,20,20,20,20,20,20,20,20,20,20,20,20,20,20,20,20,20,20,20,20,20,20,20,20,20,20,20,20,20,20,20,20,20,20,20,20,20,20,20,20,20,20,20,20,20,20,20,20,20,20,20,20,20,20,20,20,20,20,20,20,20,20,20,20,20,20,20,20,20,20,20,20,20,20,20,20,20,20,20,20,20,20,20,20,20,20,20,20,20,20,20,20,20,20,20,20,20,20,20,20,20,20,20,20,20,20,20,20,20,20,20,20,20,20,20,20,20,20,20,20,20,20,20,20,20,20,20,20,20,20,20,20,20,20,20,20,20,20,20,20,20,20,20,20,20,20,20,20,20,20,20,20,20,20,20,20,20,20,20,20,20,20,20,20,20,20,20,20,20,20,20,20,20,20,20,20,20,20,20,20,20,20,20,20,50,50,50,50,50,50,50,50,50,50,50,50,50,50,50,50,50,50,50,50,50,50,50,50,50,50,50,50,50,50,50,50,50,50,50,50,50,50,50,50,50,50,50,50,50,50,50,50,50,50,50,50,50,50,50,50,50,50,50,50,50,50,50,50,50,50,50,50,50,50,50,50,50,50,50,50,50,50,50,50,50,50,50,50,50,50,50,50,50,50,50,50,50,50,50,50,50,50,50,50,50,50,50,50,50,50,50,50,50,50,50,50,50,50,50,50,50,50,50,50,50,50,50,50,50,50,50,50,50,50,50,50,50,50,50,50,50,50,50,50,50,50,50,50,50,50,50,50,50,50,50,50,50,50,50,50,50,50,50,50,50,50,50,50,50,50,50,50,50,50,50,50,50,50,50,50,50,50,50,50,50,50,50,50,50,50,50,50,50,50,50,50,50,50,50,50,50,50,50,50,50,50,50,50,50,50,50,50,50,50,50,50,50,50,50,50,50,50,50,50,50,50,50,50,50,50,50,50,50,50,50,50,50,50,50,50,50,50,50,50,50,50,50,50,50,50,50,50,50,50,50,50,50,50,50,50,50,50,50,50,50,50,50,50,50,50,50,50,50,50,50,50,50,50,50,50,50,50,50,50,50,50,50,50,50,50,50,50,50,50,50,50,50,50,50,50,50,50,50,50,50,50,50,50,50,50,50,50,50,50,50,50,50,50,50,50,50,50,50,50,50,50,50,50,50,50,50,50,50,50,50,50,50,50,50,50,50,50,50,50,50,50,50,50,50,50,50,50,50,50,50,50,50,50,50,50,50,50,50,50,50,50,50,50,50,50,50,50,50,50,50,50,50,50,50,50,50,50,50,50,50,50,50,50,50,50,50,50,50,50,50,50,50,50,50,50,50,50,50,50,50,50,50,50,50,50,50,50,50,50,50,50,50,50,50,50,50,50,50,50,50,50,50,50,50,50,50,50,50,50,50,50,50,50,50,50,50,50,50,50,50,50,50,50,50,50,50,50,50,50,50,50,50,50,50,50,50,50,50,50,50,50,50,50,50,50,50,50,50,50,50,50,50,50,50,50,50,50,50,50,50,50,50,50,50,50,50,50,50,50,50,50,50,50,50,50,50,50,50,50,50,50,50,50,50,50,50,50,50,50,50,100,100,100,100,100,100,100,100,100,100,100,100,100,100,100,100,100,100,100,100,100,100,100,100,100,100,100,100,100,100,100,100,100,100,100,100,100,100,100,100,100,100,100,100,100,100,100,100,100,100,100,100,100,100,100,100,100,100,100,100,100,100,100,100,100,100,100,100,100,100,100,100,100,100,100,100,100,100,100,100,100,100,100,100,100,100,100,100,100,100,100,100,100,100,100,100,100,100,100,100,100,100,100,100,100,100,100,100,100,100,100,100,100,100,100,100,100,100,100,100,100,100,100,100,100,100,100,100,100,100,100,100,100,100,100,100,100,100,100,100,100,100,100,100,100,100,100,100,100,100,100,100,100,100,100,100,100,100,100,100,100,100,100,100,100,100,100,100,100,100,100,100,100,100,100,100,100,100,100,100,100,100,100,100,100,100,100,100,100,100,100,100,100,100,100,100,100,100,100,100,100,100,100,100,100,100,100,100,100,100,100,100,100,100,100,100,100,100,100,100,100,100,100,100,100,100,100,100,100,100,100,100,100,100,100,100,100,100,100,100,100,100,100,100,100,100,100,100,100,100,100,100,100,100,100,100,100,100,100,100,100,100,100,100,100,100,100,100,100,100,100,100,100,100,100,100,100,100,100,100,100,100,100,100,100,100,100,100,100,100,100,100,100,100,100,100,100,100,100,100,100,100,100,100,100,100,100,100,100,100,100,100,100,100,100,100,100,100,100,100,100,100,100,100,100,100,100,100,100,100,100,100,100,100,100,100,100,100,100,100,100,100,100,100,100,100,100,100,100,100,100,100,100,100,100,100,100,100,100,100,100,100,100,100,100,100,100,100,100,100,100,100,100,100,100,100,100,100,100,100,100,100,100,100,100,100,100,100,100,100,100,100,100,100,100,100,100,100,100,100,100,100,100,100,100,100,100,100,100,100,100,100,100,100,100,100,100,100,100,100,100,100,100,100,100,100,100,100,100,100,100,100,100,100,100,100,100,100,100,100,100,100,100,100,100,100,100,100,100,100,100,100,100,100,100,100,100,100,100,100,100,100,100,100,100,100,100,100,100,100,100,100,100,100,100,100,100,100,100,100,100,100,100,100,100,100,100,100,100,100,100,100,100,100,100,100,100,100,100,100,100,100,100,100,100,100,100,100,100,100,100,100,100,100,100],\"coloraxis\":\"coloraxis\",\"symbol\":\"circle\",\"size\":4},\"mode\":\"markers\",\"name\":\"\",\"scene\":\"scene\",\"showlegend\":false,\"x\":[189,189,189,189,189,196,190,170,161,149,142,142,140,168,193,175,176,185,185,186,186,186,186,186,189,202,202,182,182,182,182,182,182,182,182,182,190,211,160,160,160,160,160,160,161,161,162,201,177,263,263,264,247,260,260,260,260,260,260,260,260,261,140,140,140,140,140,140,140,140,216,216,216,216,216,216,216,186,186,186,186,187,187,187,187,187,187,187,187,187,187,187,187,187,187,187,188,188,189,186,185,185,185,185,185,212,211,211,210,210,210,210,210,210,210,209,209,209,209,233,233,193,193,193,193,193,193,193,193,219,212,213,213,213,210,210,210,210,217,217,216,216,206,205,205,187,193,192,192,192,191,191,191,191,191,194,174,174,174,188,188,187,187,187,187,187,187,187,187,187,187,187,186,164,169,182,146,51,105,178,178,178,178,219,215,215,215,214,214,214,214,214,214,214,214,214,214,214,214,214,214,219,221,167,169,169,169,251,206,206,206,206,205,206,206,206,206,206,206,202,189,162,210,209,209,209,209,209,199,198,198,206,206,206,206,206,206,206,206,206,206,206,206,154,154,154,154,154,154,155,155,155,152,152,152,152,149,204,166,166,195,162,128,195,195,195,195,199,199,199,199,199,199,198,199,198,198,198,198,189,190,189,189,189,188,183,182,183,182,182,196,196,184,192,178,178,178,178,236,207,185,183,182,182,182,182,182,182,182,182,182,182,182,182,182,182,182,182,182,183,183,182,182,182,105,105,105,105,105,105,105,106,105,106,98,97,102,98,98,98,96,132,123,110,110,105,107,107,107,108,109,109,108,110,109,111,114,109,109,109,108,108,108,110,110,110,121,135,135,135,134,134,135,135,141,146,130,147,126,120,122,141,151,147,124,130,114,126,133,132,122,142,140,131,127,127,127,129,124,120,126,168,145,153,154,156,154,152,152,152,159,106,106,106,106,104,112,112,111,111,111,111,113,130,128,153,156,162,162,162,162,149,123,115,124,125,125,125,125,125,125,131,135,144,155,156,156,156,156,161,178,125,132,127,126,126,133,125,112,121,121,121,118,119,116,118,119,120,123,119,128,147,145,147,119,116,121,120,116,136,151,156,137,125,123,119,119,119,119,123,126,136,136,139,139,139,139,162,129,128,158,123,124,137,118,118,146,127,129,134,133,131,131,134,133,128,130,139,167,168,168,168,114,113,127,125,173,174,173,173,173,173,173,181,171,157,156,148,145,157,170,153,155,171,181,135,136,137,135,134,133,137,179,149,148,148,148,147,151,155,153,152,155,155,155,155,155,155,155,155,155,155,155,155,155,155,155,155,155,148,176,158,124,149,148,148,143,145,145,145,148,132,134,133,133,133,133,133,133,159,122,122,122,122,122,122,122,117,116,116,116,121,121,129,109,109,108,113,127,129,133,116,130,129,129,129,129,129,129,129,129,129,129,130,151,153,153,153,153,153,155,155,137,137,137,135,136,136,136,136,136,162,140,140,140,140,140,140,140,140,140,141,140,140,141,139,140,133,133,133,133,133,133,164,165,165,165,165,165,165,165,165,165,165,165,165,166,149,149,149,149,149,148,146,166,169,168,167,167,167,167,167,167,167,131,131,131,131,131,132,131,130,181,180,180,165,165,165,165,165,191,185,185,185,156,121,121,121,121,128,147,148,149,138,137,137,137,137,137,133,155,156,98,98,98,98,98,98,98,98,98,98,98,98,98,144,116,116,116,116,117,117,117,117,102,116,115,115,115,117,117,117,117,111,129,129,129,127,111,111,111,111,110,140,140,141,158,123,124,124,125,132,132,133,147,143,143,143,144,141,157,92,92,93,93,100,165,165,165,165,162,162,158,151,105,105,105,137,141,142,142,141,142,142,141,142,141,141,141,141,141,141,141,141,141,141,141,93,93,93,91,90,92,95,84,93,102,133,132,132,133,132,132,132,134,134,76,76,76,76,76,76,76,76,76,82,117,110,110,95,86,96,113,115,89,90,105,113,122,139,148,147,147,148,149,155,102,102,98,98,98,98,116,144,149,149,149,117,158,160,94,98,99,97,97,95,95,95,127,101,103,94,96,115,73,75,79,72,72,77,114,114,114,130,124,106,110,82,86,82,104,105,103,101,102,109,116,106,109,118,125,143,134,127,153,124,101,103,103,100,113,110,115,126,127,121,140,85,86,85,85,85,92,101,98,102,112,101,111,115,115,118,115,110,137,89,102,102,102,104,113,142,116,115,116,122,125,97,101,109,103,107,105,111,111,121,134,143,140,130,104,104,104,121,120,121,121,107,129,131,131,132,122,122,122,143,101,109,109,109,110,115,86,94,94,94,94,89,103,112,111,111,112,120,100,100,100,100,100,71,115,117,159,160,160,160,160,160,160,161,161,161,161,154,169,151,149,150,160,163,154,165,167,157,152,102,102,102,102,102,108,109,118,120,119,117,117,116,116,116,116,116,116,116,116,140,140,140,140,106,108,117,117,117,117,117,117,117,112,110,111,113,113,113,113,113,113,113,128,123,120,126,122,121,119,90,90,91,89,108,104,108,111,112,122,122,122,122,122,122,116,128,133,137,141,141,119,119,119,119,117,131,133,133,133,133,130,96,96,96,96,163,136,137,135,135,135,135,135,135,135,135,135,136,99,119,120,119,119,119,119,118,115,116,121,131,131,130,130,130,130,130,128,124,124,124,125,124,124,120,127,127,127,127,127,127,127,127,127,127,127,127,111,113,112,112,112,114,115,115,115,115,115,115,115,115,115,120,120,120,120,119,120,119,119,119,119,119,119,119,119,119,119,138,110,110,110,109,112,112,111,112,111,111,112,111,111,111,112,112,112,117,114,117,118,118,118,126,158,158,158,158,158,159,158,158,156,102,102,102,102,102,102,117,118,141,142,140,127,127,126,127,126,102,102,102,102,102,103,109,136,123,114,114,107,107,106,106,106,79,79,83,75,75,75,75,75,106,111,111,135,107,106,104,110,110,110,110,110,113,126,119,123,127,123,114,114,114,115,117,117,118,119,113,113,113,113,113,113,111,108,108,108,108,108,154,105,103,104,103,103,103,103,102,117,118,118,122,120,120,132,116,113,127,126,126,126,129,143,143,143,143,143,143,143,143,143,143,105,105,141,101,111,99,99,99,99,99,99,99,99,99,99,99,99,90,99,93,114,115,115,115,116,116,109,109,109,109,109,109,113,109,99,97,95,97,106,97,95,94,94,99,99,97,111,119,100,112,118,118,115,131,131,132,130,130,115,132,99,106,102,102,107,86,88,88,94,158,134,134,129,130,145,145,136,90,90,117,128,128,128,128,128,128,128,130,116,116,118,120,120,114,116,116,129,128,119,119,119,137,101,99,96,117,109,140,116,117,115,117,117,121,114,133,120,121,120,120,119,119,120,116,119,86,85,84,84,85,85,86,95,97,131,131,157,120,116,116,109,145,169,148,149,149,159,159,139,141,165,155,162,163,164,165,165,166,161,168,107,103,116,117,110,120,125,143,149,149,150,168,125,125,125,125,141,119,121,122,124,137,160,143,144,143,144,144,146,168,168,168,168,168,167,156,156,156,156,156,156,156,156,156,156,158,162,166,165,165,166,176,132,132,132,132,132,131,131,140,114,114,114,114,114,114,157,171,168,170,151,151,151,150,150,150,150,150,152,152,152,150,137,137,137,136,136,136,136,136,115,134,147,110,109,109,109,109,109,124,153,150,150,150,150,150,175,195,195,185,131,130,130,130,130,187,183,182,179,118,117,117,117,117,117,117,118,117,119,128,154,154,154,154,154,154,154,198,198,199,110,110,110,110,110,110,110,110,110,110,110,110,127,130,130,130,126,126,127,127,159,158,166,166,166,166,165,165,165,165,165,165,165,165,156,167,178,171,157,176,177,177,177,177,177,177,177,177,173,168,168,168,162,169,169,170,170,176,176,176,158,159,159,159,157,187,187,187,186,186,186,186,144,144,144,144,143,143,139,134,134,134,134,134,134,134,139,166,164,164,176,176,176,176,167,167,200,187,186,186,186,186,186,186,186,186,186,187,205,106,106,106,106,106,106,106,106,106,106,148,150,150,149,149,150,165,174,174,173,174,120,120,120,120,123,129,129,130,143,147,146,147,154,152,161,160,160,160,160,160,160,160,169,170,170,154,156,203,208,209,201,216,198,160,160,160,160,208,204,204,177,177,177,178,179,157,150,194,193,193,193,193,173,155,155,155,157,171,172,191,164,164,163,186,155,168,168,168,133,120,112,107,109,133,131,93,93,93,96,99,127,113,124,71,71,71,71,72,99,118,119,120,125,84,78,75,104,104,104,104,104,105,93,107,96,132,108,114,114,120,100,99,111,105,96,93,94,94,105,111,111,115,132,87,86,89,109,109,109,112,114,106,106,107,100,100,98,114,123,118,118,136,100,100,100,102,102,104,104,136,136,136,100,100,87,102,123,108,123,112,118,114,114,125,120,120,119,133,71,67,67,85,107,112,86,85,85,85,100,84,123,118,115,129,116,116,138,145,152,104,105,107,106,129,143,143,143,85,79,81,97,95,118,118,118,104,104,104,126,101,116,127,109,109,109,127,114,114,131,136,162,136,137,109,118,118,107,116,113,112,112,144,147,150,131,83,98,113,111,111,111,137,117,114,147,128,133,133,133,115,89,103,98,115,115,124,137,105,103,104,122,120,120,120,120,122,98,103,124,122,96,164,166,168,167,163,157,159,176,176,173,176,169,122,115,106,89,91,88,101,101,129,132,132,126,134,106,109,106,122,122,121,121,128,98,94,98,132,131,120,129,112,107,107,93,106,94,94,94,92,106,118,119,128,126,126,120,120,114,124,125,128,126,125,130,125,125,131,137,143,141,136,136,137,132,121,126,129,148,125,125,125,136,100,100,101,98,98,100,100,100,110,113,103,100,99,99,100,100,101,100,121,14,164,105,110,110,120,125,140,144,144,144,144,140,142,97,97,97,96,106,112,108,124,109,103,103,103,104,106,107,115,119,119,119,96,95,95,95,95,95,101,92,92,92,92,94,94,94,95,94,95,109,110,109,96,92,92,92,92,92,92,92,102,102,97,106,107,108,102,102,102,102,102,102,125,131,131,130,125,139,137,136,130,130,129,131,131,132,160,161,161,161,161,152,90,93,92,89,92,92,92,89,89,91,90,88,88,91,97,95,96,96,98,98,97,96,99,98,98,99,99,99,99,99,99,102,88,90,97,104,103,94,103,104,102,28,31,32,34,125,124,124,121,121,123,118,117,117,117,118,119,120,120,120,129,111,117,116,116,117,116,116,115,115,115,115,110,101,102,101,102,101,101,101,100,109,129,129,129,129,129,126,118,116,130,105,105,105,106,107,115,115,115,119,118,98,98,98,98,100,124,125,100,101,101,133,129,129,131,129,97,97,103,103,100,100,100,100,100,100,100,100,100,101,118,114,96,113,94,93,100,108,102,129,129,136,121,113,138,132,115,145,137,129,130,129,131,131,144,130,82,81,81,86,86,95,107,105,111,105,99,79,104,104,103,92,92,87,87,114,119,135,139,136,135,118,129,119,119,119,99,111,91,88,90,90,93,95,95,102,90,90,88,102,104,116,127,127,135,134,129,111,120,97,110,93,96,96,97,97,90,136,160,153,158,159,162,155,147,152,157,121,118,131,128,125,132,119,145,110,117,122,110,103,102,102,102,127,127,127,127,129,144,102,102,103,104,102,102,131,134,132,160,139,139,139,99,90,93,93,98,95,114,98,105,95,91,84,94,114,104,105,103,141,122,142,143,153,119,109,110,113,95,94,96,143,146,123,120,113,145,109,123,124,125,75,81,87,126,114,130,125,122,146,144,109,109,109,109,109,109,108,108,108,108,108,108,108,107,107,111,110,114,116,116,130,119,119,119,119,112,108,108,108,108,118,111,130,138,99,101,103,102,102,101,101,101,101,103,99,101,100,99,79,70,20,35,90,91,101,109,110,110,96,96,96,96,115,115,127,122,122,122,122,122,121,117,121,129,149,134,137,127,157,108,109,109,110,111,113,117,117,118,117,115,116,116,116,113,105,105,135,136,136,136,135,131,130,131,132,131,130,131,130,128,99,97,98,98,98,98,98,98,98,98,96,96,96,100,117,119,119,119,119,119,119,119,119,111,104,103,102,102,102,102,104,104,112,118,118,83,80,80,81,81,85,85,85,85,85,85,86,108,112,121,119,118,118,118,118,117,116,116,116,116,120,51,51,108,115,115,116,115,126,124,123,123,72,119,112,110,110,118,132,105,105,105,105,104,106,101,102,112,134,134,110,111,104,106,104,113,107,110,103,110,114,103,113,112,109,110,108,108,108,105,119,117,117,117,118,117,73,100,113,109,108,107,106,110,108,111,113,116,130,129,129,129,129,132,131,102,103,103,103,103,107,108,108,108,107,106,84,84,84,84,84,90,89,91,93,83,84,84,84,84,83,86,86,86,86,116,89,89,90,120,121,121,113,90,87,121,133,90,91,90,90,90,88,135,95,99,99,133,109,108,109,109,109,109,108,108,108,108,108,135,101,101,101,101,101,101,120,120,120,120,121,127,126,126,126,126,126,135,135,141,141,140,140,139,119,79,112,113,113,113,113,113,99,99,97,96,97,97,91,92,116,121,120,113,107,130,123,123,123,122,122,122,121,126,92,92,91,118,124,85,85,86,102,84,90,91,85,101,123,104,105,106,101,99,105,105,103,103,101,101,102,102,81,82,82,110,107,87,87,81,81,81,81,116,77,77,77,77,77,79,102,99,99,99,115,67,85,101,109,104,105,105,105,103,102,102,102,123,115,114,114,115,115,105,124,81,83,83,83,83,83,81,93,102,103,108,124,116,115,119,119,119,120,119,119,119,119,125,144,118,99,126,126,119,114,112,112,112,118,127,131,93,100,94,94,94,94,96,95,135,99,99,99,100,100,101,100,117,94,95,97,96,96,101,144,155,139,144,144,162,140,136,142,88,88,95,99,98,87,87,98,100,105,104,121,104,93,93,94,136,135],\"y\":[147,147,147,147,147,154,149,134,126,118,112,113,111,132,151,144,144,153,153,154,154,154,154,154,157,169,169,148,148,148,148,148,148,148,148,148,152,169,129,129,129,129,129,129,130,130,130,159,140,209,209,209,190,201,201,201,201,202,201,201,201,202,114,114,114,114,114,114,114,115,176,176,176,176,176,176,176,154,154,154,154,154,152,152,152,152,152,152,152,152,152,152,152,152,152,152,153,153,153,152,147,147,147,147,147,166,165,165,165,165,164,164,164,164,164,164,164,163,163,181,181,147,147,147,147,147,147,147,147,166,161,161,161,161,159,159,159,159,164,164,163,164,164,164,164,148,149,148,148,148,148,147,147,147,147,150,129,129,129,137,137,137,137,136,136,136,136,136,136,136,136,136,136,119,124,145,117,51,87,143,142,142,142,175,170,170,170,170,170,170,170,170,170,170,170,170,170,169,169,169,169,174,176,132,134,134,134,200,160,160,160,159,159,159,159,159,159,159,159,157,147,125,163,163,163,163,163,163,156,156,156,161,160,160,160,160,160,160,160,160,160,160,160,122,122,122,122,122,122,123,123,123,121,121,121,121,118,159,130,130,152,129,105,151,150,150,150,154,153,153,153,153,153,153,153,153,153,153,153,155,149,148,148,148,147,143,142,143,142,142,153,152,143,153,141,141,141,141,183,165,144,142,141,141,141,141,141,141,141,141,141,141,141,141,141,141,141,141,141,141,142,141,141,141,120,119,119,119,119,119,119,121,119,120,113,111,117,112,112,112,110,154,151,135,135,129,131,131,131,132,133,133,132,135,123,126,130,124,124,124,122,123,122,125,125,124,152,164,164,164,163,164,164,164,173,181,160,183,167,159,161,186,200,196,163,164,141,156,166,165,149,171,169,157,152,152,152,154,148,144,151,212,181,191,193,195,191,189,189,189,196,122,122,121,121,119,137,137,136,136,136,136,138,160,160,191,194,201,201,201,201,178,143,135,144,146,146,146,146,146,146,154,158,175,191,193,193,193,193,200,220,147,158,153,152,151,160,150,129,139,139,139,136,137,133,148,149,151,156,146,160,186,181,193,147,144,150,149,143,170,187,194,168,154,151,145,146,146,146,149,154,168,169,173,172,172,172,199,157,156,195,146,148,163,156,156,194,156,158,165,164,162,158,162,162,156,158,170,209,210,210,210,139,139,158,156,176,176,175,175,175,175,176,184,173,157,155,148,143,156,168,150,152,169,181,132,132,133,131,130,130,133,178,146,144,144,145,143,148,152,148,147,151,151,151,151,151,151,151,151,151,151,151,151,151,151,151,151,151,144,171,153,119,144,143,143,139,140,140,141,143,128,130,130,130,130,130,129,129,155,114,114,114,114,114,114,114,109,108,109,109,114,114,121,105,104,101,108,120,122,126,107,122,120,120,121,120,120,120,120,121,121,121,122,144,145,145,145,145,145,147,147,136,136,136,133,135,135,135,135,134,160,137,137,137,137,137,137,137,137,137,138,137,137,138,136,137,125,125,125,125,125,125,155,156,156,156,156,156,156,156,156,156,157,156,157,157,145,145,145,145,145,145,143,165,168,167,166,166,166,165,165,165,165,125,125,125,125,125,125,125,122,172,172,171,168,168,168,168,168,194,188,188,188,158,111,111,111,111,118,138,139,140,137,136,136,136,136,136,131,153,154,89,89,89,89,89,89,89,89,89,89,89,89,89,136,111,111,111,111,111,111,111,111,99,112,111,112,112,113,113,113,113,108,127,127,127,132,103,103,103,103,105,138,139,140,157,118,118,119,120,127,126,127,144,143,143,143,144,141,155,88,88,88,88,97,163,163,163,163,160,160,156,150,104,104,104,134,132,132,132,132,132,132,132,132,132,132,132,131,131,131,131,131,131,131,131,108,108,108,106,105,108,110,98,109,118,174,173,173,174,173,174,173,176,176,83,84,83,83,83,84,84,84,84,91,136,128,128,109,98,110,131,130,99,101,117,127,138,182,195,195,195,195,196,203,120,119,115,116,116,115,136,189,196,196,196,153,207,208,106,112,114,111,112,108,108,108,145,117,119,108,111,135,79,83,87,79,79,84,142,141,142,165,157,132,138,89,95,90,115,120,120,118,118,127,137,124,127,137,148,172,162,152,184,151,113,114,115,111,128,124,130,165,165,158,184,92,93,92,92,92,100,117,115,120,132,118,137,141,141,146,141,136,171,103,117,117,117,120,130,179,145,145,145,154,157,109,114,124,116,121,118,132,132,146,163,173,169,158,118,118,118,141,139,140,145,125,173,175,175,176,161,161,161,186,116,126,126,126,128,133,94,101,101,101,101,98,112,130,129,129,131,139,111,111,111,111,111,80,138,139,185,186,187,187,187,187,187,188,188,188,188,178,197,174,171,173,184,189,178,192,195,182,174,118,118,118,118,117,125,125,136,139,138,136,136,136,136,136,136,136,136,136,136,165,164,164,164,123,125,137,137,137,137,137,137,138,131,129,129,131,131,131,131,131,131,131,148,143,139,147,142,140,138,106,106,107,104,133,125,133,138,138,148,148,148,148,148,148,139,156,161,167,172,173,148,148,147,147,144,158,161,161,161,161,159,111,111,111,111,195,160,161,159,159,159,159,159,159,159,159,159,160,118,146,146,146,146,146,146,144,138,140,146,159,159,159,159,159,158,159,157,151,151,151,152,151,151,145,155,155,155,155,155,155,155,155,155,155,154,154,136,138,137,137,136,138,140,140,140,140,140,140,140,139,139,145,144,144,144,144,144,144,144,144,144,144,144,144,144,144,144,167,132,131,131,131,134,134,133,133,133,133,133,133,133,133,133,133,133,140,136,138,139,139,139,149,192,193,192,192,192,193,192,192,189,117,117,117,117,117,117,138,140,167,169,165,149,149,148,149,149,120,120,120,120,120,121,131,164,148,137,137,129,129,129,129,128,98,98,102,90,90,90,90,90,125,132,132,158,125,122,121,128,128,128,128,128,132,149,139,145,149,144,129,129,130,130,132,133,133,135,138,138,138,138,138,138,136,125,125,125,125,124,179,125,123,123,122,123,122,121,121,139,140,140,147,145,145,161,142,138,174,174,174,174,178,198,198,198,198,198,198,198,198,198,198,144,144,193,137,151,134,134,135,135,135,135,135,135,135,135,135,135,122,134,124,155,157,157,157,157,157,147,148,148,148,148,148,154,146,135,131,129,132,143,132,129,128,127,135,135,131,152,162,135,153,162,162,158,181,181,182,180,180,156,182,131,140,135,135,143,116,119,119,126,216,182,182,174,176,196,195,182,122,122,161,176,176,176,176,176,176,176,178,157,158,161,164,163,155,160,159,176,173,166,165,164,192,137,136,131,162,150,195,161,163,159,162,162,169,158,183,167,168,166,165,165,165,166,160,164,117,115,114,115,115,116,117,130,133,181,180,219,164,158,158,148,202,233,204,205,205,221,221,190,193,228,212,224,225,227,228,228,229,223,232,144,139,159,160,149,164,170,198,204,204,206,229,174,174,174,174,193,164,168,168,171,189,222,198,198,197,197,197,199,197,197,197,197,196,195,182,182,182,182,182,182,182,182,181,181,183,190,193,193,193,194,207,135,135,135,135,135,134,134,144,122,122,122,122,122,123,173,188,186,188,177,177,177,176,176,175,175,175,178,177,177,173,153,153,153,153,153,153,153,153,131,149,164,119,119,118,118,118,118,135,177,173,173,173,173,173,204,226,226,212,141,141,141,140,140,206,201,200,197,128,128,128,128,128,128,128,128,128,130,140,177,177,177,177,177,177,177,231,232,232,121,120,120,120,120,120,120,120,120,120,120,120,139,144,144,144,139,139,139,139,182,180,198,198,198,198,198,197,197,197,197,197,197,197,183,197,198,189,171,197,197,197,197,197,197,197,197,198,193,189,189,189,183,191,192,192,192,200,200,199,188,189,189,189,184,224,223,223,222,223,223,221,162,161,161,161,161,161,156,145,145,145,145,145,145,145,151,187,185,185,213,213,213,213,200,198,239,224,222,222,221,222,222,222,222,222,222,223,245,113,113,113,113,113,113,113,113,113,113,165,169,168,168,168,168,184,195,195,193,195,130,130,130,130,134,143,143,143,158,162,162,168,176,174,184,183,183,183,183,183,183,183,192,192,191,177,179,236,242,243,233,252,228,187,187,187,187,245,239,239,210,211,211,211,212,181,170,230,228,228,228,228,204,184,184,183,184,200,202,223,194,194,193,222,184,200,199,199,168,152,142,135,136,169,166,113,113,113,117,122,155,136,150,85,85,85,85,86,120,148,150,151,155,104,94,90,129,129,129,129,129,130,114,131,117,164,130,139,139,146,123,122,139,130,119,115,116,116,131,139,139,144,166,105,103,108,138,138,139,142,144,135,135,131,122,122,120,139,150,143,143,166,124,124,124,127,126,130,130,170,170,170,121,121,105,124,152,132,151,137,146,141,142,155,150,150,149,169,86,81,81,103,133,139,104,102,102,102,121,100,150,143,138,160,145,144,173,183,191,127,127,131,128,159,196,195,196,103,95,97,117,115,149,148,149,130,129,129,156,123,142,155,133,133,133,154,144,144,167,172,205,169,171,134,145,146,136,144,141,139,139,179,199,204,175,100,120,145,142,141,142,175,148,142,184,164,170,170,170,140,108,125,119,146,146,157,173,128,125,127,148,151,151,151,151,152,118,126,152,151,116,298,303,306,305,296,283,288,324,322,317,322,308,216,198,192,157,160,155,179,179,240,247,241,229,246,174,178,175,204,204,203,203,215,164,155,164,222,220,201,217,217,206,206,177,206,179,177,179,174,196,212,213,233,228,228,216,215,203,223,225,235,203,203,213,203,202,216,227,239,235,227,227,227,238,214,224,231,268,223,222,220,245,156,156,157,153,153,155,156,156,175,166,152,146,145,145,145,146,147,147,183,20,276,170,177,178,199,208,235,241,241,241,241,235,240,179,179,179,176,201,219,209,242,209,166,166,167,167,171,171,184,190,191,191,169,168,168,168,168,168,181,131,131,131,131,135,134,134,136,135,138,161,163,161,177,166,166,166,166,167,167,166,188,188,180,196,196,198,150,150,150,149,149,149,188,199,199,197,212,232,227,226,220,221,218,221,221,223,279,280,280,280,280,268,142,147,145,140,145,145,146,140,140,143,141,137,137,144,173,169,171,171,175,175,172,169,150,149,149,149,149,149,149,149,149,156,155,158,173,190,188,168,188,190,183,49,55,58,61,205,203,203,195,196,200,190,188,188,188,189,192,192,193,193,208,179,189,188,187,189,187,188,186,186,186,185,177,154,155,154,155,153,153,154,153,169,228,228,227,227,227,221,205,200,227,167,166,166,168,170,197,196,196,206,204,145,145,145,145,149,190,192,149,150,151,204,218,219,223,218,150,150,162,162,156,156,156,156,156,156,156,156,156,157,183,178,146,174,148,144,156,170,160,198,180,190,169,158,192,185,160,205,190,177,179,178,181,181,197,178,108,108,107,115,115,125,142,135,146,139,128,105,138,139,137,123,122,115,115,162,175,194,202,198,197,172,188,173,173,172,147,165,132,129,134,134,139,140,141,152,132,116,112,139,138,162,177,178,189,188,182,155,166,117,133,113,117,116,118,119,109,188,222,212,219,220,226,215,204,211,214,155,153,170,166,162,170,155,188,157,169,177,159,141,139,139,140,177,177,177,177,180,198,139,139,141,142,139,139,177,188,185,224,212,212,212,137,123,128,127,134,134,165,139,150,115,110,101,113,143,162,163,159,204,168,195,195,204,181,164,165,172,133,133,135,202,220,184,179,168,204,167,187,187,188,129,108,116,175,161,179,170,165,200,196,153,153,152,153,152,152,123,123,123,123,123,123,123,122,122,127,127,132,135,135,161,144,144,144,144,135,130,130,130,130,145,135,161,172,119,122,125,124,124,122,122,122,122,124,119,122,121,120,96,86,30,49,109,110,125,135,137,137,116,116,116,116,144,143,159,156,156,156,156,156,156,150,155,166,193,172,177,163,203,134,137,138,139,140,141,147,147,147,146,145,145,145,145,140,134,134,174,175,174,174,174,168,167,167,170,168,167,168,167,163,121,119,119,119,119,119,119,119,120,120,117,117,117,123,154,157,157,157,156,156,156,157,157,146,137,134,133,132,133,133,136,137,149,149,149,101,97,98,98,99,105,103,103,103,103,103,105,136,134,148,145,144,143,143,143,141,141,141,141,141,146,66,70,141,151,150,152,150,166,163,161,161,97,157,148,145,145,154,176,124,124,124,124,123,127,119,121,135,165,165,150,153,142,145,145,160,150,155,143,153,160,142,158,155,139,141,136,131,129,124,143,141,142,141,142,141,89,123,143,136,135,134,131,139,135,139,142,145,176,175,175,175,175,179,179,115,116,116,116,116,121,123,123,123,122,120,102,102,102,102,102,116,116,118,113,109,111,111,111,111,109,113,114,114,114,149,109,109,110,150,150,150,137,112,106,150,165,127,128,128,127,127,124,183,114,118,118,161,139,139,139,139,139,139,139,139,139,139,139,175,122,123,123,123,123,122,157,157,157,157,158,166,165,165,165,164,164,177,177,186,186,184,185,182,155,112,142,144,144,144,144,144,125,131,127,126,127,127,119,118,151,156,160,151,142,174,164,164,164,164,163,163,162,169,120,119,118,154,162,108,109,109,131,107,116,117,107,130,158,139,140,141,135,131,141,141,137,138,135,136,136,136,102,104,104,139,137,115,114,106,105,105,105,153,101,101,101,102,102,104,135,130,129,129,149,91,112,135,147,139,140,140,139,136,136,136,136,161,154,154,154,154,154,141,163,110,113,113,113,113,112,110,127,141,143,151,175,163,159,159,160,159,160,160,160,159,159,168,193,157,133,167,168,160,152,151,151,150,159,170,178,124,134,125,126,126,126,129,127,179,130,131,130,131,131,133,131,154,126,127,129,129,128,135,194,207,187,194,194,217,185,179,188,116,116,124,129,127,114,114,131,134,141,139,160,137,129,129,130,191,189],\"z\":[102,101,102,102,101,105,102,94,89,84,81,81,79,92,104,100,100,106,106,106,106,106,106,106,108,117,117,102,102,102,102,102,102,102,102,102,104,116,93,93,93,93,93,93,93,93,93,112,100,141,142,142,128,136,136,136,136,136,136,136,136,136,83,83,83,83,83,83,83,83,121,121,120,120,120,120,120,105,105,105,105,106,105,104,104,105,104,105,105,105,105,105,105,105,105,105,105,105,105,104,105,105,105,105,105,117,117,116,116,116,116,116,116,116,116,115,115,115,115,127,127,105,105,105,105,105,105,105,105,116,113,113,113,113,112,112,112,112,115,115,115,115,113,113,113,101,102,102,102,102,102,101,101,101,101,103,89,88,88,93,93,93,93,93,93,93,93,93,93,93,93,93,92,82,85,103,83,39,62,101,101,101,101,122,119,118,118,118,118,118,118,118,118,118,118,118,118,118,118,118,118,121,122,96,96,96,96,138,113,112,112,112,112,112,112,112,112,112,112,111,104,87,114,114,114,114,114,114,109,109,108,111,111,111,111,111,111,111,111,111,111,111,111,88,88,88,88,88,88,88,88,88,87,87,87,87,85,112,92,92,107,92,76,106,106,106,106,108,108,108,108,108,108,108,108,108,108,108,108,102,102,102,102,101,101,97,97,98,97,97,104,104,98,108,100,100,100,100,126,114,100,99,99,99,98,98,99,98,98,98,98,98,98,98,98,98,98,99,99,99,99,98,98,98,104,104,104,104,104,104,104,105,104,104,98,97,102,98,98,98,96,133,136,123,123,117,119,119,119,120,121,120,120,122,103,105,109,103,104,104,102,102,102,105,104,104,138,145,145,144,144,144,144,145,154,160,143,163,153,145,147,170,183,179,150,148,128,141,150,149,135,149,147,137,133,133,133,135,129,125,131,190,162,170,172,173,170,169,169,168,174,106,106,106,106,104,124,124,123,123,123,123,125,144,144,171,173,180,180,180,180,160,128,121,129,130,130,130,130,130,130,137,141,152,167,169,169,169,169,175,191,126,136,132,131,131,138,135,115,124,124,124,121,123,119,137,139,140,145,135,147,171,167,180,132,130,135,134,128,153,167,174,151,137,134,129,130,130,130,134,138,151,152,155,155,155,155,178,139,138,174,125,127,139,145,144,178,136,139,145,145,142,139,142,142,138,139,151,182,183,183,183,126,126,143,142,152,152,151,151,151,151,151,159,149,136,135,129,125,135,146,131,133,147,157,115,116,117,115,114,114,117,153,121,120,120,121,119,123,127,123,122,125,125,125,125,125,125,125,125,125,125,125,125,125,125,125,125,125,120,141,127,102,125,125,125,121,122,122,122,124,110,112,111,111,111,111,111,110,132,95,95,95,95,95,95,95,91,91,91,91,95,95,101,88,87,85,90,100,101,105,90,102,101,101,101,101,101,101,101,101,101,101,102,120,121,121,121,121,121,123,123,119,119,119,117,118,118,118,118,117,139,118,118,118,118,118,118,118,118,119,120,118,119,120,118,119,104,104,104,104,104,104,128,129,129,129,129,129,129,129,129,129,129,129,129,129,125,125,125,125,125,125,123,142,144,143,143,142,142,142,142,142,142,103,103,103,103,103,103,103,101,141,141,141,144,144,144,144,144,166,161,161,161,133,92,92,92,92,98,114,114,115,118,117,117,117,117,117,113,131,132,72,73,72,73,73,72,73,73,73,73,73,73,73,109,92,92,92,91,92,92,92,92,82,92,91,91,91,92,92,92,92,89,111,111,111,113,83,83,83,83,86,119,119,120,134,97,97,97,98,103,103,104,123,122,122,122,123,121,133,72,72,72,72,79,140,139,139,139,137,137,134,128,84,84,84,107,110,110,110,110,110,110,110,110,109,109,109,109,109,109,109,109,109,109,109,93,93,93,91,91,93,95,85,95,102,160,159,159,160,159,160,159,162,162,70,70,70,70,70,71,71,70,70,76,116,109,109,94,85,94,112,107,82,83,96,104,113,167,179,179,178,179,180,190,103,102,99,99,99,99,114,172,178,178,178,139,187,186,88,93,94,92,93,90,89,89,119,99,101,92,94,114,66,69,72,66,66,70,126,126,127,147,139,119,123,74,78,75,94,102,102,100,100,107,115,102,105,112,128,147,139,129,156,130,93,94,95,92,104,102,106,151,151,145,168,76,76,76,76,76,82,100,99,104,115,102,123,127,127,131,127,122,154,91,101,101,101,103,112,156,130,129,129,138,140,91,95,103,96,101,96,115,115,127,141,151,147,137,99,99,99,117,116,117,122,104,160,161,162,163,149,149,149,170,100,108,108,108,110,114,77,82,82,82,82,81,92,111,111,111,112,119,91,91,91,91,91,67,120,121,162,163,163,163,163,163,163,165,165,165,164,156,172,153,150,151,162,165,156,168,170,159,152,103,103,103,103,102,109,109,118,120,120,122,122,122,122,122,122,122,122,122,122,142,142,142,142,107,109,117,117,118,118,118,118,118,113,111,116,117,117,117,117,117,117,117,132,128,125,131,127,125,123,94,95,96,93,117,110,118,122,122,132,132,132,132,132,132,125,139,143,148,152,153,130,130,130,130,127,139,142,142,142,142,141,100,100,100,100,174,143,144,142,142,142,142,142,142,142,142,142,143,102,127,128,128,128,128,128,126,121,123,128,139,139,139,139,138,139,138,136,135,135,135,135,135,135,130,138,138,138,138,138,138,138,138,138,138,138,138,120,122,121,121,120,122,123,123,123,123,123,123,123,123,123,129,128,128,128,128,128,128,128,128,128,128,128,128,128,128,128,148,117,117,116,116,119,119,118,118,118,118,118,118,118,118,118,118,118,124,120,124,124,124,125,133,171,171,171,171,171,172,171,171,168,102,102,102,102,102,102,120,121,144,145,143,129,129,128,129,129,108,108,108,108,108,109,118,146,132,123,123,116,116,115,115,115,88,88,91,80,80,80,80,80,111,117,117,139,110,109,107,113,113,113,113,113,117,132,123,128,132,127,114,114,115,115,117,117,118,120,122,122,122,121,121,121,118,110,110,110,110,110,157,110,108,108,108,108,107,107,106,121,126,126,132,130,130,144,127,123,163,163,163,163,167,185,185,185,185,185,185,185,185,185,185,135,135,179,127,139,123,124,124,124,124,124,124,124,124,124,124,124,112,124,111,138,139,139,139,139,139,131,131,131,132,131,131,137,130,125,122,120,123,133,122,120,119,118,125,125,122,141,149,125,141,149,149,145,166,166,167,165,165,144,167,119,128,123,123,131,107,109,109,116,196,163,163,157,158,175,173,163,111,111,146,160,161,161,161,161,161,161,163,143,143,146,148,148,141,145,144,158,155,155,155,154,178,128,127,123,151,140,180,149,151,148,151,151,157,147,169,155,156,154,154,153,153,154,149,152,109,107,106,107,107,108,108,121,123,166,169,205,154,148,149,139,190,217,190,191,191,205,206,177,180,213,198,209,211,212,213,214,214,209,217,131,127,144,145,135,148,152,181,191,190,192,211,161,162,162,162,178,153,156,156,159,174,207,184,185,184,183,184,186,127,126,127,127,126,125,118,118,118,118,118,118,118,118,118,118,119,123,125,125,125,125,133,97,97,97,97,97,96,96,103,83,83,83,84,84,84,115,125,124,125,114,114,114,113,113,113,113,113,114,114,114,112,104,104,104,104,104,104,104,104,90,102,111,78,78,78,78,78,78,88,120,117,117,117,117,117,137,151,151,142,99,99,99,99,99,143,139,139,136,85,85,85,85,85,85,85,85,85,86,92,121,121,121,121,121,121,121,155,156,156,82,81,82,81,81,81,81,81,81,81,81,81,99,102,102,102,99,99,99,99,126,125,130,130,130,130,130,129,129,129,129,129,129,129,121,130,129,124,113,128,129,129,129,129,129,129,129,129,128,127,127,128,123,128,129,129,129,134,134,133,124,124,124,124,121,145,144,144,144,144,144,143,106,105,106,106,105,105,102,102,102,102,102,102,102,102,105,127,126,126,137,137,137,137,130,128,153,144,143,143,142,143,143,142,143,142,142,143,156,75,75,75,75,75,75,75,75,75,75,113,115,115,115,115,115,126,132,132,132,133,87,87,87,87,89,94,94,94,103,106,106,116,121,119,126,125,125,125,125,125,125,125,131,132,131,118,120,154,158,158,152,164,149,126,126,126,126,162,159,159,133,134,134,134,135,119,112,146,145,145,145,145,132,124,124,124,125,134,135,149,127,127,127,143,122,130,130,130,136,124,115,110,111,140,138,96,96,96,98,103,133,117,130,66,66,66,66,66,91,120,122,123,126,74,72,69,109,109,109,109,109,112,97,111,100,139,106,113,113,121,100,99,113,107,97,94,95,95,110,116,117,121,139,81,80,83,121,121,121,124,126,118,118,111,104,104,102,118,128,122,121,144,101,101,101,103,103,106,106,140,138,138,92,91,79,93,129,112,128,116,117,113,114,124,122,121,121,137,69,65,65,82,108,113,80,78,78,78,93,77,115,113,108,131,118,118,139,149,156,104,105,111,109,130,179,178,179,79,73,74,90,88,128,128,128,105,105,104,128,99,114,125,113,113,113,131,116,116,138,143,167,139,140,110,119,120,114,117,115,113,113,145,164,168,144,76,90,127,124,124,124,152,129,119,154,143,148,148,148,113,87,100,95,115,115,124,138,107,106,107,126,129,129,129,130,131,100,106,130,129,100,311,317,320,319,309,296,301,338,336,331,337,322,226,208,197,158,161,156,180,180,242,248,243,230,248,167,171,168,195,195,195,194,206,157,149,157,212,211,192,207,232,221,220,189,219,191,189,191,186,200,212,213,232,228,228,216,215,204,223,225,235,196,196,205,196,195,208,219,230,226,218,218,218,251,225,236,243,282,234,233,231,257,146,147,147,143,143,146,146,146,164,152,139,133,133,133,133,133,134,135,167,21,267,165,172,173,193,202,228,234,234,234,234,228,232,190,190,190,187,213,231,220,256,221,158,159,160,160,164,164,177,182,183,183,178,177,177,177,177,177,190,119,119,119,119,122,122,122,123,123,125,145,147,145,188,177,177,177,177,177,177,177,199,199,191,208,209,211,137,137,137,136,136,136,171,181,181,179,222,241,237,235,230,231,228,231,231,233,291,293,293,293,293,280,133,138,136,131,137,137,137,131,132,134,132,129,129,135,172,168,170,169,174,174,171,168,140,139,139,139,139,139,139,139,139,145,153,156,171,188,186,166,186,188,181,47,52,55,58,192,190,191,183,184,188,178,177,177,177,177,180,181,181,182,195,175,185,184,183,184,183,183,182,182,182,181,171,143,145,143,145,143,143,144,143,158,237,237,237,237,237,230,213,208,236,156,155,156,158,159,205,204,204,214,213,136,136,136,135,139,177,178,139,140,140,189,229,229,233,229,146,146,158,158,152,152,152,152,152,152,152,152,152,153,177,172,141,168,143,140,151,165,155,190,161,170,151,143,172,166,144,183,169,159,161,160,162,162,175,159,95,95,94,101,101,109,124,117,127,121,111,92,121,121,120,108,107,101,101,149,161,177,185,182,181,159,173,160,160,159,138,154,124,121,126,126,131,132,132,143,125,102,98,122,120,145,159,161,170,169,164,139,151,101,113,97,100,99,101,101,93,174,206,197,203,204,209,200,190,196,194,135,134,148,145,142,147,136,162,146,159,164,149,127,126,126,126,161,160,160,160,163,177,125,126,127,128,126,126,157,170,168,200,204,204,204,122,110,114,114,119,122,150,127,136,98,94,86,96,123,155,156,151,188,151,174,173,180,174,157,158,165,121,121,123,180,211,177,172,161,183,155,173,173,172,123,95,102,157,142,160,151,149,180,175,137,137,137,137,136,136,133,132,133,133,133,133,132,132,132,137,137,142,146,146,201,180,180,180,180,169,161,161,161,161,181,169,202,215,142,147,150,149,149,146,146,146,147,149,143,147,146,144,111,100,33,55,134,136,154,167,169,169,143,143,143,143,178,178,197,211,211,211,211,211,211,203,209,224,263,232,240,221,277,167,172,173,174,175,176,184,184,184,183,181,182,182,182,175,184,183,240,241,240,241,239,231,230,230,234,232,230,231,230,225,150,147,148,148,148,148,148,148,148,149,146,145,145,153,211,215,216,215,215,215,215,216,215,200,188,184,182,181,182,182,186,188,203,184,185,123,119,119,119,120,128,126,126,126,126,126,128,167,153,169,166,165,164,164,164,162,162,162,162,162,167,73,97,200,214,213,216,211,237,232,229,229,136,224,209,205,205,219,251,148,149,148,148,147,151,143,144,161,198,198,214,217,202,206,207,228,213,221,204,219,229,201,226,221,164,168,162,155,153,146,170,167,168,167,169,168,105,150,176,167,165,164,160,171,165,170,173,178,243,241,241,241,241,247,246,124,125,126,125,125,131,133,133,132,132,130,126,126,126,126,126,143,144,145,139,148,150,151,150,150,148,154,154,154,154,205,129,129,131,179,179,179,156,127,120,171,189,182,183,182,181,181,178,260,131,136,137,186,190,189,190,190,190,190,189,189,189,189,189,242,152,153,153,152,152,152,145,144,144,144,146,152,152,151,151,151,151,163,162,170,170,168,169,167,142,129,130,131,131,131,131,131,113,125,122,121,122,122,114,113,141,148,154,144,132,168,158,158,158,158,157,157,156,162,114,113,112,144,156,104,105,106,127,104,112,114,104,125,147,139,140,141,135,133,142,142,138,140,136,137,138,136,97,98,99,129,126,115,114,105,105,105,105,149,103,103,103,103,103,106,135,119,118,119,136,99,113,132,142,135,137,136,136,133,132,132,132,149,147,148,148,148,148,135,150,111,115,114,114,114,114,111,128,142,143,152,174,163,158,158,157,156,157,156,156,156,156,166,187,156,135,159,159,161,154,152,153,152,160,168,177,126,136,128,128,128,128,131,128,175,132,132,132,131,131,132,132,152,127,129,130,130,130,135,190,198,179,186,185,198,169,164,172,118,116,122,125,122,111,111,130,134,140,137,151,135,130,130,132,190,189],\"type\":\"scatter3d\"}],                        {\"template\":{\"data\":{\"histogram2dcontour\":[{\"type\":\"histogram2dcontour\",\"colorbar\":{\"outlinewidth\":0,\"ticks\":\"\"},\"colorscale\":[[0.0,\"#0d0887\"],[0.1111111111111111,\"#46039f\"],[0.2222222222222222,\"#7201a8\"],[0.3333333333333333,\"#9c179e\"],[0.4444444444444444,\"#bd3786\"],[0.5555555555555556,\"#d8576b\"],[0.6666666666666666,\"#ed7953\"],[0.7777777777777778,\"#fb9f3a\"],[0.8888888888888888,\"#fdca26\"],[1.0,\"#f0f921\"]]}],\"choropleth\":[{\"type\":\"choropleth\",\"colorbar\":{\"outlinewidth\":0,\"ticks\":\"\"}}],\"histogram2d\":[{\"type\":\"histogram2d\",\"colorbar\":{\"outlinewidth\":0,\"ticks\":\"\"},\"colorscale\":[[0.0,\"#0d0887\"],[0.1111111111111111,\"#46039f\"],[0.2222222222222222,\"#7201a8\"],[0.3333333333333333,\"#9c179e\"],[0.4444444444444444,\"#bd3786\"],[0.5555555555555556,\"#d8576b\"],[0.6666666666666666,\"#ed7953\"],[0.7777777777777778,\"#fb9f3a\"],[0.8888888888888888,\"#fdca26\"],[1.0,\"#f0f921\"]]}],\"heatmap\":[{\"type\":\"heatmap\",\"colorbar\":{\"outlinewidth\":0,\"ticks\":\"\"},\"colorscale\":[[0.0,\"#0d0887\"],[0.1111111111111111,\"#46039f\"],[0.2222222222222222,\"#7201a8\"],[0.3333333333333333,\"#9c179e\"],[0.4444444444444444,\"#bd3786\"],[0.5555555555555556,\"#d8576b\"],[0.6666666666666666,\"#ed7953\"],[0.7777777777777778,\"#fb9f3a\"],[0.8888888888888888,\"#fdca26\"],[1.0,\"#f0f921\"]]}],\"heatmapgl\":[{\"type\":\"heatmapgl\",\"colorbar\":{\"outlinewidth\":0,\"ticks\":\"\"},\"colorscale\":[[0.0,\"#0d0887\"],[0.1111111111111111,\"#46039f\"],[0.2222222222222222,\"#7201a8\"],[0.3333333333333333,\"#9c179e\"],[0.4444444444444444,\"#bd3786\"],[0.5555555555555556,\"#d8576b\"],[0.6666666666666666,\"#ed7953\"],[0.7777777777777778,\"#fb9f3a\"],[0.8888888888888888,\"#fdca26\"],[1.0,\"#f0f921\"]]}],\"contourcarpet\":[{\"type\":\"contourcarpet\",\"colorbar\":{\"outlinewidth\":0,\"ticks\":\"\"}}],\"contour\":[{\"type\":\"contour\",\"colorbar\":{\"outlinewidth\":0,\"ticks\":\"\"},\"colorscale\":[[0.0,\"#0d0887\"],[0.1111111111111111,\"#46039f\"],[0.2222222222222222,\"#7201a8\"],[0.3333333333333333,\"#9c179e\"],[0.4444444444444444,\"#bd3786\"],[0.5555555555555556,\"#d8576b\"],[0.6666666666666666,\"#ed7953\"],[0.7777777777777778,\"#fb9f3a\"],[0.8888888888888888,\"#fdca26\"],[1.0,\"#f0f921\"]]}],\"surface\":[{\"type\":\"surface\",\"colorbar\":{\"outlinewidth\":0,\"ticks\":\"\"},\"colorscale\":[[0.0,\"#0d0887\"],[0.1111111111111111,\"#46039f\"],[0.2222222222222222,\"#7201a8\"],[0.3333333333333333,\"#9c179e\"],[0.4444444444444444,\"#bd3786\"],[0.5555555555555556,\"#d8576b\"],[0.6666666666666666,\"#ed7953\"],[0.7777777777777778,\"#fb9f3a\"],[0.8888888888888888,\"#fdca26\"],[1.0,\"#f0f921\"]]}],\"mesh3d\":[{\"type\":\"mesh3d\",\"colorbar\":{\"outlinewidth\":0,\"ticks\":\"\"}}],\"scatter\":[{\"fillpattern\":{\"fillmode\":\"overlay\",\"size\":10,\"solidity\":0.2},\"type\":\"scatter\"}],\"parcoords\":[{\"type\":\"parcoords\",\"line\":{\"colorbar\":{\"outlinewidth\":0,\"ticks\":\"\"}}}],\"scatterpolargl\":[{\"type\":\"scatterpolargl\",\"marker\":{\"colorbar\":{\"outlinewidth\":0,\"ticks\":\"\"}}}],\"bar\":[{\"error_x\":{\"color\":\"#2a3f5f\"},\"error_y\":{\"color\":\"#2a3f5f\"},\"marker\":{\"line\":{\"color\":\"#E5ECF6\",\"width\":0.5},\"pattern\":{\"fillmode\":\"overlay\",\"size\":10,\"solidity\":0.2}},\"type\":\"bar\"}],\"scattergeo\":[{\"type\":\"scattergeo\",\"marker\":{\"colorbar\":{\"outlinewidth\":0,\"ticks\":\"\"}}}],\"scatterpolar\":[{\"type\":\"scatterpolar\",\"marker\":{\"colorbar\":{\"outlinewidth\":0,\"ticks\":\"\"}}}],\"histogram\":[{\"marker\":{\"pattern\":{\"fillmode\":\"overlay\",\"size\":10,\"solidity\":0.2}},\"type\":\"histogram\"}],\"scattergl\":[{\"type\":\"scattergl\",\"marker\":{\"colorbar\":{\"outlinewidth\":0,\"ticks\":\"\"}}}],\"scatter3d\":[{\"type\":\"scatter3d\",\"line\":{\"colorbar\":{\"outlinewidth\":0,\"ticks\":\"\"}},\"marker\":{\"colorbar\":{\"outlinewidth\":0,\"ticks\":\"\"}}}],\"scattermapbox\":[{\"type\":\"scattermapbox\",\"marker\":{\"colorbar\":{\"outlinewidth\":0,\"ticks\":\"\"}}}],\"scatterternary\":[{\"type\":\"scatterternary\",\"marker\":{\"colorbar\":{\"outlinewidth\":0,\"ticks\":\"\"}}}],\"scattercarpet\":[{\"type\":\"scattercarpet\",\"marker\":{\"colorbar\":{\"outlinewidth\":0,\"ticks\":\"\"}}}],\"carpet\":[{\"aaxis\":{\"endlinecolor\":\"#2a3f5f\",\"gridcolor\":\"white\",\"linecolor\":\"white\",\"minorgridcolor\":\"white\",\"startlinecolor\":\"#2a3f5f\"},\"baxis\":{\"endlinecolor\":\"#2a3f5f\",\"gridcolor\":\"white\",\"linecolor\":\"white\",\"minorgridcolor\":\"white\",\"startlinecolor\":\"#2a3f5f\"},\"type\":\"carpet\"}],\"table\":[{\"cells\":{\"fill\":{\"color\":\"#EBF0F8\"},\"line\":{\"color\":\"white\"}},\"header\":{\"fill\":{\"color\":\"#C8D4E3\"},\"line\":{\"color\":\"white\"}},\"type\":\"table\"}],\"barpolar\":[{\"marker\":{\"line\":{\"color\":\"#E5ECF6\",\"width\":0.5},\"pattern\":{\"fillmode\":\"overlay\",\"size\":10,\"solidity\":0.2}},\"type\":\"barpolar\"}],\"pie\":[{\"automargin\":true,\"type\":\"pie\"}]},\"layout\":{\"autotypenumbers\":\"strict\",\"colorway\":[\"#636efa\",\"#EF553B\",\"#00cc96\",\"#ab63fa\",\"#FFA15A\",\"#19d3f3\",\"#FF6692\",\"#B6E880\",\"#FF97FF\",\"#FECB52\"],\"font\":{\"color\":\"#2a3f5f\"},\"hovermode\":\"closest\",\"hoverlabel\":{\"align\":\"left\"},\"paper_bgcolor\":\"white\",\"plot_bgcolor\":\"#E5ECF6\",\"polar\":{\"bgcolor\":\"#E5ECF6\",\"angularaxis\":{\"gridcolor\":\"white\",\"linecolor\":\"white\",\"ticks\":\"\"},\"radialaxis\":{\"gridcolor\":\"white\",\"linecolor\":\"white\",\"ticks\":\"\"}},\"ternary\":{\"bgcolor\":\"#E5ECF6\",\"aaxis\":{\"gridcolor\":\"white\",\"linecolor\":\"white\",\"ticks\":\"\"},\"baxis\":{\"gridcolor\":\"white\",\"linecolor\":\"white\",\"ticks\":\"\"},\"caxis\":{\"gridcolor\":\"white\",\"linecolor\":\"white\",\"ticks\":\"\"}},\"coloraxis\":{\"colorbar\":{\"outlinewidth\":0,\"ticks\":\"\"}},\"colorscale\":{\"sequential\":[[0.0,\"#0d0887\"],[0.1111111111111111,\"#46039f\"],[0.2222222222222222,\"#7201a8\"],[0.3333333333333333,\"#9c179e\"],[0.4444444444444444,\"#bd3786\"],[0.5555555555555556,\"#d8576b\"],[0.6666666666666666,\"#ed7953\"],[0.7777777777777778,\"#fb9f3a\"],[0.8888888888888888,\"#fdca26\"],[1.0,\"#f0f921\"]],\"sequentialminus\":[[0.0,\"#0d0887\"],[0.1111111111111111,\"#46039f\"],[0.2222222222222222,\"#7201a8\"],[0.3333333333333333,\"#9c179e\"],[0.4444444444444444,\"#bd3786\"],[0.5555555555555556,\"#d8576b\"],[0.6666666666666666,\"#ed7953\"],[0.7777777777777778,\"#fb9f3a\"],[0.8888888888888888,\"#fdca26\"],[1.0,\"#f0f921\"]],\"diverging\":[[0,\"#8e0152\"],[0.1,\"#c51b7d\"],[0.2,\"#de77ae\"],[0.3,\"#f1b6da\"],[0.4,\"#fde0ef\"],[0.5,\"#f7f7f7\"],[0.6,\"#e6f5d0\"],[0.7,\"#b8e186\"],[0.8,\"#7fbc41\"],[0.9,\"#4d9221\"],[1,\"#276419\"]]},\"xaxis\":{\"gridcolor\":\"white\",\"linecolor\":\"white\",\"ticks\":\"\",\"title\":{\"standoff\":15},\"zerolinecolor\":\"white\",\"automargin\":true,\"zerolinewidth\":2},\"yaxis\":{\"gridcolor\":\"white\",\"linecolor\":\"white\",\"ticks\":\"\",\"title\":{\"standoff\":15},\"zerolinecolor\":\"white\",\"automargin\":true,\"zerolinewidth\":2},\"scene\":{\"xaxis\":{\"backgroundcolor\":\"#E5ECF6\",\"gridcolor\":\"white\",\"linecolor\":\"white\",\"showbackground\":true,\"ticks\":\"\",\"zerolinecolor\":\"white\",\"gridwidth\":2},\"yaxis\":{\"backgroundcolor\":\"#E5ECF6\",\"gridcolor\":\"white\",\"linecolor\":\"white\",\"showbackground\":true,\"ticks\":\"\",\"zerolinecolor\":\"white\",\"gridwidth\":2},\"zaxis\":{\"backgroundcolor\":\"#E5ECF6\",\"gridcolor\":\"white\",\"linecolor\":\"white\",\"showbackground\":true,\"ticks\":\"\",\"zerolinecolor\":\"white\",\"gridwidth\":2}},\"shapedefaults\":{\"line\":{\"color\":\"#2a3f5f\"}},\"annotationdefaults\":{\"arrowcolor\":\"#2a3f5f\",\"arrowhead\":0,\"arrowwidth\":1},\"geo\":{\"bgcolor\":\"white\",\"landcolor\":\"#E5ECF6\",\"subunitcolor\":\"white\",\"showland\":true,\"showlakes\":true,\"lakecolor\":\"white\"},\"title\":{\"x\":0.05},\"mapbox\":{\"style\":\"light\"}}},\"scene\":{\"domain\":{\"x\":[0.0,1.0],\"y\":[0.0,1.0]},\"xaxis\":{\"title\":{\"text\":\"R1\"}},\"yaxis\":{\"title\":{\"text\":\"G1\"}},\"zaxis\":{\"title\":{\"text\":\"B1\"}}},\"coloraxis\":{\"colorbar\":{\"title\":{\"text\":\"class\"}},\"colorscale\":[[0.0,\"#0d0887\"],[0.1111111111111111,\"#46039f\"],[0.2222222222222222,\"#7201a8\"],[0.3333333333333333,\"#9c179e\"],[0.4444444444444444,\"#bd3786\"],[0.5555555555555556,\"#d8576b\"],[0.6666666666666666,\"#ed7953\"],[0.7777777777777778,\"#fb9f3a\"],[0.8888888888888888,\"#fdca26\"],[1.0,\"#f0f921\"]]},\"legend\":{\"tracegroupgap\":0},\"margin\":{\"t\":60}},                        {\"responsive\": true}                    ).then(function(){\n",
              "                            \n",
              "var gd = document.getElementById('0a25a3f3-5f39-4e10-9270-6b462bd5d3aa');\n",
              "var x = new MutationObserver(function (mutations, observer) {{\n",
              "        var display = window.getComputedStyle(gd).display;\n",
              "        if (!display || display === 'none') {{\n",
              "            console.log([gd, 'removed!']);\n",
              "            Plotly.purge(gd);\n",
              "            observer.disconnect();\n",
              "        }}\n",
              "}});\n",
              "\n",
              "// Listen for the removal of the full notebook cells\n",
              "var notebookContainer = gd.closest('#notebook-container');\n",
              "if (notebookContainer) {{\n",
              "    x.observe(notebookContainer, {childList: true});\n",
              "}}\n",
              "\n",
              "// Listen for the clearing of the current output cell\n",
              "var outputEl = gd.closest('.output');\n",
              "if (outputEl) {{\n",
              "    x.observe(outputEl, {childList: true});\n",
              "}}\n",
              "\n",
              "                        })                };                            </script>        </div>\n",
              "</body>\n",
              "</html>"
            ]
          },
          "metadata": {}
        }
      ]
    },
    {
      "cell_type": "code",
      "source": [
        "fig = px.scatter_3d(df, x='R2', y='G2', z='B2',\n",
        "              color='class',animation_group= \"class\")\n",
        "fig.update_traces(marker_size=4)\n",
        "fig.show()"
      ],
      "metadata": {
        "colab": {
          "base_uri": "https://localhost:8080/",
          "height": 542
        },
        "id": "N-YzX4esfnvL",
        "outputId": "4be9e835-9738-44e5-d556-6b043ebfa55c"
      },
      "execution_count": null,
      "outputs": [
        {
          "output_type": "display_data",
          "data": {
            "text/html": [
              "<html>\n",
              "<head><meta charset=\"utf-8\" /></head>\n",
              "<body>\n",
              "    <div>            <script src=\"https://cdnjs.cloudflare.com/ajax/libs/mathjax/2.7.5/MathJax.js?config=TeX-AMS-MML_SVG\"></script><script type=\"text/javascript\">if (window.MathJax && window.MathJax.Hub && window.MathJax.Hub.Config) {window.MathJax.Hub.Config({SVG: {font: \"STIX-Web\"}});}</script>                <script type=\"text/javascript\">window.PlotlyConfig = {MathJaxConfig: 'local'};</script>\n",
              "        <script charset=\"utf-8\" src=\"https://cdn.plot.ly/plotly-2.24.1.min.js\"></script>                <div id=\"74030719-92f9-4175-abe8-40ed7c173d2a\" class=\"plotly-graph-div\" style=\"height:525px; width:100%;\"></div>            <script type=\"text/javascript\">                                    window.PLOTLYENV=window.PLOTLYENV || {};                                    if (document.getElementById(\"74030719-92f9-4175-abe8-40ed7c173d2a\")) {                    Plotly.newPlot(                        \"74030719-92f9-4175-abe8-40ed7c173d2a\",                        [{\"hovertemplate\":\"R2=%{x}\\u003cbr\\u003eG2=%{y}\\u003cbr\\u003eB2=%{z}\\u003cbr\\u003eclass=%{marker.color}\\u003cextra\\u003e\\u003c\\u002fextra\\u003e\",\"ids\":[200,200,200,200,200,200,200,200,200,200,200,200,200,200,200,200,200,200,200,200,200,200,200,200,200,200,200,200,200,200,200,200,200,200,200,200,200,200,200,200,200,200,200,200,200,200,200,200,200,200,200,200,200,200,200,200,200,200,200,200,200,200,200,200,200,200,200,200,200,200,200,200,200,200,200,200,200,200,200,200,200,200,200,200,200,200,200,200,200,200,200,200,200,200,200,200,200,200,200,200,200,200,200,200,200,200,200,200,200,200,200,200,200,200,200,200,200,200,200,200,200,200,200,200,200,200,200,200,200,200,200,200,200,200,200,200,200,200,200,200,200,200,200,200,200,200,200,200,200,200,200,200,200,200,200,200,200,200,200,200,200,200,200,200,200,200,200,200,200,200,200,200,200,200,200,200,200,200,200,200,200,200,200,200,200,200,200,200,200,200,200,200,200,200,200,200,200,200,200,200,200,200,200,200,200,200,200,200,200,200,200,200,200,200,200,200,200,200,200,200,200,200,200,200,200,200,200,200,200,200,200,200,200,200,200,200,200,200,200,200,200,200,200,200,200,200,200,200,200,200,200,200,200,200,200,200,200,200,200,200,200,200,200,200,200,200,200,200,200,200,200,200,200,200,200,200,200,200,200,200,200,200,200,200,200,200,200,200,200,200,200,200,200,200,200,200,200,200,200,200,200,200,200,200,200,200,200,200,200,200,200,200,200,200,200,200,200,200,200,200,200,200,200,200,200,200,200,200,200,200,200,200,200,200,200,200,200,200,200,200,200,200,200,200,200,200,200,200,200,200,200,200,200,200,200,200,200,200,200,200,200,200,200,200,200,200,200,200,200,200,200,200,200,200,200,200,200,200,200,200,200,200,200,200,200,200,200,200,200,200,200,200,200,200,200,200,200,200,200,200,200,200,200,200,200,200,200,200,200,200,200,200,200,200,200,200,200,200,200,200,200,200,200,200,200,200,200,200,200,200,200,200,200,200,200,200,200,200,200,200,200,200,200,200,200,200,200,200,200,200,200,200,200,200,200,200,200,200,200,200,200,200,200,200,200,200,200,200,200,200,200,200,200,200,200,200,200,200,200,200,200,200,200,200,200,200,200,200,200,200,200,200,200,200,200,200,200,200,200,200,200,200,200,200,200,200,200,200,200,200,200,200,200,200,200,200,200,200,200,200,200,200,200,200,200,200,10,10,10,10,10,10,10,10,10,10,10,10,10,10,10,10,10,10,10,10,10,10,10,10,10,10,10,10,10,10,10,10,10,10,10,10,10,10,10,10,10,10,10,10,10,10,10,10,10,10,10,10,10,10,10,10,10,10,10,10,10,10,10,10,10,10,10,10,10,10,10,10,10,10,10,10,10,10,10,10,10,10,10,10,10,10,10,10,10,10,10,10,10,10,10,10,10,10,10,10,10,10,10,10,10,10,10,10,10,10,10,10,10,10,10,10,10,10,10,10,10,10,10,10,10,10,10,10,10,10,10,10,10,10,10,10,10,10,10,10,10,10,10,10,10,10,10,10,10,10,10,10,10,10,10,10,10,10,10,10,10,10,10,10,10,10,10,10,10,10,10,10,10,10,10,10,10,10,10,10,10,10,10,10,10,10,10,10,10,10,10,10,10,10,10,10,10,10,10,10,10,10,10,10,10,10,10,10,10,10,10,10,10,10,10,10,10,10,10,10,10,10,10,10,10,10,10,10,10,10,10,10,10,10,10,10,10,10,10,10,10,10,10,10,10,10,10,10,10,10,10,10,10,10,10,10,10,10,10,10,10,10,10,10,10,10,10,10,10,10,10,10,10,10,10,10,10,10,10,10,10,10,10,10,10,10,10,10,10,10,10,10,10,10,10,10,10,10,10,10,10,10,10,10,10,10,10,10,10,10,10,10,10,10,10,10,10,10,10,10,10,10,10,10,10,10,10,10,10,10,10,10,10,10,10,10,10,10,10,10,10,10,10,10,10,10,10,10,10,10,10,10,10,10,10,10,10,10,10,10,10,10,10,10,10,10,10,10,10,10,10,10,10,10,10,10,10,10,10,10,10,10,10,10,10,10,10,10,10,10,10,10,10,10,10,10,10,10,10,10,10,10,10,10,10,10,10,10,10,10,10,10,10,10,10,10,10,10,10,10,10,10,10,10,10,10,10,10,10,10,10,10,10,10,10,10,10,10,10,10,10,10,10,10,10,10,10,10,10,10,10,10,10,10,10,10,10,10,10,10,10,10,10,10,10,10,10,10,10,10,10,10,10,10,10,10,10,10,10,10,10,10,10,10,10,10,10,10,10,10,10,10,10,10,10,10,10,10,10,10,10,10,10,10,10,10,10,10,10,10,10,10,10,10,10,10,500,500,500,500,500,500,500,500,500,500,500,500,500,500,500,500,500,500,500,500,500,500,500,500,500,500,500,500,500,500,500,500,500,500,500,500,500,500,500,500,500,500,500,500,500,500,500,500,500,500,500,500,500,500,500,500,500,500,500,500,500,500,500,500,500,500,500,500,500,500,500,500,500,500,500,500,500,500,500,500,500,500,500,500,500,500,500,500,500,500,500,500,500,500,500,500,500,500,500,500,500,500,500,500,500,500,500,500,500,500,500,500,500,500,500,500,500,500,500,500,500,500,500,500,500,500,500,500,500,500,500,500,500,500,500,500,500,500,500,500,500,500,500,500,500,500,500,500,500,500,500,500,500,500,500,500,500,500,500,500,500,500,500,500,500,500,500,500,500,500,500,500,500,500,500,500,500,500,500,500,500,500,500,500,500,500,500,500,500,500,500,500,500,500,500,500,500,500,500,500,500,500,500,500,500,500,500,500,500,500,500,500,500,500,500,500,500,500,500,500,500,500,500,500,500,500,500,500,500,500,500,500,500,500,500,500,500,500,500,500,500,500,500,500,500,500,500,500,500,500,500,500,500,500,500,500,500,500,500,500,500,500,500,500,500,500,500,500,500,500,500,500,500,500,500,500,500,500,500,500,500,500,500,500,500,500,500,500,500,500,500,500,500,500,500,500,500,500,500,500,500,500,500,500,500,500,500,500,500,500,500,500,500,500,500,500,500,500,500,500,500,500,500,500,500,500,500,500,500,500,500,500,500,500,500,500,500,500,500,500,500,500,500,500,500,500,500,500,500,500,500,500,500,500,500,500,500,500,500,500,500,500,500,500,500,500,500,500,500,500,500,500,500,500,500,500,500,500,500,500,500,500,500,500,500,500,500,500,500,500,500,500,500,500,500,500,500,500,500,500,500,500,500,500,500,500,500,500,500,500,500,500,500,500,500,500,500,500,500,500,500,500,500,500,500,500,500,500,500,500,500,500,500,500,500,500,500,500,500,500,500,500,500,500,500,500,500,500,500,500,500,500,500,500,500,500,500,500,500,500,500,500,500,500,500,500,500,500,500,500,500,500,500,500,500,500,500,500,500,500,500,500,500,500,500,500,500,500,500,500,500,500,500,500,500,500,500,500,500,500,500,500,500,500,500,500,500,500,500,500,500,500,500,500,500,500,500,500,500,500,500,500,500,500,500,20,20,20,20,20,20,20,20,20,20,20,20,20,20,20,20,20,20,20,20,20,20,20,20,20,20,20,20,20,20,20,20,20,20,20,20,20,20,20,20,20,20,20,20,20,20,20,20,20,20,20,20,20,20,20,20,20,20,20,20,20,20,20,20,20,20,20,20,20,20,20,20,20,20,20,20,20,20,20,20,20,20,20,20,20,20,20,20,20,20,20,20,20,20,20,20,20,20,20,20,20,20,20,20,20,20,20,20,20,20,20,20,20,20,20,20,20,20,20,20,20,20,20,20,20,20,20,20,20,20,20,20,20,20,20,20,20,20,20,20,20,20,20,20,20,20,20,20,20,20,20,20,20,20,20,20,20,20,20,20,20,20,20,20,20,20,20,20,20,20,20,20,20,20,20,20,20,20,20,20,20,20,20,20,20,20,20,20,20,20,20,20,20,20,20,20,20,20,20,20,20,20,20,20,20,20,20,20,20,20,20,20,20,20,20,20,20,20,20,20,20,20,20,20,20,20,20,20,20,20,20,20,20,20,20,20,20,20,20,20,20,20,20,20,20,20,20,20,20,20,20,20,20,20,20,20,20,20,20,20,20,20,20,20,20,20,20,20,20,20,20,20,20,20,20,20,20,20,20,20,20,20,20,20,20,20,20,20,20,20,20,20,20,20,20,20,20,20,20,20,20,20,20,20,20,20,20,20,20,20,20,20,20,20,20,20,20,20,20,20,20,20,20,20,20,20,20,20,20,20,20,20,20,20,20,20,20,20,20,20,20,20,20,20,20,20,20,20,20,20,20,20,20,20,20,20,20,20,20,20,20,20,20,20,20,20,20,20,20,20,20,20,20,20,20,20,20,20,20,20,20,20,20,20,20,20,20,20,20,20,20,20,20,20,20,20,20,20,20,20,20,20,20,20,20,20,20,20,20,20,20,20,20,20,20,20,20,20,20,20,20,20,20,20,20,20,20,20,20,20,20,20,20,20,20,20,20,20,20,20,20,20,20,20,20,20,20,20,20,20,20,20,20,20,20,20,20,20,20,20,20,20,20,20,20,20,20,20,20,20,20,20,20,20,20,20,20,20,20,20,20,20,20,20,20,20,20,20,20,20,20,20,20,20,20,20,20,20,20,20,20,20,20,20,20,20,20,20,20,20,20,20,50,50,50,50,50,50,50,50,50,50,50,50,50,50,50,50,50,50,50,50,50,50,50,50,50,50,50,50,50,50,50,50,50,50,50,50,50,50,50,50,50,50,50,50,50,50,50,50,50,50,50,50,50,50,50,50,50,50,50,50,50,50,50,50,50,50,50,50,50,50,50,50,50,50,50,50,50,50,50,50,50,50,50,50,50,50,50,50,50,50,50,50,50,50,50,50,50,50,50,50,50,50,50,50,50,50,50,50,50,50,50,50,50,50,50,50,50,50,50,50,50,50,50,50,50,50,50,50,50,50,50,50,50,50,50,50,50,50,50,50,50,50,50,50,50,50,50,50,50,50,50,50,50,50,50,50,50,50,50,50,50,50,50,50,50,50,50,50,50,50,50,50,50,50,50,50,50,50,50,50,50,50,50,50,50,50,50,50,50,50,50,50,50,50,50,50,50,50,50,50,50,50,50,50,50,50,50,50,50,50,50,50,50,50,50,50,50,50,50,50,50,50,50,50,50,50,50,50,50,50,50,50,50,50,50,50,50,50,50,50,50,50,50,50,50,50,50,50,50,50,50,50,50,50,50,50,50,50,50,50,50,50,50,50,50,50,50,50,50,50,50,50,50,50,50,50,50,50,50,50,50,50,50,50,50,50,50,50,50,50,50,50,50,50,50,50,50,50,50,50,50,50,50,50,50,50,50,50,50,50,50,50,50,50,50,50,50,50,50,50,50,50,50,50,50,50,50,50,50,50,50,50,50,50,50,50,50,50,50,50,50,50,50,50,50,50,50,50,50,50,50,50,50,50,50,50,50,50,50,50,50,50,50,50,50,50,50,50,50,50,50,50,50,50,50,50,50,50,50,50,50,50,50,50,50,50,50,50,50,50,50,50,50,50,50,50,50,50,50,50,50,50,50,50,50,50,50,50,50,50,50,50,50,50,50,50,50,50,50,50,50,50,50,50,50,50,50,50,50,50,50,50,50,50,50,50,50,50,50,50,50,50,50,50,50,50,50,50,50,50,50,50,50,50,50,50,50,50,50,50,50,50,50,50,50,50,50,50,50,50,50,50,50,50,50,50,50,50,50,50,50,50,50,50,50,50,50,50,50,50,50,50,50,50,50,50,50,50,50,50,50,50,50,50,50,50,50,50,50,50,50,100,100,100,100,100,100,100,100,100,100,100,100,100,100,100,100,100,100,100,100,100,100,100,100,100,100,100,100,100,100,100,100,100,100,100,100,100,100,100,100,100,100,100,100,100,100,100,100,100,100,100,100,100,100,100,100,100,100,100,100,100,100,100,100,100,100,100,100,100,100,100,100,100,100,100,100,100,100,100,100,100,100,100,100,100,100,100,100,100,100,100,100,100,100,100,100,100,100,100,100,100,100,100,100,100,100,100,100,100,100,100,100,100,100,100,100,100,100,100,100,100,100,100,100,100,100,100,100,100,100,100,100,100,100,100,100,100,100,100,100,100,100,100,100,100,100,100,100,100,100,100,100,100,100,100,100,100,100,100,100,100,100,100,100,100,100,100,100,100,100,100,100,100,100,100,100,100,100,100,100,100,100,100,100,100,100,100,100,100,100,100,100,100,100,100,100,100,100,100,100,100,100,100,100,100,100,100,100,100,100,100,100,100,100,100,100,100,100,100,100,100,100,100,100,100,100,100,100,100,100,100,100,100,100,100,100,100,100,100,100,100,100,100,100,100,100,100,100,100,100,100,100,100,100,100,100,100,100,100,100,100,100,100,100,100,100,100,100,100,100,100,100,100,100,100,100,100,100,100,100,100,100,100,100,100,100,100,100,100,100,100,100,100,100,100,100,100,100,100,100,100,100,100,100,100,100,100,100,100,100,100,100,100,100,100,100,100,100,100,100,100,100,100,100,100,100,100,100,100,100,100,100,100,100,100,100,100,100,100,100,100,100,100,100,100,100,100,100,100,100,100,100,100,100,100,100,100,100,100,100,100,100,100,100,100,100,100,100,100,100,100,100,100,100,100,100,100,100,100,100,100,100,100,100,100,100,100,100,100,100,100,100,100,100,100,100,100,100,100,100,100,100,100,100,100,100,100,100,100,100,100,100,100,100,100,100,100,100,100,100,100,100,100,100,100,100,100,100,100,100,100,100,100,100,100,100,100,100,100,100,100,100,100,100,100,100,100,100,100,100,100,100,100,100,100,100,100,100,100,100,100,100,100,100,100,100,100,100,100,100,100,100,100,100,100,100,100,100,100,100,100,100,100,100,100,100,100,100,100,100,100,100,100,100,100,100,100,100,100,100,100,100,100,100,100,100,100,100,100,100,100,100,100,100,100],\"legendgroup\":\"\",\"marker\":{\"color\":[200,200,200,200,200,200,200,200,200,200,200,200,200,200,200,200,200,200,200,200,200,200,200,200,200,200,200,200,200,200,200,200,200,200,200,200,200,200,200,200,200,200,200,200,200,200,200,200,200,200,200,200,200,200,200,200,200,200,200,200,200,200,200,200,200,200,200,200,200,200,200,200,200,200,200,200,200,200,200,200,200,200,200,200,200,200,200,200,200,200,200,200,200,200,200,200,200,200,200,200,200,200,200,200,200,200,200,200,200,200,200,200,200,200,200,200,200,200,200,200,200,200,200,200,200,200,200,200,200,200,200,200,200,200,200,200,200,200,200,200,200,200,200,200,200,200,200,200,200,200,200,200,200,200,200,200,200,200,200,200,200,200,200,200,200,200,200,200,200,200,200,200,200,200,200,200,200,200,200,200,200,200,200,200,200,200,200,200,200,200,200,200,200,200,200,200,200,200,200,200,200,200,200,200,200,200,200,200,200,200,200,200,200,200,200,200,200,200,200,200,200,200,200,200,200,200,200,200,200,200,200,200,200,200,200,200,200,200,200,200,200,200,200,200,200,200,200,200,200,200,200,200,200,200,200,200,200,200,200,200,200,200,200,200,200,200,200,200,200,200,200,200,200,200,200,200,200,200,200,200,200,200,200,200,200,200,200,200,200,200,200,200,200,200,200,200,200,200,200,200,200,200,200,200,200,200,200,200,200,200,200,200,200,200,200,200,200,200,200,200,200,200,200,200,200,200,200,200,200,200,200,200,200,200,200,200,200,200,200,200,200,200,200,200,200,200,200,200,200,200,200,200,200,200,200,200,200,200,200,200,200,200,200,200,200,200,200,200,200,200,200,200,200,200,200,200,200,200,200,200,200,200,200,200,200,200,200,200,200,200,200,200,200,200,200,200,200,200,200,200,200,200,200,200,200,200,200,200,200,200,200,200,200,200,200,200,200,200,200,200,200,200,200,200,200,200,200,200,200,200,200,200,200,200,200,200,200,200,200,200,200,200,200,200,200,200,200,200,200,200,200,200,200,200,200,200,200,200,200,200,200,200,200,200,200,200,200,200,200,200,200,200,200,200,200,200,200,200,200,200,200,200,200,200,200,200,200,200,200,200,200,200,200,200,200,200,200,200,200,200,200,200,200,200,200,200,200,200,200,200,200,200,200,200,200,200,200,200,200,200,200,200,200,200,200,200,10,10,10,10,10,10,10,10,10,10,10,10,10,10,10,10,10,10,10,10,10,10,10,10,10,10,10,10,10,10,10,10,10,10,10,10,10,10,10,10,10,10,10,10,10,10,10,10,10,10,10,10,10,10,10,10,10,10,10,10,10,10,10,10,10,10,10,10,10,10,10,10,10,10,10,10,10,10,10,10,10,10,10,10,10,10,10,10,10,10,10,10,10,10,10,10,10,10,10,10,10,10,10,10,10,10,10,10,10,10,10,10,10,10,10,10,10,10,10,10,10,10,10,10,10,10,10,10,10,10,10,10,10,10,10,10,10,10,10,10,10,10,10,10,10,10,10,10,10,10,10,10,10,10,10,10,10,10,10,10,10,10,10,10,10,10,10,10,10,10,10,10,10,10,10,10,10,10,10,10,10,10,10,10,10,10,10,10,10,10,10,10,10,10,10,10,10,10,10,10,10,10,10,10,10,10,10,10,10,10,10,10,10,10,10,10,10,10,10,10,10,10,10,10,10,10,10,10,10,10,10,10,10,10,10,10,10,10,10,10,10,10,10,10,10,10,10,10,10,10,10,10,10,10,10,10,10,10,10,10,10,10,10,10,10,10,10,10,10,10,10,10,10,10,10,10,10,10,10,10,10,10,10,10,10,10,10,10,10,10,10,10,10,10,10,10,10,10,10,10,10,10,10,10,10,10,10,10,10,10,10,10,10,10,10,10,10,10,10,10,10,10,10,10,10,10,10,10,10,10,10,10,10,10,10,10,10,10,10,10,10,10,10,10,10,10,10,10,10,10,10,10,10,10,10,10,10,10,10,10,10,10,10,10,10,10,10,10,10,10,10,10,10,10,10,10,10,10,10,10,10,10,10,10,10,10,10,10,10,10,10,10,10,10,10,10,10,10,10,10,10,10,10,10,10,10,10,10,10,10,10,10,10,10,10,10,10,10,10,10,10,10,10,10,10,10,10,10,10,10,10,10,10,10,10,10,10,10,10,10,10,10,10,10,10,10,10,10,10,10,10,10,10,10,10,10,10,10,10,10,10,10,10,10,10,10,10,10,10,10,10,10,10,10,10,10,10,10,10,10,10,10,10,10,10,10,10,10,10,10,10,10,10,10,10,10,10,10,10,10,10,10,10,10,10,10,10,10,10,10,10,10,10,10,10,10,500,500,500,500,500,500,500,500,500,500,500,500,500,500,500,500,500,500,500,500,500,500,500,500,500,500,500,500,500,500,500,500,500,500,500,500,500,500,500,500,500,500,500,500,500,500,500,500,500,500,500,500,500,500,500,500,500,500,500,500,500,500,500,500,500,500,500,500,500,500,500,500,500,500,500,500,500,500,500,500,500,500,500,500,500,500,500,500,500,500,500,500,500,500,500,500,500,500,500,500,500,500,500,500,500,500,500,500,500,500,500,500,500,500,500,500,500,500,500,500,500,500,500,500,500,500,500,500,500,500,500,500,500,500,500,500,500,500,500,500,500,500,500,500,500,500,500,500,500,500,500,500,500,500,500,500,500,500,500,500,500,500,500,500,500,500,500,500,500,500,500,500,500,500,500,500,500,500,500,500,500,500,500,500,500,500,500,500,500,500,500,500,500,500,500,500,500,500,500,500,500,500,500,500,500,500,500,500,500,500,500,500,500,500,500,500,500,500,500,500,500,500,500,500,500,500,500,500,500,500,500,500,500,500,500,500,500,500,500,500,500,500,500,500,500,500,500,500,500,500,500,500,500,500,500,500,500,500,500,500,500,500,500,500,500,500,500,500,500,500,500,500,500,500,500,500,500,500,500,500,500,500,500,500,500,500,500,500,500,500,500,500,500,500,500,500,500,500,500,500,500,500,500,500,500,500,500,500,500,500,500,500,500,500,500,500,500,500,500,500,500,500,500,500,500,500,500,500,500,500,500,500,500,500,500,500,500,500,500,500,500,500,500,500,500,500,500,500,500,500,500,500,500,500,500,500,500,500,500,500,500,500,500,500,500,500,500,500,500,500,500,500,500,500,500,500,500,500,500,500,500,500,500,500,500,500,500,500,500,500,500,500,500,500,500,500,500,500,500,500,500,500,500,500,500,500,500,500,500,500,500,500,500,500,500,500,500,500,500,500,500,500,500,500,500,500,500,500,500,500,500,500,500,500,500,500,500,500,500,500,500,500,500,500,500,500,500,500,500,500,500,500,500,500,500,500,500,500,500,500,500,500,500,500,500,500,500,500,500,500,500,500,500,500,500,500,500,500,500,500,500,500,500,500,500,500,500,500,500,500,500,500,500,500,500,500,500,500,500,500,500,500,500,500,500,500,500,500,500,500,500,500,500,500,500,500,500,500,500,500,500,500,500,500,500,20,20,20,20,20,20,20,20,20,20,20,20,20,20,20,20,20,20,20,20,20,20,20,20,20,20,20,20,20,20,20,20,20,20,20,20,20,20,20,20,20,20,20,20,20,20,20,20,20,20,20,20,20,20,20,20,20,20,20,20,20,20,20,20,20,20,20,20,20,20,20,20,20,20,20,20,20,20,20,20,20,20,20,20,20,20,20,20,20,20,20,20,20,20,20,20,20,20,20,20,20,20,20,20,20,20,20,20,20,20,20,20,20,20,20,20,20,20,20,20,20,20,20,20,20,20,20,20,20,20,20,20,20,20,20,20,20,20,20,20,20,20,20,20,20,20,20,20,20,20,20,20,20,20,20,20,20,20,20,20,20,20,20,20,20,20,20,20,20,20,20,20,20,20,20,20,20,20,20,20,20,20,20,20,20,20,20,20,20,20,20,20,20,20,20,20,20,20,20,20,20,20,20,20,20,20,20,20,20,20,20,20,20,20,20,20,20,20,20,20,20,20,20,20,20,20,20,20,20,20,20,20,20,20,20,20,20,20,20,20,20,20,20,20,20,20,20,20,20,20,20,20,20,20,20,20,20,20,20,20,20,20,20,20,20,20,20,20,20,20,20,20,20,20,20,20,20,20,20,20,20,20,20,20,20,20,20,20,20,20,20,20,20,20,20,20,20,20,20,20,20,20,20,20,20,20,20,20,20,20,20,20,20,20,20,20,20,20,20,20,20,20,20,20,20,20,20,20,20,20,20,20,20,20,20,20,20,20,20,20,20,20,20,20,20,20,20,20,20,20,20,20,20,20,20,20,20,20,20,20,20,20,20,20,20,20,20,20,20,20,20,20,20,20,20,20,20,20,20,20,20,20,20,20,20,20,20,20,20,20,20,20,20,20,20,20,20,20,20,20,20,20,20,20,20,20,20,20,20,20,20,20,20,20,20,20,20,20,20,20,20,20,20,20,20,20,20,20,20,20,20,20,20,20,20,20,20,20,20,20,20,20,20,20,20,20,20,20,20,20,20,20,20,20,20,20,20,20,20,20,20,20,20,20,20,20,20,20,20,20,20,20,20,20,20,20,20,20,20,20,20,20,20,20,20,20,20,20,20,20,20,20,20,20,20,20,20,20,20,20,20,20,20,20,20,20,20,20,20,20,20,20,50,50,50,50,50,50,50,50,50,50,50,50,50,50,50,50,50,50,50,50,50,50,50,50,50,50,50,50,50,50,50,50,50,50,50,50,50,50,50,50,50,50,50,50,50,50,50,50,50,50,50,50,50,50,50,50,50,50,50,50,50,50,50,50,50,50,50,50,50,50,50,50,50,50,50,50,50,50,50,50,50,50,50,50,50,50,50,50,50,50,50,50,50,50,50,50,50,50,50,50,50,50,50,50,50,50,50,50,50,50,50,50,50,50,50,50,50,50,50,50,50,50,50,50,50,50,50,50,50,50,50,50,50,50,50,50,50,50,50,50,50,50,50,50,50,50,50,50,50,50,50,50,50,50,50,50,50,50,50,50,50,50,50,50,50,50,50,50,50,50,50,50,50,50,50,50,50,50,50,50,50,50,50,50,50,50,50,50,50,50,50,50,50,50,50,50,50,50,50,50,50,50,50,50,50,50,50,50,50,50,50,50,50,50,50,50,50,50,50,50,50,50,50,50,50,50,50,50,50,50,50,50,50,50,50,50,50,50,50,50,50,50,50,50,50,50,50,50,50,50,50,50,50,50,50,50,50,50,50,50,50,50,50,50,50,50,50,50,50,50,50,50,50,50,50,50,50,50,50,50,50,50,50,50,50,50,50,50,50,50,50,50,50,50,50,50,50,50,50,50,50,50,50,50,50,50,50,50,50,50,50,50,50,50,50,50,50,50,50,50,50,50,50,50,50,50,50,50,50,50,50,50,50,50,50,50,50,50,50,50,50,50,50,50,50,50,50,50,50,50,50,50,50,50,50,50,50,50,50,50,50,50,50,50,50,50,50,50,50,50,50,50,50,50,50,50,50,50,50,50,50,50,50,50,50,50,50,50,50,50,50,50,50,50,50,50,50,50,50,50,50,50,50,50,50,50,50,50,50,50,50,50,50,50,50,50,50,50,50,50,50,50,50,50,50,50,50,50,50,50,50,50,50,50,50,50,50,50,50,50,50,50,50,50,50,50,50,50,50,50,50,50,50,50,50,50,50,50,50,50,50,50,50,50,50,50,50,50,50,50,50,50,50,50,50,50,50,50,50,50,50,50,50,50,50,50,50,50,50,50,50,50,50,50,50,50,50,50,50,50,50,50,50,50,50,50,50,50,50,50,50,100,100,100,100,100,100,100,100,100,100,100,100,100,100,100,100,100,100,100,100,100,100,100,100,100,100,100,100,100,100,100,100,100,100,100,100,100,100,100,100,100,100,100,100,100,100,100,100,100,100,100,100,100,100,100,100,100,100,100,100,100,100,100,100,100,100,100,100,100,100,100,100,100,100,100,100,100,100,100,100,100,100,100,100,100,100,100,100,100,100,100,100,100,100,100,100,100,100,100,100,100,100,100,100,100,100,100,100,100,100,100,100,100,100,100,100,100,100,100,100,100,100,100,100,100,100,100,100,100,100,100,100,100,100,100,100,100,100,100,100,100,100,100,100,100,100,100,100,100,100,100,100,100,100,100,100,100,100,100,100,100,100,100,100,100,100,100,100,100,100,100,100,100,100,100,100,100,100,100,100,100,100,100,100,100,100,100,100,100,100,100,100,100,100,100,100,100,100,100,100,100,100,100,100,100,100,100,100,100,100,100,100,100,100,100,100,100,100,100,100,100,100,100,100,100,100,100,100,100,100,100,100,100,100,100,100,100,100,100,100,100,100,100,100,100,100,100,100,100,100,100,100,100,100,100,100,100,100,100,100,100,100,100,100,100,100,100,100,100,100,100,100,100,100,100,100,100,100,100,100,100,100,100,100,100,100,100,100,100,100,100,100,100,100,100,100,100,100,100,100,100,100,100,100,100,100,100,100,100,100,100,100,100,100,100,100,100,100,100,100,100,100,100,100,100,100,100,100,100,100,100,100,100,100,100,100,100,100,100,100,100,100,100,100,100,100,100,100,100,100,100,100,100,100,100,100,100,100,100,100,100,100,100,100,100,100,100,100,100,100,100,100,100,100,100,100,100,100,100,100,100,100,100,100,100,100,100,100,100,100,100,100,100,100,100,100,100,100,100,100,100,100,100,100,100,100,100,100,100,100,100,100,100,100,100,100,100,100,100,100,100,100,100,100,100,100,100,100,100,100,100,100,100,100,100,100,100,100,100,100,100,100,100,100,100,100,100,100,100,100,100,100,100,100,100,100,100,100,100,100,100,100,100,100,100,100,100,100,100,100,100,100,100,100,100,100,100,100,100,100,100,100,100,100,100,100,100,100,100,100,100,100,100,100,100,100,100,100,100,100,100,100,100,100,100,100,100,100,100,100,100,100,100,100,100],\"coloraxis\":\"coloraxis\",\"symbol\":\"circle\",\"size\":4},\"mode\":\"markers\",\"name\":\"\",\"scene\":\"scene\",\"showlegend\":false,\"x\":[225,225,224,225,225,223,210,174,182,153,134,136,142,179,204,172,171,166,166,165,165,165,164,165,157,209,208,191,191,191,190,190,190,190,191,191,212,211,212,212,212,212,212,212,212,211,236,230,232,179,180,180,169,195,196,197,197,197,197,197,196,197,128,129,128,127,128,128,128,128,175,174,173,173,173,173,173,164,162,163,163,168,210,208,208,208,205,208,208,207,208,207,207,207,207,207,201,200,203,207,203,203,202,202,196,203,203,203,202,202,202,202,202,202,202,202,201,201,200,225,205,180,179,179,180,180,181,181,181,212,197,196,197,196,198,197,197,195,188,180,184,198,195,195,195,155,213,211,211,210,210,210,210,210,210,208,187,187,187,192,191,191,191,191,191,191,191,191,191,191,191,191,186,226,205,188,147,21,144,146,145,145,145,206,162,162,161,161,161,161,161,161,161,161,161,161,161,161,161,161,161,182,209,191,158,157,157,231,186,186,186,186,185,185,185,185,185,185,185,184,174,157,198,198,198,198,198,198,198,197,197,190,189,189,189,189,189,189,189,189,189,189,189,137,137,137,137,137,137,137,136,136,136,136,135,135,133,181,166,164,214,124,139,183,183,183,182,182,182,182,182,182,182,182,182,182,182,182,182,232,167,165,165,164,166,161,161,160,160,161,170,169,160,213,155,155,155,154,222,215,199,197,196,196,197,197,197,196,198,198,197,197,197,198,198,199,199,199,197,199,199,199,196,199,170,170,170,169,170,170,169,169,163,163,137,137,137,136,136,136,136,165,146,146,145,125,132,128,130,131,134,134,132,133,123,123,123,123,123,123,123,123,123,123,123,123,126,142,142,142,142,142,143,143,144,146,122,142,132,134,133,140,144,142,140,142,152,136,154,154,145,154,154,152,149,150,150,152,154,147,148,147,131,132,134,140,144,147,147,147,146,142,142,142,142,134,133,132,128,128,128,128,130,131,68,160,163,163,163,163,163,153,148,137,145,144,144,144,144,144,144,151,152,137,138,138,138,138,138,140,180,139,139,136,134,134,150,139,136,138,137,137,130,132,130,128,128,129,131,135,135,159,160,157,139,137,149,149,144,146,183,186,180,149,152,152,152,151,151,166,167,154,151,155,155,156,156,175,145,144,182,114,116,142,128,128,143,130,131,132,131,130,140,147,147,140,140,131,151,151,151,151,126,148,149,149,208,208,208,206,205,205,207,213,209,207,205,176,159,200,222,199,216,228,231,187,181,185,189,185,184,164,219,159,148,148,148,154,148,157,200,196,196,194,193,193,198,200,201,199,202,202,202,202,202,202,202,202,202,220,184,226,187,177,175,176,171,167,167,167,172,181,182,181,181,181,181,181,181,235,192,192,192,192,192,192,192,190,189,189,189,191,189,198,146,145,143,147,148,147,148,179,154,155,155,154,155,155,155,155,155,155,155,160,215,218,218,218,218,218,222,222,209,209,209,212,211,210,210,210,211,235,247,246,246,246,246,245,245,246,245,249,250,253,252,250,247,165,165,165,165,165,165,171,173,173,173,173,173,173,173,173,173,173,173,173,185,139,138,138,138,138,140,141,169,181,180,179,179,178,179,178,178,178,155,155,155,155,155,155,155,162,190,199,199,179,175,175,175,175,222,234,234,234,215,161,161,161,161,169,179,179,179,191,200,200,200,200,200,213,219,221,113,113,113,113,113,113,115,114,114,110,113,105,121,139,152,153,153,137,138,138,138,138,161,125,133,133,133,134,134,134,134,137,223,223,223,209,151,151,151,151,173,186,187,187,208,142,103,103,103,130,129,130,165,191,190,192,189,196,213,116,116,115,115,144,225,225,224,224,200,200,194,224,72,72,72,178,158,158,158,158,158,157,157,157,157,157,157,157,157,157,157,157,157,157,157,81,81,81,82,82,82,91,96,83,103,107,106,107,107,107,107,107,107,107,86,82,82,82,82,86,86,86,86,86,94,96,96,83,77,98,97,72,86,85,91,93,103,107,107,107,107,107,107,121,81,80,82,83,83,83,96,109,116,116,116,105,117,132,69,70,70,70,70,70,70,70,80,77,76,75,75,81,77,77,79,79,79,79,99,99,100,101,101,94,94,78,79,79,89,77,76,75,75,77,77,66,69,72,85,86,88,78,111,105,85,85,85,86,86,86,86,103,104,105,115,79,87,81,82,82,101,89,101,97,96,98,104,103,102,108,106,109,110,101,86,86,86,87,116,105,109,109,109,109,110,88,88,86,89,89,92,103,103,102,104,105,104,102,94,94,94,97,97,97,81,86,100,102,102,102,108,108,107,138,90,92,91,91,89,100,79,82,82,82,83,80,105,89,87,89,91,125,88,87,87,87,87,41,103,101,187,186,182,182,182,182,182,184,184,184,184,185,182,180,171,166,160,160,146,154,155,157,164,169,170,166,168,159,191,180,166,168,171,141,141,140,140,140,140,140,140,140,140,179,179,178,177,165,171,173,173,173,173,173,173,173,172,174,144,130,131,131,131,131,131,132,138,145,154,162,159,158,154,145,145,145,139,192,165,183,187,186,188,189,190,189,184,183,188,188,192,188,196,199,190,189,189,189,226,186,194,194,194,194,213,156,161,161,162,204,189,197,181,182,182,183,183,183,183,183,183,187,167,121,121,121,121,121,121,123,138,141,148,154,155,156,156,158,164,171,176,167,167,167,168,166,166,217,231,232,232,232,232,232,233,233,233,233,233,233,143,148,145,144,218,220,221,221,221,221,221,221,221,221,221,132,138,137,137,137,137,136,136,136,136,135,135,135,135,135,135,181,173,173,172,172,153,146,146,146,146,146,146,146,146,146,146,146,146,157,152,115,114,114,114,115,163,160,159,159,159,160,162,161,157,128,127,127,127,127,127,183,181,188,182,170,172,170,169,169,172,116,116,117,117,117,139,158,176,174,158,150,130,129,129,129,129,88,88,100,96,94,94,94,94,151,175,177,145,134,147,150,162,154,153,152,152,135,185,198,198,202,203,145,140,139,152,146,152,149,182,172,159,159,158,156,158,197,154,154,152,145,146,199,174,168,170,160,158,156,150,163,191,147,147,146,160,158,179,222,216,84,84,84,84,85,87,87,87,87,87,87,87,87,87,87,78,77,86,70,78,71,71,71,71,71,71,71,71,71,71,71,72,67,70,59,70,74,74,74,74,74,95,95,95,95,89,89,95,84,74,74,74,76,75,73,75,75,74,73,73,76,76,96,101,101,99,99,100,96,96,97,99,98,99,101,79,81,81,81,81,94,95,95,115,123,100,100,99,99,118,114,110,95,95,96,77,77,77,77,77,77,77,77,89,90,90,91,91,86,88,88,102,113,78,78,80,74,91,86,69,81,84,95,96,94,94,94,94,94,94,110,86,86,86,86,86,86,90,89,97,89,92,90,92,93,93,93,100,103,119,89,90,89,86,87,79,80,87,88,89,89,89,89,89,89,90,90,88,88,88,88,88,88,89,89,89,90,98,93,92,95,95,99,77,78,77,96,92,92,92,94,106,89,89,89,89,90,93,87,88,89,89,89,84,240,240,240,240,240,238,238,238,238,238,238,238,238,238,238,238,230,219,234,224,222,218,246,162,162,162,162,162,166,166,164,116,116,116,116,116,127,165,167,166,164,207,207,207,205,205,209,210,210,233,226,229,224,167,167,166,166,166,165,165,165,115,141,179,166,166,166,166,166,166,167,190,168,168,168,168,168,204,215,215,212,145,145,145,145,145,185,183,181,178,153,153,153,153,153,153,153,153,155,169,168,188,188,188,188,188,188,188,190,217,221,130,130,130,130,130,130,130,130,130,130,130,130,135,173,173,173,138,138,138,138,182,185,198,204,203,202,201,199,194,194,196,196,196,196,209,245,167,172,173,172,174,174,174,174,174,174,174,174,175,171,170,174,207,211,212,212,212,206,210,211,201,200,200,200,223,226,227,227,225,226,227,230,167,167,167,165,171,169,204,164,163,163,164,167,166,166,177,179,173,179,179,179,179,180,176,194,197,192,190,191,190,198,191,190,190,190,190,192,199,155,148,149,149,147,147,146,146,146,145,147,175,175,175,175,176,178,187,187,186,185,101,99,100,99,107,118,117,113,112,114,114,143,131,133,132,130,130,130,130,130,130,130,164,168,167,186,210,233,235,236,233,228,242,191,191,191,191,243,241,240,228,229,230,230,230,201,159,232,216,215,214,215,211,198,197,197,223,238,238,238,212,206,212,247,195,216,215,215,130,105,107,108,106,129,130,95,95,95,99,99,124,125,121,86,86,86,86,88,105,103,103,104,111,89,87,87,108,108,108,108,108,92,118,108,93,135,96,97,97,103,123,123,123,123,120,110,121,120,98,98,101,98,124,91,91,91,99,100,99,100,100,98,98,48,48,48,47,104,122,130,130,130,133,133,133,132,107,106,106,117,138,142,98,98,97,99,122,120,132,128,108,107,108,128,111,111,111,48,45,46,46,96,115,117,95,95,95,95,96,92,120,132,133,133,125,114,131,126,142,80,80,72,93,99,70,70,70,84,91,80,93,99,94,94,94,108,108,107,120,86,96,109,103,103,103,119,114,114,148,124,171,110,111,96,97,99,53,114,111,111,111,159,151,147,161,93,100,92,93,93,93,112,128,104,132,118,119,119,119,75,83,96,98,122,126,128,124,103,102,102,129,111,111,111,111,112,106,102,103,103,109,217,223,221,222,187,218,219,229,228,225,224,224,137,164,184,144,150,140,169,169,203,200,226,222,201,127,118,138,124,123,123,123,123,86,86,85,117,116,167,158,180,186,180,190,232,197,193,219,199,226,133,133,144,140,140,143,145,141,144,150,151,133,133,141,131,131,134,155,155,185,186,187,142,171,147,156,163,163,162,166,181,198,141,141,141,134,131,147,149,148,152,133,128,126,124,123,123,123,123,125,124,53,221,139,163,145,200,180,178,159,160,160,160,181,188,145,145,145,150,160,175,177,168,161,130,132,139,139,159,141,162,158,159,161,126,126,126,126,126,126,133,108,108,109,109,125,128,128,133,130,129,136,135,133,157,156,156,156,156,161,160,172,180,180,175,184,184,168,126,126,126,127,127,127,136,140,140,142,134,134,132,133,133,133,134,135,135,137,173,168,172,172,170,177,112,112,110,106,110,110,110,105,105,107,106,105,105,104,190,192,193,193,178,182,187,187,166,166,165,166,166,166,166,166,166,169,152,162,207,207,212,149,209,217,185,154,84,90,89,170,148,148,149,147,162,160,154,155,155,155,168,166,150,150,176,169,186,182,178,182,178,180,179,179,179,177,203,170,174,170,173,167,167,169,173,174,220,220,220,220,220,209,176,155,198,107,106,106,107,128,153,155,155,159,156,111,114,114,114,113,146,147,115,114,116,144,136,137,140,137,76,76,81,81,78,78,78,78,78,78,78,78,78,77,81,80,82,84,81,79,80,81,78,88,92,101,98,102,120,123,103,94,94,96,95,95,94,94,119,97,77,77,77,79,79,83,84,82,98,106,85,88,98,102,87,70,70,81,81,89,92,86,77,98,53,92,65,78,91,92,80,79,82,78,73,73,64,84,83,80,86,73,71,84,82,97,98,97,99,99,94,100,99,82,80,72,80,72,84,69,74,74,82,75,77,77,77,76,70,76,84,88,86,91,95,99,98,99,108,82,83,83,82,77,78,78,78,87,87,87,87,87,86,77,78,78,79,79,78,105,87,87,88,113,112,112,77,72,73,72,73,78,85,83,83,80,76,70,70,74,88,88,88,108,80,93,91,101,86,85,84,93,77,77,77,95,117,113,111,107,98,85,96,96,93,74,73,75,87,83,81,80,78,78,79,100,104,104,104,104,104,108,112,112,113,113,113,119,118,118,114,113,121,115,115,133,130,130,130,128,118,113,113,113,113,117,132,147,130,150,135,129,130,130,129,128,128,129,130,127,128,128,127,81,59,62,69,115,116,128,164,173,169,138,141,141,141,179,162,181,149,149,149,149,149,149,145,148,145,152,150,147,150,176,166,144,160,165,170,141,150,150,150,149,143,142,142,142,178,145,144,199,199,200,199,199,198,198,198,198,198,197,198,197,198,170,143,151,152,153,153,153,153,153,158,161,160,159,158,203,207,207,210,210,210,210,208,209,194,179,177,178,175,175,176,183,191,235,140,137,120,120,120,120,120,121,120,118,118,118,118,119,104,169,175,174,171,171,171,170,165,165,165,165,164,162,146,168,152,155,153,157,154,169,165,163,163,155,161,152,141,142,164,155,140,139,137,126,124,129,121,116,148,175,174,168,170,167,167,169,189,184,172,181,198,164,138,154,184,141,141,149,149,148,129,150,150,148,145,145,150,158,139,144,183,175,151,164,180,182,192,195,206,215,202,203,203,201,193,191,116,134,134,123,124,130,150,145,124,119,141,127,127,127,126,123,140,154,155,140,146,146,148,148,148,151,153,153,155,155,155,132,133,137,190,189,188,122,121,120,125,153,159,160,162,160,161,158,215,159,154,154,160,143,142,147,147,147,148,145,145,145,149,147,180,125,129,127,126,126,123,67,66,66,66,66,67,67,67,67,67,67,63,74,73,72,77,76,77,70,82,82,82,82,82,82,82,85,72,71,71,71,71,73,83,73,104,101,94,85,101,100,100,100,100,99,99,98,98,63,63,63,67,98,81,81,81,74,87,90,86,97,95,107,85,85,85,84,84,94,93,91,90,90,94,94,94,77,77,77,92,99,71,71,71,71,71,71,83,87,87,87,87,87,87,100,65,65,65,72,86,86,83,83,83,84,83,82,82,82,82,82,81,83,97,97,97,97,95,112,81,82,82,82,82,82,81,84,87,87,88,93,109,104,79,81,83,82,82,82,82,82,84,86,103,92,50,50,99,96,95,95,95,96,100,105,76,91,82,83,83,83,74,88,107,96,96,96,95,95,95,95,113,78,78,80,80,79,83,97,87,105,109,109,110,75,75,75,85,86,89,101,97,64,64,67,72,72,70,80,74,78,78,77,112,108],\"y\":[299,298,296,298,297,295,281,243,253,213,188,190,198,246,281,213,211,206,206,205,205,205,204,204,192,269,268,254,254,254,253,253,253,253,254,254,271,269,290,289,289,289,289,289,289,288,319,312,315,245,246,246,228,268,270,270,270,270,269,270,269,270,161,161,160,159,159,160,160,160,229,227,226,226,226,226,226,215,213,213,213,221,282,279,279,279,275,279,279,278,278,278,278,278,278,278,269,268,272,278,260,261,260,260,250,259,258,258,258,257,257,257,257,257,257,257,256,256,255,291,262,235,234,234,235,236,236,236,237,283,259,258,258,258,260,259,259,256,245,233,240,262,249,249,249,207,290,287,286,286,286,286,286,286,286,282,242,241,243,245,245,244,244,245,245,245,245,245,245,245,245,245,237,285,271,229,173,30,171,172,172,171,171,249,190,189,189,189,189,189,188,188,188,188,188,188,188,188,188,188,188,217,252,257,204,203,203,303,242,242,242,242,242,242,241,241,241,241,241,239,230,200,253,254,254,254,254,254,256,256,255,245,245,245,245,245,244,245,245,245,245,244,244,183,183,183,183,182,182,182,182,182,181,181,181,181,178,252,217,214,281,170,190,243,242,242,241,241,241,241,241,241,241,241,241,240,240,240,240,326,212,209,209,208,212,206,206,205,205,206,218,217,208,281,199,198,198,197,305,277,257,254,253,253,253,254,254,253,255,255,253,253,254,255,255,256,257,257,253,257,257,256,253,256,138,138,138,138,138,138,138,138,133,134,109,108,109,108,108,108,108,132,114,113,112,97,102,99,100,102,104,104,103,103,97,97,97,97,97,97,97,97,97,97,97,97,97,111,111,111,111,111,112,112,113,114,94,111,106,105,105,113,116,114,113,112,119,107,121,121,113,124,124,121,119,119,119,121,123,116,117,118,105,106,108,113,116,118,118,118,115,117,117,117,117,109,103,103,99,99,99,99,101,102,56,123,125,126,126,126,126,112,108,100,106,106,106,106,105,105,105,111,111,106,107,108,108,108,108,109,138,106,106,104,102,102,116,104,105,107,107,107,101,102,101,100,101,101,103,105,106,121,122,120,106,105,115,115,111,113,139,141,136,112,114,114,114,113,113,125,125,115,112,116,116,116,116,132,113,112,139,90,92,111,100,100,109,102,103,103,103,102,109,115,115,110,110,102,119,119,119,119,98,116,117,117,272,272,272,270,268,268,270,281,276,275,271,232,208,262,311,277,304,322,326,261,252,258,264,259,257,226,302,201,187,188,186,196,187,197,256,250,249,247,246,246,253,256,257,254,259,259,259,259,259,258,258,258,258,286,235,297,250,224,223,223,217,210,210,211,218,246,248,247,247,247,246,246,246,321,245,245,245,245,245,245,245,242,241,241,241,243,241,253,182,181,178,183,184,183,185,226,198,198,198,198,198,198,198,198,198,198,198,206,280,284,285,285,285,285,290,290,283,283,284,288,286,286,285,285,286,316,335,334,334,334,334,334,334,334,334,340,342,347,345,342,337,203,203,203,203,203,203,212,214,215,215,215,215,215,215,215,215,215,215,215,232,181,180,180,180,180,182,184,218,234,233,232,231,231,231,230,230,230,185,185,185,185,185,185,185,194,230,244,244,249,244,244,244,244,306,318,318,318,288,198,198,198,198,207,219,219,220,258,270,270,270,270,270,293,298,300,129,129,129,129,129,129,132,131,130,125,129,118,140,158,183,184,184,165,167,167,167,167,196,141,151,151,151,152,152,152,152,157,306,307,307,279,175,175,175,175,207,253,255,253,283,179,116,116,116,148,147,148,206,261,260,262,257,270,288,132,132,132,132,169,310,310,309,309,271,271,265,306,89,89,89,216,195,195,195,194,195,193,193,193,193,193,193,193,193,193,193,193,193,193,193,76,76,76,76,77,77,85,88,78,96,104,103,104,104,104,104,104,104,104,81,77,77,77,77,81,81,81,81,82,89,90,89,76,71,93,91,67,81,80,87,89,97,102,102,102,102,102,102,115,75,74,75,76,77,77,89,105,113,113,113,101,114,130,63,64,64,64,64,64,64,63,74,71,71,69,69,75,71,72,73,73,73,73,97,97,98,99,98,92,92,72,73,73,83,72,70,70,70,71,71,62,64,67,78,80,82,72,101,96,80,80,80,81,81,81,81,101,102,103,115,74,80,74,74,75,93,82,93,90,89,90,100,99,98,104,102,104,104,98,81,81,82,82,109,100,105,105,106,107,107,80,80,78,80,80,82,97,98,96,99,100,100,97,87,87,87,90,90,90,75,80,96,98,98,99,103,103,103,132,86,88,88,88,84,95,74,77,77,77,77,75,95,84,81,84,85,117,82,82,82,82,82,43,97,95,261,259,254,254,254,254,254,256,256,256,256,258,254,250,237,230,225,224,204,215,216,219,225,236,236,231,233,220,266,249,229,232,235,200,200,199,199,199,199,199,199,199,199,247,247,246,245,227,237,240,240,240,240,240,240,239,239,242,204,185,185,185,185,186,185,186,195,205,219,230,226,224,219,209,208,208,199,279,236,262,268,266,270,273,273,273,265,263,268,265,270,261,274,278,269,268,268,268,324,262,273,273,273,273,302,222,229,230,231,289,268,281,256,258,258,259,259,259,259,259,259,265,237,168,168,168,168,168,168,170,194,199,208,217,220,220,222,224,235,245,252,242,243,243,242,240,240,313,328,328,329,329,329,329,330,330,330,330,330,330,201,210,204,203,312,315,317,317,317,318,318,318,318,318,317,187,196,195,195,195,194,194,194,193,193,192,192,192,192,192,192,261,243,242,241,241,212,203,203,202,202,202,202,202,202,202,202,202,202,218,211,161,160,160,160,161,231,227,225,226,226,227,230,228,222,174,174,173,174,174,174,250,248,261,252,234,238,235,234,234,238,162,162,162,163,163,194,224,248,245,224,212,185,185,185,185,185,127,127,142,136,133,133,133,133,215,252,256,208,192,211,216,237,224,221,219,220,191,265,284,283,290,292,204,196,195,212,204,213,207,258,243,224,222,221,219,222,279,217,217,214,203,204,280,240,231,235,219,216,214,205,223,263,204,204,203,224,222,252,317,308,98,98,98,98,99,102,102,102,102,102,102,102,102,102,102,89,88,99,82,91,82,82,83,83,83,83,83,83,83,83,83,83,77,81,67,79,84,84,84,84,84,107,107,107,107,99,101,107,93,85,84,84,87,86,83,86,86,85,83,83,86,87,109,119,118,116,116,117,114,114,114,116,115,116,118,89,92,93,93,93,106,107,107,132,141,117,117,115,115,137,130,126,107,107,108,92,90,90,90,90,90,90,90,104,106,106,106,107,100,102,103,120,132,92,92,96,88,108,101,80,96,101,112,111,109,109,109,109,109,109,128,101,100,100,100,100,100,106,105,114,100,107,104,106,108,108,108,117,120,139,104,106,105,101,102,92,94,104,104,105,105,105,105,105,105,107,107,104,104,104,104,104,104,106,106,102,103,114,107,106,109,110,115,90,90,90,113,106,106,106,109,125,105,105,105,106,106,110,101,101,104,105,105,99,337,337,337,337,337,335,335,335,335,335,335,335,335,335,335,336,327,308,333,315,313,306,347,212,212,212,212,212,217,217,213,144,145,145,144,144,158,209,211,210,208,298,298,298,296,296,302,302,301,333,321,325,318,214,214,212,212,212,211,211,211,149,179,226,210,211,211,211,211,211,211,268,235,235,235,234,236,285,300,300,296,181,181,181,181,181,235,232,229,227,197,197,197,197,197,196,196,196,199,218,216,270,270,270,270,270,270,270,267,309,316,163,163,163,163,163,163,163,163,163,163,163,163,167,223,223,224,177,177,177,177,232,236,285,295,293,292,291,287,280,279,283,283,283,283,302,353,214,221,222,222,225,225,225,225,225,226,226,226,225,227,226,233,274,279,280,280,281,273,278,279,287,287,287,287,320,315,318,318,315,316,317,321,209,211,211,207,217,215,266,209,208,207,209,214,213,213,229,230,221,229,246,246,246,248,243,273,272,266,264,265,264,275,266,264,264,263,263,266,273,193,184,184,184,182,182,180,180,180,179,197,233,233,234,234,236,238,249,248,247,246,126,123,124,123,134,148,145,141,139,141,141,181,165,168,167,165,165,165,164,165,165,165,211,215,214,268,304,338,341,342,337,330,352,268,268,268,268,343,339,338,323,324,325,325,326,282,222,325,299,297,295,298,292,278,277,278,319,334,334,335,305,296,306,353,275,306,306,306,141,112,114,115,113,139,141,100,100,100,105,105,131,132,128,89,89,89,89,91,112,112,113,113,122,93,91,90,117,117,117,117,117,99,131,116,100,149,103,104,104,110,136,136,137,136,131,120,134,132,97,97,100,97,125,95,95,95,106,106,105,106,106,104,103,53,53,53,52,108,126,137,137,140,147,147,147,147,118,118,118,130,152,157,106,106,105,107,135,131,145,140,116,114,115,138,122,122,122,55,51,52,52,103,125,128,99,98,98,98,101,95,128,141,142,146,135,123,146,140,157,88,88,79,103,106,81,81,81,88,95,83,99,106,101,101,101,121,121,120,135,91,104,117,108,108,108,126,126,126,164,137,190,121,122,103,105,108,62,125,121,120,120,175,168,162,179,100,107,98,98,98,98,117,134,109,143,126,127,127,127,81,87,102,104,136,140,144,136,112,108,108,140,120,120,120,120,122,112,107,109,109,117,331,337,336,337,279,334,335,339,341,335,342,340,201,247,261,200,208,193,240,240,286,283,321,313,284,177,164,194,170,169,168,168,171,113,113,112,163,161,236,223,245,265,256,270,330,280,276,314,284,318,204,204,219,213,213,218,218,207,218,227,232,185,185,196,183,182,187,217,217,260,261,262,198,265,225,238,250,249,252,260,285,311,186,186,185,176,172,195,197,196,201,166,161,158,156,154,154,154,155,157,155,71,315,193,235,206,285,252,249,225,225,225,225,259,269,234,235,235,244,259,284,288,270,256,188,190,203,203,233,205,239,231,233,235,191,190,191,191,191,191,200,150,151,152,152,175,180,179,187,184,181,188,186,182,234,234,234,234,234,240,239,258,267,266,260,274,273,250,158,158,158,159,159,159,169,175,174,176,214,210,207,208,211,211,212,214,214,216,273,265,272,272,269,283,162,161,158,150,158,158,158,149,148,152,150,149,149,148,290,294,295,296,270,276,294,294,230,230,229,230,230,231,231,231,230,230,220,236,298,298,307,213,300,316,269,217,116,124,122,238,207,207,208,206,227,224,215,216,216,217,234,231,208,209,245,248,275,269,264,270,265,267,265,265,265,262,298,237,241,235,239,232,232,234,240,234,327,326,326,326,326,310,261,230,292,152,152,152,153,183,227,230,230,236,231,150,153,154,153,153,196,198,156,154,156,195,217,218,222,219,134,134,146,146,139,139,139,139,139,139,139,139,139,137,148,147,150,155,149,145,146,147,140,162,145,160,155,162,195,199,164,150,148,153,152,152,151,151,193,153,110,110,111,114,113,121,123,122,144,158,124,127,144,152,127,102,101,118,118,139,144,137,122,156,84,145,102,121,143,144,138,137,141,134,125,126,110,147,146,139,152,107,104,125,120,154,156,157,161,161,153,161,161,117,113,102,114,102,121,99,105,137,153,138,142,142,142,141,128,139,156,136,135,143,149,156,154,155,170,147,150,151,150,116,117,117,116,153,153,153,153,153,152,116,117,117,118,119,117,163,152,152,153,184,183,183,119,110,111,111,111,120,131,127,127,113,108,99,100,105,145,145,143,180,120,142,138,156,143,142,140,158,120,120,120,151,191,184,181,172,165,151,171,171,166,103,102,106,136,127,122,120,136,139,139,159,165,166,166,166,166,140,146,146,147,147,147,156,155,154,149,147,158,151,150,187,183,183,183,181,164,158,158,158,158,163,186,209,179,210,185,175,176,176,175,174,174,174,176,172,174,173,173,111,81,88,96,157,157,176,227,242,235,191,195,195,195,249,224,253,221,222,222,222,222,222,215,221,214,225,222,218,224,261,228,200,222,230,236,196,208,208,208,207,199,197,197,197,249,217,216,302,301,303,301,301,300,300,300,300,300,299,300,299,300,235,196,208,209,211,211,211,211,211,218,224,222,220,217,305,312,312,316,316,316,316,313,315,290,267,264,265,261,262,262,273,286,354,194,190,166,166,166,166,166,167,167,164,164,164,164,165,140,234,244,241,238,238,237,237,229,229,228,228,228,224,201,256,232,236,233,241,236,259,254,250,249,234,248,232,215,217,253,233,201,200,197,180,176,185,173,164,213,254,253,253,255,252,253,255,286,276,256,273,303,244,202,228,273,183,184,193,195,193,169,195,195,193,189,190,197,213,186,193,248,238,204,223,245,247,262,267,281,328,308,309,309,306,294,291,154,177,179,163,165,174,203,194,165,157,188,173,173,173,172,167,190,209,209,189,215,216,219,219,219,224,226,227,231,231,231,178,179,184,257,255,254,164,164,162,167,208,236,237,240,238,238,234,322,224,216,216,223,211,210,218,218,219,221,214,215,214,222,218,266,177,184,181,179,180,175,80,79,79,79,79,81,81,81,81,81,81,76,89,88,88,94,92,94,85,95,96,96,96,96,96,96,98,84,83,83,83,83,86,98,86,125,121,112,101,122,121,121,121,121,120,120,118,118,74,75,74,79,114,90,90,90,84,98,103,99,110,108,123,105,105,105,105,104,116,114,111,110,111,115,115,116,85,86,86,105,111,84,84,83,83,83,83,100,98,98,98,98,98,98,112,77,77,77,87,96,97,99,99,100,100,99,98,98,98,98,98,96,101,117,118,118,118,114,135,96,96,96,97,96,96,96,100,101,101,101,109,129,123,97,100,102,101,101,101,101,101,103,107,123,109,63,63,119,114,114,114,114,114,120,125,90,110,98,99,99,99,87,106,129,116,116,116,115,115,115,115,133,91,92,94,94,93,100,118,104,125,131,131,131,92,91,92,96,97,100,116,110,77,77,79,85,86,84,95,87,90,90,90,134,129],\"z\":[272,272,269,272,271,268,258,228,235,200,176,178,185,230,262,184,183,178,179,178,178,177,177,177,167,235,234,234,234,233,233,233,233,233,233,234,244,240,265,265,265,265,265,265,264,264,288,281,283,227,229,229,210,246,247,248,248,248,247,247,247,247,141,141,141,139,140,140,140,140,206,204,203,203,203,203,203,198,197,197,197,204,259,256,256,256,252,256,256,256,256,255,255,255,255,255,247,247,250,255,229,229,228,228,220,227,227,226,226,226,226,226,226,226,226,226,225,224,224,256,230,214,213,213,214,214,214,215,215,258,236,235,235,234,236,236,235,233,222,212,218,238,219,220,220,187,264,262,261,260,260,260,260,260,260,257,222,221,220,224,224,223,223,223,223,224,224,224,224,224,223,224,216,258,248,207,156,31,155,155,154,154,154,223,169,169,169,169,169,169,168,168,168,168,168,168,169,168,168,168,168,194,225,240,191,190,189,281,225,225,225,225,224,224,224,224,224,224,224,222,214,182,228,229,229,229,229,229,232,231,231,221,221,221,221,221,221,221,221,221,221,221,221,173,173,173,173,172,172,172,172,172,172,171,171,171,168,237,197,195,254,162,179,226,225,225,224,224,224,224,224,224,224,224,224,224,223,223,223,303,191,189,188,188,191,186,187,185,185,186,197,196,188,261,185,185,184,184,284,243,227,224,223,223,223,224,224,223,225,225,224,224,224,225,225,226,227,227,224,227,227,226,223,226,99,99,99,99,99,99,99,99,96,96,80,79,80,79,79,79,79,94,82,81,80,70,74,72,72,73,75,75,74,74,70,71,71,71,71,71,71,71,71,71,71,71,69,78,78,78,78,78,79,78,79,80,68,78,76,76,76,80,82,81,81,79,84,76,86,86,81,86,86,85,83,84,84,85,86,83,83,83,74,75,76,80,82,83,83,83,82,84,84,84,84,79,74,74,72,72,72,72,73,74,42,87,88,89,89,89,89,78,76,71,75,75,75,75,75,75,74,77,78,75,76,76,76,76,76,77,97,76,76,74,74,74,82,75,77,79,79,79,74,75,74,74,74,75,76,77,77,87,87,86,77,77,83,83,80,82,98,100,97,82,83,83,83,83,83,87,87,81,80,82,82,82,82,93,80,79,97,67,68,81,72,72,78,75,76,76,76,75,76,81,80,77,77,73,85,85,85,85,71,82,83,83,240,240,240,238,237,237,238,249,244,244,240,207,185,232,288,257,274,297,301,242,233,239,244,239,238,207,275,178,165,166,164,173,165,174,224,218,216,215,214,213,220,222,223,221,225,224,224,224,224,224,224,224,224,248,205,257,226,201,199,200,192,187,188,188,195,227,228,227,227,227,227,227,227,293,212,212,211,212,211,211,211,209,208,208,208,209,208,218,158,157,155,159,159,159,160,194,174,174,174,174,174,174,175,175,174,175,175,181,244,248,248,248,248,248,253,253,261,261,262,266,263,263,263,263,264,287,304,303,303,303,303,302,303,303,303,309,311,315,313,311,306,175,175,175,175,175,176,183,185,185,185,185,185,185,185,185,185,185,185,185,200,162,162,161,161,161,163,164,194,209,207,206,206,205,205,205,205,205,155,155,155,155,155,155,155,163,192,203,203,226,222,221,221,221,277,286,286,286,255,167,167,167,167,175,185,184,185,239,250,250,250,250,250,269,274,276,106,106,106,106,106,106,108,108,107,103,106,97,115,129,156,156,156,141,143,143,143,143,167,116,123,124,124,125,125,125,125,128,283,283,283,246,144,144,144,144,169,234,235,234,257,145,97,97,98,123,122,123,184,241,240,242,237,249,264,109,109,109,109,139,286,286,285,285,251,251,244,281,76,76,76,179,168,168,168,167,168,167,167,167,167,167,167,167,167,167,167,167,167,167,167,64,64,64,64,65,65,71,74,65,80,90,89,90,90,90,90,90,90,90,67,64,64,64,64,67,67,67,67,68,74,75,74,64,60,77,76,55,66,66,71,72,79,88,88,88,88,88,88,99,63,62,63,64,64,64,74,91,98,98,98,88,99,112,52,53,53,53,53,53,53,53,60,60,60,59,59,63,59,60,61,61,60,61,85,85,86,87,86,81,81,60,61,61,69,60,59,59,59,60,60,52,53,55,66,67,69,61,85,81,65,66,66,66,66,66,66,89,89,90,101,61,65,60,61,61,75,69,78,76,75,76,88,87,86,91,89,91,92,85,69,69,70,70,92,86,92,92,92,93,93,65,65,64,65,65,67,81,81,80,83,83,83,81,71,71,71,74,74,74,62,68,85,87,87,87,91,91,91,115,73,75,74,75,72,80,60,62,63,63,63,61,77,71,70,71,73,99,67,67,67,67,67,37,81,80,230,229,224,224,224,224,224,226,226,226,226,227,224,221,209,203,200,200,183,192,193,193,199,212,212,207,209,198,237,222,205,208,210,183,183,182,182,182,182,182,183,183,182,222,222,221,220,202,213,216,216,216,216,216,216,216,216,218,184,170,171,170,170,171,170,172,179,188,200,210,206,205,200,196,196,195,187,261,221,244,250,248,247,250,250,250,243,241,246,240,245,237,249,252,253,252,252,253,303,244,255,255,255,255,285,208,214,215,216,269,249,262,238,240,241,241,241,241,241,242,242,246,221,158,159,158,158,159,159,160,181,185,194,203,204,205,207,209,218,228,234,229,230,229,229,227,227,294,304,305,305,305,305,305,306,306,306,306,306,306,190,198,193,192,291,294,296,297,297,297,297,297,297,297,295,183,185,184,184,183,183,183,183,182,182,181,181,181,181,181,181,244,223,223,222,222,195,186,186,185,185,185,185,185,185,185,185,185,185,200,194,151,150,150,150,151,215,212,210,210,210,212,213,212,207,157,157,157,157,157,157,225,223,234,226,209,213,210,209,210,213,148,148,149,149,149,177,204,224,221,202,191,167,167,167,167,167,115,115,129,129,126,126,126,126,200,234,238,193,180,196,201,219,208,205,204,205,178,245,262,261,268,270,182,175,174,190,182,189,185,230,227,209,208,207,205,208,257,193,194,191,181,182,247,219,210,213,200,198,196,187,204,237,186,186,185,204,199,227,297,290,88,88,88,88,89,92,92,92,92,92,92,92,92,92,92,81,80,89,74,81,74,74,74,74,74,74,74,74,74,75,75,75,70,73,60,71,75,75,75,75,75,95,95,95,95,88,90,95,83,76,76,75,78,77,75,77,77,76,75,75,78,78,98,106,106,104,104,105,102,102,102,104,104,104,106,79,81,82,82,82,95,96,96,118,125,102,102,100,101,119,113,110,97,97,98,80,81,81,81,81,81,81,81,94,95,95,95,96,91,93,93,108,118,82,82,86,79,97,90,72,87,90,100,99,97,97,97,97,98,97,115,89,89,89,89,89,89,95,93,101,91,96,94,96,97,98,97,105,108,125,93,95,93,90,91,82,84,93,94,95,95,95,95,94,94,96,96,94,94,94,94,94,94,95,95,92,93,102,96,95,98,100,104,81,82,81,101,95,95,95,98,111,93,94,94,94,94,99,92,92,94,95,95,90,291,291,291,291,291,291,290,289,289,289,289,289,290,290,290,290,285,268,287,271,269,263,296,180,180,180,180,180,184,184,180,111,111,111,111,111,121,160,162,162,160,264,265,265,263,262,268,266,265,294,283,287,281,182,182,181,180,180,180,180,180,135,159,192,173,173,173,174,174,174,172,250,209,209,209,209,210,254,269,269,265,155,155,155,155,155,203,200,197,195,163,163,163,163,163,163,163,163,165,181,178,231,231,231,231,230,230,230,229,266,272,125,125,125,125,125,125,125,125,125,125,125,125,129,186,186,187,147,147,147,147,194,197,259,268,266,265,264,260,254,253,257,257,257,257,257,314,173,178,179,179,181,181,181,181,181,182,182,182,183,194,193,199,234,237,238,238,238,232,237,237,267,266,266,266,296,286,288,288,286,287,287,291,177,179,178,175,183,182,225,172,171,171,172,176,175,175,188,189,182,189,213,212,212,214,211,237,234,234,232,233,232,242,234,232,232,231,231,234,234,164,157,157,157,155,155,154,154,154,153,172,204,204,204,204,206,208,217,217,215,215,102,100,100,100,108,120,118,114,113,114,114,155,142,144,143,141,141,141,141,141,141,141,180,184,183,253,287,319,322,322,317,311,332,247,247,247,247,311,306,306,283,283,284,285,285,242,193,276,254,253,251,253,259,256,255,256,292,301,302,302,273,266,273,313,252,281,280,280,94,76,78,78,77,93,94,71,71,71,74,75,91,92,89,61,61,61,61,62,76,77,77,77,83,65,63,63,83,83,83,83,83,72,91,82,72,103,67,68,68,73,92,92,92,92,89,81,90,89,71,71,73,71,90,66,66,66,75,75,75,75,75,74,73,39,39,39,38,78,90,97,97,99,99,99,99,98,83,83,83,91,106,109,72,72,71,73,94,92,101,98,78,77,78,92,83,83,83,40,37,38,38,69,85,87,69,68,68,68,70,67,87,96,96,97,91,84,97,93,104,60,60,54,72,75,59,59,59,61,66,58,68,73,68,68,68,85,85,84,94,61,68,76,77,77,77,89,88,88,112,94,129,80,80,69,70,72,45,84,82,82,82,116,112,108,118,69,73,70,70,70,70,83,94,74,95,88,89,89,89,55,58,68,68,88,90,93,89,79,76,76,96,79,79,79,79,80,79,76,77,77,82,315,319,320,320,266,318,318,318,322,317,325,323,192,237,235,180,187,173,218,218,257,255,287,279,256,159,148,180,152,151,151,150,153,101,101,100,146,145,210,198,223,247,239,250,305,262,259,293,265,290,189,189,203,198,198,202,200,190,202,210,216,165,165,176,163,163,159,194,193,230,231,231,177,254,216,228,239,239,243,249,273,297,162,163,162,153,150,170,172,172,176,142,137,135,133,132,132,132,132,134,132,61,279,173,211,186,255,226,223,203,203,203,203,231,240,229,229,229,236,253,276,280,262,247,170,172,183,184,210,185,216,208,210,212,181,180,181,181,181,181,188,132,133,134,134,154,158,157,163,161,158,164,162,158,220,219,219,219,219,225,224,243,248,247,243,256,256,233,135,135,135,136,136,136,143,148,148,150,206,201,198,199,202,203,204,205,205,208,260,253,259,259,256,269,144,144,141,134,141,141,141,133,132,136,134,133,133,132,266,269,271,271,248,254,271,271,201,202,201,201,201,202,202,202,202,201,203,217,271,271,280,196,273,288,247,189,103,110,108,215,187,187,188,187,205,202,194,195,195,196,211,208,188,189,221,228,253,248,243,249,244,246,244,244,244,241,271,207,211,206,209,204,204,205,210,203,308,308,307,307,307,293,248,219,274,136,136,136,137,163,217,219,219,225,220,132,135,135,135,135,172,173,137,136,137,169,209,209,214,210,142,142,155,155,147,148,147,148,147,148,148,148,147,146,157,156,159,164,157,154,155,156,148,170,141,156,152,159,190,194,160,146,145,149,148,148,147,147,187,148,103,103,104,107,106,113,114,114,134,147,116,119,135,142,119,95,95,110,110,136,141,134,119,153,82,142,100,119,141,141,145,144,149,141,131,132,115,154,154,147,160,100,97,117,112,151,152,153,157,157,149,157,157,108,104,94,105,94,111,91,96,146,163,147,151,151,151,150,136,148,166,128,128,135,141,147,145,146,160,156,160,160,159,110,110,111,110,155,155,155,155,155,153,110,111,111,112,112,111,153,154,154,155,191,191,191,115,106,107,107,107,116,127,123,123,104,100,91,92,96,152,152,150,187,114,134,130,147,150,149,148,166,116,116,116,146,199,192,188,180,169,151,171,171,166,94,93,96,133,120,116,113,137,140,140,154,161,161,161,161,161,134,141,141,142,142,142,150,149,148,144,142,152,145,145,187,183,183,183,182,166,160,160,160,160,164,186,207,179,199,177,168,169,169,167,167,167,167,169,165,166,165,165,103,76,83,92,158,158,177,224,237,231,190,194,194,194,242,220,250,242,242,243,243,243,243,233,240,233,246,243,238,245,282,217,193,213,219,223,188,199,199,199,198,191,189,189,189,237,228,226,312,311,313,312,312,312,312,312,312,311,310,311,310,310,230,193,204,206,207,207,207,208,208,214,220,218,216,214,308,318,318,322,322,322,322,319,321,296,272,269,270,266,267,267,279,292,359,192,188,166,165,165,165,166,167,165,162,162,162,162,164,140,224,234,231,229,228,228,228,220,220,219,219,219,215,193,280,254,260,257,265,258,283,275,270,269,253,269,252,230,233,277,243,202,202,199,183,181,187,175,166,215,251,250,273,275,272,274,274,304,285,267,290,322,261,213,243,288,167,167,176,179,178,154,179,179,177,172,173,180,196,171,179,227,218,188,205,224,226,240,245,256,342,326,327,327,324,310,308,146,167,168,154,156,163,194,186,159,152,180,173,173,172,172,167,185,204,203,181,231,232,235,236,236,239,242,243,247,247,244,171,171,175,240,239,238,163,165,161,167,206,248,248,251,249,248,245,332,222,215,215,222,225,224,233,233,234,236,229,230,229,237,233,275,178,185,182,179,181,176,96,95,95,95,95,97,97,97,97,97,97,91,108,106,106,115,112,114,102,112,114,113,114,114,114,114,116,100,98,98,98,98,102,116,101,148,138,128,115,140,138,138,138,138,137,137,135,135,87,88,88,94,125,97,97,97,90,105,112,107,119,116,133,129,129,129,129,127,143,141,137,136,136,142,142,142,92,92,92,113,121,103,103,102,102,102,102,123,109,109,109,109,109,109,125,92,92,92,105,107,108,122,123,123,123,122,121,121,121,121,121,113,120,141,143,143,143,137,163,119,119,120,120,120,120,118,124,120,120,121,130,154,147,119,123,127,125,125,125,125,125,128,132,142,126,70,70,137,132,132,132,131,132,138,144,111,135,121,121,122,122,107,130,160,132,132,132,130,130,130,130,152,113,114,117,116,115,123,145,123,143,150,150,150,111,111,111,107,107,112,129,122,94,94,97,105,106,102,115,106,107,107,106,160,154],\"type\":\"scatter3d\"}],                        {\"template\":{\"data\":{\"histogram2dcontour\":[{\"type\":\"histogram2dcontour\",\"colorbar\":{\"outlinewidth\":0,\"ticks\":\"\"},\"colorscale\":[[0.0,\"#0d0887\"],[0.1111111111111111,\"#46039f\"],[0.2222222222222222,\"#7201a8\"],[0.3333333333333333,\"#9c179e\"],[0.4444444444444444,\"#bd3786\"],[0.5555555555555556,\"#d8576b\"],[0.6666666666666666,\"#ed7953\"],[0.7777777777777778,\"#fb9f3a\"],[0.8888888888888888,\"#fdca26\"],[1.0,\"#f0f921\"]]}],\"choropleth\":[{\"type\":\"choropleth\",\"colorbar\":{\"outlinewidth\":0,\"ticks\":\"\"}}],\"histogram2d\":[{\"type\":\"histogram2d\",\"colorbar\":{\"outlinewidth\":0,\"ticks\":\"\"},\"colorscale\":[[0.0,\"#0d0887\"],[0.1111111111111111,\"#46039f\"],[0.2222222222222222,\"#7201a8\"],[0.3333333333333333,\"#9c179e\"],[0.4444444444444444,\"#bd3786\"],[0.5555555555555556,\"#d8576b\"],[0.6666666666666666,\"#ed7953\"],[0.7777777777777778,\"#fb9f3a\"],[0.8888888888888888,\"#fdca26\"],[1.0,\"#f0f921\"]]}],\"heatmap\":[{\"type\":\"heatmap\",\"colorbar\":{\"outlinewidth\":0,\"ticks\":\"\"},\"colorscale\":[[0.0,\"#0d0887\"],[0.1111111111111111,\"#46039f\"],[0.2222222222222222,\"#7201a8\"],[0.3333333333333333,\"#9c179e\"],[0.4444444444444444,\"#bd3786\"],[0.5555555555555556,\"#d8576b\"],[0.6666666666666666,\"#ed7953\"],[0.7777777777777778,\"#fb9f3a\"],[0.8888888888888888,\"#fdca26\"],[1.0,\"#f0f921\"]]}],\"heatmapgl\":[{\"type\":\"heatmapgl\",\"colorbar\":{\"outlinewidth\":0,\"ticks\":\"\"},\"colorscale\":[[0.0,\"#0d0887\"],[0.1111111111111111,\"#46039f\"],[0.2222222222222222,\"#7201a8\"],[0.3333333333333333,\"#9c179e\"],[0.4444444444444444,\"#bd3786\"],[0.5555555555555556,\"#d8576b\"],[0.6666666666666666,\"#ed7953\"],[0.7777777777777778,\"#fb9f3a\"],[0.8888888888888888,\"#fdca26\"],[1.0,\"#f0f921\"]]}],\"contourcarpet\":[{\"type\":\"contourcarpet\",\"colorbar\":{\"outlinewidth\":0,\"ticks\":\"\"}}],\"contour\":[{\"type\":\"contour\",\"colorbar\":{\"outlinewidth\":0,\"ticks\":\"\"},\"colorscale\":[[0.0,\"#0d0887\"],[0.1111111111111111,\"#46039f\"],[0.2222222222222222,\"#7201a8\"],[0.3333333333333333,\"#9c179e\"],[0.4444444444444444,\"#bd3786\"],[0.5555555555555556,\"#d8576b\"],[0.6666666666666666,\"#ed7953\"],[0.7777777777777778,\"#fb9f3a\"],[0.8888888888888888,\"#fdca26\"],[1.0,\"#f0f921\"]]}],\"surface\":[{\"type\":\"surface\",\"colorbar\":{\"outlinewidth\":0,\"ticks\":\"\"},\"colorscale\":[[0.0,\"#0d0887\"],[0.1111111111111111,\"#46039f\"],[0.2222222222222222,\"#7201a8\"],[0.3333333333333333,\"#9c179e\"],[0.4444444444444444,\"#bd3786\"],[0.5555555555555556,\"#d8576b\"],[0.6666666666666666,\"#ed7953\"],[0.7777777777777778,\"#fb9f3a\"],[0.8888888888888888,\"#fdca26\"],[1.0,\"#f0f921\"]]}],\"mesh3d\":[{\"type\":\"mesh3d\",\"colorbar\":{\"outlinewidth\":0,\"ticks\":\"\"}}],\"scatter\":[{\"fillpattern\":{\"fillmode\":\"overlay\",\"size\":10,\"solidity\":0.2},\"type\":\"scatter\"}],\"parcoords\":[{\"type\":\"parcoords\",\"line\":{\"colorbar\":{\"outlinewidth\":0,\"ticks\":\"\"}}}],\"scatterpolargl\":[{\"type\":\"scatterpolargl\",\"marker\":{\"colorbar\":{\"outlinewidth\":0,\"ticks\":\"\"}}}],\"bar\":[{\"error_x\":{\"color\":\"#2a3f5f\"},\"error_y\":{\"color\":\"#2a3f5f\"},\"marker\":{\"line\":{\"color\":\"#E5ECF6\",\"width\":0.5},\"pattern\":{\"fillmode\":\"overlay\",\"size\":10,\"solidity\":0.2}},\"type\":\"bar\"}],\"scattergeo\":[{\"type\":\"scattergeo\",\"marker\":{\"colorbar\":{\"outlinewidth\":0,\"ticks\":\"\"}}}],\"scatterpolar\":[{\"type\":\"scatterpolar\",\"marker\":{\"colorbar\":{\"outlinewidth\":0,\"ticks\":\"\"}}}],\"histogram\":[{\"marker\":{\"pattern\":{\"fillmode\":\"overlay\",\"size\":10,\"solidity\":0.2}},\"type\":\"histogram\"}],\"scattergl\":[{\"type\":\"scattergl\",\"marker\":{\"colorbar\":{\"outlinewidth\":0,\"ticks\":\"\"}}}],\"scatter3d\":[{\"type\":\"scatter3d\",\"line\":{\"colorbar\":{\"outlinewidth\":0,\"ticks\":\"\"}},\"marker\":{\"colorbar\":{\"outlinewidth\":0,\"ticks\":\"\"}}}],\"scattermapbox\":[{\"type\":\"scattermapbox\",\"marker\":{\"colorbar\":{\"outlinewidth\":0,\"ticks\":\"\"}}}],\"scatterternary\":[{\"type\":\"scatterternary\",\"marker\":{\"colorbar\":{\"outlinewidth\":0,\"ticks\":\"\"}}}],\"scattercarpet\":[{\"type\":\"scattercarpet\",\"marker\":{\"colorbar\":{\"outlinewidth\":0,\"ticks\":\"\"}}}],\"carpet\":[{\"aaxis\":{\"endlinecolor\":\"#2a3f5f\",\"gridcolor\":\"white\",\"linecolor\":\"white\",\"minorgridcolor\":\"white\",\"startlinecolor\":\"#2a3f5f\"},\"baxis\":{\"endlinecolor\":\"#2a3f5f\",\"gridcolor\":\"white\",\"linecolor\":\"white\",\"minorgridcolor\":\"white\",\"startlinecolor\":\"#2a3f5f\"},\"type\":\"carpet\"}],\"table\":[{\"cells\":{\"fill\":{\"color\":\"#EBF0F8\"},\"line\":{\"color\":\"white\"}},\"header\":{\"fill\":{\"color\":\"#C8D4E3\"},\"line\":{\"color\":\"white\"}},\"type\":\"table\"}],\"barpolar\":[{\"marker\":{\"line\":{\"color\":\"#E5ECF6\",\"width\":0.5},\"pattern\":{\"fillmode\":\"overlay\",\"size\":10,\"solidity\":0.2}},\"type\":\"barpolar\"}],\"pie\":[{\"automargin\":true,\"type\":\"pie\"}]},\"layout\":{\"autotypenumbers\":\"strict\",\"colorway\":[\"#636efa\",\"#EF553B\",\"#00cc96\",\"#ab63fa\",\"#FFA15A\",\"#19d3f3\",\"#FF6692\",\"#B6E880\",\"#FF97FF\",\"#FECB52\"],\"font\":{\"color\":\"#2a3f5f\"},\"hovermode\":\"closest\",\"hoverlabel\":{\"align\":\"left\"},\"paper_bgcolor\":\"white\",\"plot_bgcolor\":\"#E5ECF6\",\"polar\":{\"bgcolor\":\"#E5ECF6\",\"angularaxis\":{\"gridcolor\":\"white\",\"linecolor\":\"white\",\"ticks\":\"\"},\"radialaxis\":{\"gridcolor\":\"white\",\"linecolor\":\"white\",\"ticks\":\"\"}},\"ternary\":{\"bgcolor\":\"#E5ECF6\",\"aaxis\":{\"gridcolor\":\"white\",\"linecolor\":\"white\",\"ticks\":\"\"},\"baxis\":{\"gridcolor\":\"white\",\"linecolor\":\"white\",\"ticks\":\"\"},\"caxis\":{\"gridcolor\":\"white\",\"linecolor\":\"white\",\"ticks\":\"\"}},\"coloraxis\":{\"colorbar\":{\"outlinewidth\":0,\"ticks\":\"\"}},\"colorscale\":{\"sequential\":[[0.0,\"#0d0887\"],[0.1111111111111111,\"#46039f\"],[0.2222222222222222,\"#7201a8\"],[0.3333333333333333,\"#9c179e\"],[0.4444444444444444,\"#bd3786\"],[0.5555555555555556,\"#d8576b\"],[0.6666666666666666,\"#ed7953\"],[0.7777777777777778,\"#fb9f3a\"],[0.8888888888888888,\"#fdca26\"],[1.0,\"#f0f921\"]],\"sequentialminus\":[[0.0,\"#0d0887\"],[0.1111111111111111,\"#46039f\"],[0.2222222222222222,\"#7201a8\"],[0.3333333333333333,\"#9c179e\"],[0.4444444444444444,\"#bd3786\"],[0.5555555555555556,\"#d8576b\"],[0.6666666666666666,\"#ed7953\"],[0.7777777777777778,\"#fb9f3a\"],[0.8888888888888888,\"#fdca26\"],[1.0,\"#f0f921\"]],\"diverging\":[[0,\"#8e0152\"],[0.1,\"#c51b7d\"],[0.2,\"#de77ae\"],[0.3,\"#f1b6da\"],[0.4,\"#fde0ef\"],[0.5,\"#f7f7f7\"],[0.6,\"#e6f5d0\"],[0.7,\"#b8e186\"],[0.8,\"#7fbc41\"],[0.9,\"#4d9221\"],[1,\"#276419\"]]},\"xaxis\":{\"gridcolor\":\"white\",\"linecolor\":\"white\",\"ticks\":\"\",\"title\":{\"standoff\":15},\"zerolinecolor\":\"white\",\"automargin\":true,\"zerolinewidth\":2},\"yaxis\":{\"gridcolor\":\"white\",\"linecolor\":\"white\",\"ticks\":\"\",\"title\":{\"standoff\":15},\"zerolinecolor\":\"white\",\"automargin\":true,\"zerolinewidth\":2},\"scene\":{\"xaxis\":{\"backgroundcolor\":\"#E5ECF6\",\"gridcolor\":\"white\",\"linecolor\":\"white\",\"showbackground\":true,\"ticks\":\"\",\"zerolinecolor\":\"white\",\"gridwidth\":2},\"yaxis\":{\"backgroundcolor\":\"#E5ECF6\",\"gridcolor\":\"white\",\"linecolor\":\"white\",\"showbackground\":true,\"ticks\":\"\",\"zerolinecolor\":\"white\",\"gridwidth\":2},\"zaxis\":{\"backgroundcolor\":\"#E5ECF6\",\"gridcolor\":\"white\",\"linecolor\":\"white\",\"showbackground\":true,\"ticks\":\"\",\"zerolinecolor\":\"white\",\"gridwidth\":2}},\"shapedefaults\":{\"line\":{\"color\":\"#2a3f5f\"}},\"annotationdefaults\":{\"arrowcolor\":\"#2a3f5f\",\"arrowhead\":0,\"arrowwidth\":1},\"geo\":{\"bgcolor\":\"white\",\"landcolor\":\"#E5ECF6\",\"subunitcolor\":\"white\",\"showland\":true,\"showlakes\":true,\"lakecolor\":\"white\"},\"title\":{\"x\":0.05},\"mapbox\":{\"style\":\"light\"}}},\"scene\":{\"domain\":{\"x\":[0.0,1.0],\"y\":[0.0,1.0]},\"xaxis\":{\"title\":{\"text\":\"R2\"}},\"yaxis\":{\"title\":{\"text\":\"G2\"}},\"zaxis\":{\"title\":{\"text\":\"B2\"}}},\"coloraxis\":{\"colorbar\":{\"title\":{\"text\":\"class\"}},\"colorscale\":[[0.0,\"#0d0887\"],[0.1111111111111111,\"#46039f\"],[0.2222222222222222,\"#7201a8\"],[0.3333333333333333,\"#9c179e\"],[0.4444444444444444,\"#bd3786\"],[0.5555555555555556,\"#d8576b\"],[0.6666666666666666,\"#ed7953\"],[0.7777777777777778,\"#fb9f3a\"],[0.8888888888888888,\"#fdca26\"],[1.0,\"#f0f921\"]]},\"legend\":{\"tracegroupgap\":0},\"margin\":{\"t\":60}},                        {\"responsive\": true}                    ).then(function(){\n",
              "                            \n",
              "var gd = document.getElementById('74030719-92f9-4175-abe8-40ed7c173d2a');\n",
              "var x = new MutationObserver(function (mutations, observer) {{\n",
              "        var display = window.getComputedStyle(gd).display;\n",
              "        if (!display || display === 'none') {{\n",
              "            console.log([gd, 'removed!']);\n",
              "            Plotly.purge(gd);\n",
              "            observer.disconnect();\n",
              "        }}\n",
              "}});\n",
              "\n",
              "// Listen for the removal of the full notebook cells\n",
              "var notebookContainer = gd.closest('#notebook-container');\n",
              "if (notebookContainer) {{\n",
              "    x.observe(notebookContainer, {childList: true});\n",
              "}}\n",
              "\n",
              "// Listen for the clearing of the current output cell\n",
              "var outputEl = gd.closest('.output');\n",
              "if (outputEl) {{\n",
              "    x.observe(outputEl, {childList: true});\n",
              "}}\n",
              "\n",
              "                        })                };                            </script>        </div>\n",
              "</body>\n",
              "</html>"
            ]
          },
          "metadata": {}
        }
      ]
    },
    {
      "cell_type": "code",
      "source": [
        "df[\"class\"].unique()"
      ],
      "metadata": {
        "colab": {
          "base_uri": "https://localhost:8080/"
        },
        "id": "YuzcOd_-Ce_e",
        "outputId": "3d0a7d58-db27-4843-8284-90bd64ee2909"
      },
      "execution_count": null,
      "outputs": [
        {
          "output_type": "execute_result",
          "data": {
            "text/plain": [
              "array([200,  10, 500,  20,  50, 100])"
            ]
          },
          "metadata": {},
          "execution_count": 63
        }
      ]
    },
    {
      "cell_type": "code",
      "source": [
        "df = df[(df['class'] == '500') | (df['class'] == '2k') | (df['class'] == '200') | (df['class'] == '10') | (df['class'] == '20') | (df['class'] == '100') | (df['class'] == '50') | (df['class'] == 'blank')]"
      ],
      "metadata": {
        "id": "FVsR-It3wd3_"
      },
      "execution_count": null,
      "outputs": []
    },
    {
      "cell_type": "code",
      "source": [
        "df['class'].value_counts()"
      ],
      "metadata": {
        "colab": {
          "base_uri": "https://localhost:8080/"
        },
        "id": "2sjB28-BwzOr",
        "outputId": "4ee4acea-be16-41f6-d3f7-c85aeaaa46ed"
      },
      "execution_count": null,
      "outputs": [
        {
          "output_type": "execute_result",
          "data": {
            "text/plain": [
              "Series([], Name: class, dtype: int64)"
            ]
          },
          "metadata": {},
          "execution_count": 65
        }
      ]
    },
    {
      "cell_type": "code",
      "source": [
        "from sklearn.decomposition import PCA, IncrementalPCA\n",
        "from sklearn import model_selection, tree, metrics, ensemble\n",
        "import numpy as np\n",
        "import matplotlib.pyplot as plt"
      ],
      "metadata": {
        "id": "Fx-2KziSU8cA"
      },
      "execution_count": null,
      "outputs": []
    },
    {
      "cell_type": "code",
      "source": [
        "\n",
        "cols = ['R1', 'G1', 'B1','R2','G2','B2']\n",
        "features = df.drop(columns=['class'])[cols]\n",
        "label = df['class']\n",
        "X, x, Y, y = model_selection.train_test_split(features, label, stratify=label, test_size=0.1, random_state=42)"
      ],
      "metadata": {
        "id": "zQGX4P2-usRV",
        "colab": {
          "base_uri": "https://localhost:8080/",
          "height": 369
        },
        "outputId": "45ee3dd0-65eb-4c0b-e87e-140d1ae3ccd9"
      },
      "execution_count": null,
      "outputs": [
        {
          "output_type": "error",
          "ename": "ValueError",
          "evalue": "ignored",
          "traceback": [
            "\u001b[0;31m---------------------------------------------------------------------------\u001b[0m",
            "\u001b[0;31mValueError\u001b[0m                                Traceback (most recent call last)",
            "\u001b[0;32m<ipython-input-68-e560eb5e0861>\u001b[0m in \u001b[0;36m<cell line: 4>\u001b[0;34m()\u001b[0m\n\u001b[1;32m      2\u001b[0m \u001b[0mfeatures\u001b[0m \u001b[0;34m=\u001b[0m \u001b[0mdf\u001b[0m\u001b[0;34m.\u001b[0m\u001b[0mdrop\u001b[0m\u001b[0;34m(\u001b[0m\u001b[0mcolumns\u001b[0m\u001b[0;34m=\u001b[0m\u001b[0;34m[\u001b[0m\u001b[0;34m'class'\u001b[0m\u001b[0;34m]\u001b[0m\u001b[0;34m)\u001b[0m\u001b[0;34m[\u001b[0m\u001b[0mcols\u001b[0m\u001b[0;34m]\u001b[0m\u001b[0;34m\u001b[0m\u001b[0;34m\u001b[0m\u001b[0m\n\u001b[1;32m      3\u001b[0m \u001b[0mlabel\u001b[0m \u001b[0;34m=\u001b[0m \u001b[0mdf\u001b[0m\u001b[0;34m[\u001b[0m\u001b[0;34m'class'\u001b[0m\u001b[0;34m]\u001b[0m\u001b[0;34m\u001b[0m\u001b[0;34m\u001b[0m\u001b[0m\n\u001b[0;32m----> 4\u001b[0;31m \u001b[0mX\u001b[0m\u001b[0;34m,\u001b[0m \u001b[0mx\u001b[0m\u001b[0;34m,\u001b[0m \u001b[0mY\u001b[0m\u001b[0;34m,\u001b[0m \u001b[0my\u001b[0m \u001b[0;34m=\u001b[0m \u001b[0mmodel_selection\u001b[0m\u001b[0;34m.\u001b[0m\u001b[0mtrain_test_split\u001b[0m\u001b[0;34m(\u001b[0m\u001b[0mfeatures\u001b[0m\u001b[0;34m,\u001b[0m \u001b[0mlabel\u001b[0m\u001b[0;34m,\u001b[0m \u001b[0mstratify\u001b[0m\u001b[0;34m=\u001b[0m\u001b[0mlabel\u001b[0m\u001b[0;34m,\u001b[0m \u001b[0mtest_size\u001b[0m\u001b[0;34m=\u001b[0m\u001b[0;36m0.1\u001b[0m\u001b[0;34m,\u001b[0m \u001b[0mrandom_state\u001b[0m\u001b[0;34m=\u001b[0m\u001b[0;36m42\u001b[0m\u001b[0;34m)\u001b[0m\u001b[0;34m\u001b[0m\u001b[0;34m\u001b[0m\u001b[0m\n\u001b[0m",
            "\u001b[0;32m/usr/local/lib/python3.10/dist-packages/sklearn/model_selection/_split.py\u001b[0m in \u001b[0;36mtrain_test_split\u001b[0;34m(test_size, train_size, random_state, shuffle, stratify, *arrays)\u001b[0m\n\u001b[1;32m   2560\u001b[0m \u001b[0;34m\u001b[0m\u001b[0m\n\u001b[1;32m   2561\u001b[0m     \u001b[0mn_samples\u001b[0m \u001b[0;34m=\u001b[0m \u001b[0m_num_samples\u001b[0m\u001b[0;34m(\u001b[0m\u001b[0marrays\u001b[0m\u001b[0;34m[\u001b[0m\u001b[0;36m0\u001b[0m\u001b[0;34m]\u001b[0m\u001b[0;34m)\u001b[0m\u001b[0;34m\u001b[0m\u001b[0;34m\u001b[0m\u001b[0m\n\u001b[0;32m-> 2562\u001b[0;31m     n_train, n_test = _validate_shuffle_split(\n\u001b[0m\u001b[1;32m   2563\u001b[0m         \u001b[0mn_samples\u001b[0m\u001b[0;34m,\u001b[0m \u001b[0mtest_size\u001b[0m\u001b[0;34m,\u001b[0m \u001b[0mtrain_size\u001b[0m\u001b[0;34m,\u001b[0m \u001b[0mdefault_test_size\u001b[0m\u001b[0;34m=\u001b[0m\u001b[0;36m0.25\u001b[0m\u001b[0;34m\u001b[0m\u001b[0;34m\u001b[0m\u001b[0m\n\u001b[1;32m   2564\u001b[0m     )\n",
            "\u001b[0;32m/usr/local/lib/python3.10/dist-packages/sklearn/model_selection/_split.py\u001b[0m in \u001b[0;36m_validate_shuffle_split\u001b[0;34m(n_samples, test_size, train_size, default_test_size)\u001b[0m\n\u001b[1;32m   2234\u001b[0m \u001b[0;34m\u001b[0m\u001b[0m\n\u001b[1;32m   2235\u001b[0m     \u001b[0;32mif\u001b[0m \u001b[0mn_train\u001b[0m \u001b[0;34m==\u001b[0m \u001b[0;36m0\u001b[0m\u001b[0;34m:\u001b[0m\u001b[0;34m\u001b[0m\u001b[0;34m\u001b[0m\u001b[0m\n\u001b[0;32m-> 2236\u001b[0;31m         raise ValueError(\n\u001b[0m\u001b[1;32m   2237\u001b[0m             \u001b[0;34m\"With n_samples={}, test_size={} and train_size={}, the \"\u001b[0m\u001b[0;34m\u001b[0m\u001b[0;34m\u001b[0m\u001b[0m\n\u001b[1;32m   2238\u001b[0m             \u001b[0;34m\"resulting train set will be empty. Adjust any of the \"\u001b[0m\u001b[0;34m\u001b[0m\u001b[0;34m\u001b[0m\u001b[0m\n",
            "\u001b[0;31mValueError\u001b[0m: With n_samples=0, test_size=0.1 and train_size=None, the resulting train set will be empty. Adjust any of the aforementioned parameters."
          ]
        }
      ]
    },
    {
      "cell_type": "code",
      "source": [
        "features\n"
      ],
      "metadata": {
        "id": "KmD6r07Xvd_7"
      },
      "execution_count": null,
      "outputs": []
    },
    {
      "cell_type": "code",
      "source": [
        "label.value_counts()"
      ],
      "metadata": {
        "id": "UInJywZHuw9p"
      },
      "execution_count": null,
      "outputs": []
    },
    {
      "cell_type": "code",
      "source": [
        "clf = LazyClassifier()\n",
        "\n",
        "predictions, scores = clf.fit(X, x, Y, y)"
      ],
      "metadata": {
        "id": "pQCq5powZU7n"
      },
      "execution_count": null,
      "outputs": []
    },
    {
      "cell_type": "code",
      "source": [
        "predictions"
      ],
      "metadata": {
        "id": "iz10bdOAZe7b"
      },
      "execution_count": null,
      "outputs": []
    },
    {
      "cell_type": "markdown",
      "source": [
        "# <h1>**training**"
      ],
      "metadata": {
        "id": "M73InOoq67Uh"
      }
    },
    {
      "cell_type": "code",
      "source": [
        "\n",
        "cols = ['R1', 'G1', 'B1','R2','G2','B2']\n",
        "features = df.drop(columns=['class'])[cols]\n",
        "label = df['class']\n",
        "X, x, Y, y = model_selection.train_test_split(features, label, stratify=label, test_size=0.2, random_state=42)"
      ],
      "metadata": {
        "id": "tKD7Dl8EYn9M"
      },
      "execution_count": null,
      "outputs": []
    },
    {
      "cell_type": "code",
      "execution_count": null,
      "metadata": {
        "id": "IHItVy15cz5v"
      },
      "outputs": [],
      "source": [
        "classes = df[\"class\"].unique().tolist()\n",
        "classes.sort()\n",
        "print(classes)   # Create classes list in pico program"
      ]
    },
    {
      "cell_type": "code",
      "source": [
        "features"
      ],
      "metadata": {
        "id": "2Uol9BPcHnkG"
      },
      "execution_count": null,
      "outputs": []
    },
    {
      "cell_type": "code",
      "source": [
        "from sklearn.tree import DecisionTreeClassifier\n",
        "from sklearn.metrics import accuracy_score\n",
        "\n",
        "# Create a decision tree classifier\n",
        "classifier = DecisionTreeClassifier()\n",
        "\n",
        "# Train the classifier on the training data\n",
        "classifier.fit(X, Y)\n",
        "\n",
        "# Make predictions on the test data\n",
        "y_pred = classifier.predict(x)\n"
      ],
      "metadata": {
        "id": "i0bQY5ll73aZ"
      },
      "execution_count": null,
      "outputs": []
    },
    {
      "cell_type": "code",
      "source": [
        "x.describe()"
      ],
      "metadata": {
        "id": "lZ2qtDElMHk5"
      },
      "execution_count": null,
      "outputs": []
    },
    {
      "cell_type": "code",
      "source": [
        "# Evaluate the classifier\n",
        "accuracy = accuracy_score(y, y_pred)\n",
        "print(\"Accuracy:\", accuracy)"
      ],
      "metadata": {
        "id": "98VEHn0--_mP"
      },
      "execution_count": null,
      "outputs": []
    },
    {
      "cell_type": "code",
      "execution_count": null,
      "metadata": {
        "id": "E88yskUm_1pd"
      },
      "outputs": [],
      "source": [
        "\n",
        "print(\n",
        "    f\"Classification report for classifier {classifier}:\\n\"\n",
        "    f\"{metrics.classification_report(y, y_pred)}\\n\"\n",
        ")"
      ]
    },
    {
      "cell_type": "code",
      "source": [
        "!pip install m2cgen\n",
        "!pip install python-minimizer"
      ],
      "metadata": {
        "id": "uBiy8HFHENlr"
      },
      "execution_count": null,
      "outputs": []
    },
    {
      "cell_type": "code",
      "source": [
        "!pip install m2cgen\n"
      ],
      "metadata": {
        "id": "9GZ9umgIydl_"
      },
      "execution_count": null,
      "outputs": []
    },
    {
      "cell_type": "code",
      "source": [
        "import sys\n",
        "import m2cgen as m2c\n",
        "\n",
        "sys.setrecursionlimit(999999999)\n",
        "# Convert model to python code\n",
        "code = m2c.export_to_python(classifier)\n",
        "with open(\"classifier_normal_rgb.py\", \"w\") as fp:\n",
        "  fp.write(code)"
      ],
      "metadata": {
        "id": "5xYCmTVb_mLI"
      },
      "execution_count": null,
      "outputs": []
    },
    {
      "cell_type": "code",
      "source": [
        "code"
      ],
      "metadata": {
        "id": "7_UtIvoPEVjG"
      },
      "execution_count": null,
      "outputs": []
    },
    {
      "cell_type": "code",
      "source": [
        "!python-minimizer classifier_normal_rgb.py -o classifier_norm_rgb.py"
      ],
      "metadata": {
        "id": "6PKX8FGyEwl2"
      },
      "execution_count": null,
      "outputs": []
    },
    {
      "cell_type": "code",
      "execution_count": null,
      "metadata": {
        "id": "SScv_E2-fBGx"
      },
      "outputs": [],
      "source": [
        "from classifier_norm_rgb import classify"
      ]
    },
    {
      "cell_type": "code",
      "source": [
        "\n",
        "pred = classify([6,16,18,9,22,29])\n",
        "\n",
        "print(pred)\n",
        "\n",
        "print(len(pred))\n",
        "\n",
        "print(classes)"
      ],
      "metadata": {
        "id": "ZtZmsBD1HPvk"
      },
      "execution_count": null,
      "outputs": []
    },
    {
      "cell_type": "code",
      "source": [],
      "metadata": {
        "id": "9vPAMQF5NKrZ"
      },
      "execution_count": null,
      "outputs": []
    },
    {
      "cell_type": "markdown",
      "source": [
        "CREATING A SVC\n"
      ],
      "metadata": {
        "id": "KfbSUs1bUM-d"
      }
    },
    {
      "cell_type": "code",
      "source": [
        "import pandas as pd\n",
        "from sklearn.model_selection import train_test_split\n",
        "from sklearn.preprocessing import StandardScaler\n",
        "from sklearn.svm import SVC\n",
        "from sklearn.svm import LinearSVC\n",
        "from sklearn.metrics import classification_report, accuracy_score, confusion_matrix\n",
        "import io\n",
        "import pandas as pd\n",
        "from google.colab import files"
      ],
      "metadata": {
        "id": "wDT94nuEUyxC"
      },
      "execution_count": null,
      "outputs": []
    },
    {
      "cell_type": "code",
      "source": [
        "X = df.drop('class', axis=1)\n",
        "y = df['class']\n",
        "X_train, X_test, y_train, y_test = train_test_split(X, y, test_size=0.2, random_state=42)\n",
        "\n",
        "svc_classifier = LinearSVC()\n",
        "\n",
        "svc_classifier.fit(X_train, y_train)"
      ],
      "metadata": {
        "id": "5R3XpRW0UOUB"
      },
      "execution_count": null,
      "outputs": []
    },
    {
      "cell_type": "code",
      "source": [
        "y_pred = svc_classifier.predict(X_test)\n",
        "print(\"\\nAccuracy:\", accuracy_score(y_test, y_pred)*100)"
      ],
      "metadata": {
        "id": "y4k1vMhoUY56"
      },
      "execution_count": null,
      "outputs": []
    },
    {
      "cell_type": "code",
      "source": [],
      "metadata": {
        "id": "vwYBJph1mH-C"
      },
      "execution_count": null,
      "outputs": []
    },
    {
      "cell_type": "code",
      "source": [
        "import m2cgen as m2c\n",
        "code = m2c.export_to_python(svc_classifier, function_name=\"classify\")\n",
        "code\n",
        "\n",
        "with open(\"LINEARsvc.py\",\"w\") as fp:\n",
        "  fp.write(code)\n",
        "\n",
        "\n",
        "\n"
      ],
      "metadata": {
        "id": "_FCl2KvpVbFD"
      },
      "execution_count": null,
      "outputs": []
    },
    {
      "cell_type": "code",
      "source": [
        "# predict function of the model\n",
        "import pandas as pd\n",
        "import numpy as np\n",
        "\n",
        "# test the classifier using predict, but w an i/p query\n",
        "input = np.array([29,\t42,\t31,\t51,\t125,\t93]).reshape(1,-1)\n",
        "# 29\t42\t31\t51\t125\t93\n",
        "pred = svc_classifier.predict(input)\n",
        "print(\"prediction result: {}\".format(pred))\n",
        "pred"
      ],
      "metadata": {
        "id": "fHV0gc0vZ5Ec"
      },
      "execution_count": null,
      "outputs": []
    },
    {
      "cell_type": "code",
      "source": [
        "\n",
        "from LINEARsvc import classify\n",
        "input = [37,60,44,51,122,93]\n",
        "pred = classify(input)\n",
        "\n",
        "\n",
        "print(pred)\n",
        "print(classes)\n"
      ],
      "metadata": {
        "id": "Anmyc0fJXGIM"
      },
      "execution_count": null,
      "outputs": []
    },
    {
      "cell_type": "code",
      "source": [
        "'''\n",
        "input = np.array([7, 17, 16, 36, 52, 31])\n",
        "input\n",
        "'''"
      ],
      "metadata": {
        "id": "yFGLAj0Ka4cG"
      },
      "execution_count": null,
      "outputs": []
    },
    {
      "cell_type": "code",
      "source": [
        "input = np.array([14,23,17,130,255,255]).reshape(1, -1)\n",
        "# pred = classify(input[0])\n",
        "pred=classify([29\t,42,\t31,\t51,\t125,\t93])\n",
        "print(pred)\n",
        "print(\"prediction result: {}\".format(pred))"
      ],
      "metadata": {
        "id": "cTWPAc3ncRpB"
      },
      "execution_count": null,
      "outputs": []
    },
    {
      "cell_type": "code",
      "source": [
        "res=pred.index(max(pred))\n",
        "print(\"index of class mapped\",res)\n",
        "mapped_class = classes[res]\n",
        "print(\"Mapped class:\", mapped_class)"
      ],
      "metadata": {
        "id": "Y8QBSxipmudj"
      },
      "execution_count": null,
      "outputs": []
    },
    {
      "cell_type": "code",
      "source": [],
      "metadata": {
        "id": "v5dOuPv_oyJG"
      },
      "execution_count": null,
      "outputs": []
    },
    {
      "cell_type": "code",
      "source": [
        "classes"
      ],
      "metadata": {
        "id": "DhOPQ7gHnD30"
      },
      "execution_count": null,
      "outputs": []
    },
    {
      "cell_type": "code",
      "source": [
        "input"
      ],
      "metadata": {
        "id": "fTeP71ZNcXPY"
      },
      "execution_count": null,
      "outputs": []
    },
    {
      "cell_type": "code",
      "source": [
        "input[0]"
      ],
      "metadata": {
        "id": "rBJI9TMXa-ll"
      },
      "execution_count": null,
      "outputs": []
    },
    {
      "cell_type": "code",
      "source": [
        "ip_data=[14,23,17,130,255,255]\n",
        "input_data_reshaped=([[ip_data]])\n",
        "pred=classify(input[0])\n",
        "pred"
      ],
      "metadata": {
        "id": "q6H9YPphbTUy"
      },
      "execution_count": null,
      "outputs": []
    },
    {
      "cell_type": "code",
      "source": [
        "print(classes)"
      ],
      "metadata": {
        "id": "-k18F8Y7dB77"
      },
      "execution_count": null,
      "outputs": []
    }
  ]
}